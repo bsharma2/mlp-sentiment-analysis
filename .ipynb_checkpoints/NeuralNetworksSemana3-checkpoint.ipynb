{
 "cells": [
  {
   "cell_type": "markdown",
   "metadata": {},
   "source": [
    "# Logistic Regression for Sentiment Analysis"
   ]
  },
  {
   "cell_type": "markdown",
   "metadata": {},
   "source": [
    "Adapted from http://nbviewer.jupyter.org/github/rasbt/pattern_classification/blob/master/machine_learning/scikit-learn/outofcore_modelpersistence.ipynb"
   ]
  },
  {
   "cell_type": "markdown",
   "metadata": {},
   "source": [
    "<br>\n",
    "<br>"
   ]
  },
  {
   "cell_type": "markdown",
   "metadata": {},
   "source": [
    "## The IMDb Movie Review Dataset"
   ]
  },
  {
   "cell_type": "markdown",
   "metadata": {},
   "source": [
    "In this section, we will train a simple logistic regression model to classify movie reviews from the 50k IMDb review dataset that has been collected by Maas et. al.\n",
    "\n",
    "> AL Maas, RE Daly, PT Pham, D Huang, AY Ng, and C Potts. Learning word vectors for sentiment analysis. In Proceedings of the 49th Annual Meeting of the Association for Computational Lin- guistics: Human Language Technologies, pages 142–150, Portland, Oregon, USA, June 2011. Association for Computational Linguistics\n",
    "\n",
    "[Source: http://ai.stanford.edu/~amaas/data/sentiment/]\n",
    "\n",
    "The dataset consists of 50,000 movie reviews from the original \"train\" and \"test\" subdirectories. The class labels are binary (1=positive and 0=negative) and contain 25,000 positive and 25,000 negative movie reviews, respectively.\n",
    "For simplicity, I assembled the reviews in a single CSV file.\n"
   ]
  },
  {
   "cell_type": "code",
   "execution_count": 90,
   "metadata": {},
   "outputs": [],
   "source": [
    "import re\n",
    "import collections\n",
    "import sys\n",
    "import time\n",
    "import numpy as np\n",
    "import pandas as pd\n",
    "from nltk.stem.porter import PorterStemmer\n",
    "from nltk.corpus import stopwords"
   ]
  },
  {
   "cell_type": "code",
   "execution_count": 91,
   "metadata": {},
   "outputs": [
    {
     "data": {
      "text/html": [
       "<div>\n",
       "<style scoped>\n",
       "    .dataframe tbody tr th:only-of-type {\n",
       "        vertical-align: middle;\n",
       "    }\n",
       "\n",
       "    .dataframe tbody tr th {\n",
       "        vertical-align: top;\n",
       "    }\n",
       "\n",
       "    .dataframe thead th {\n",
       "        text-align: right;\n",
       "    }\n",
       "</style>\n",
       "<table border=\"1\" class=\"dataframe\">\n",
       "  <thead>\n",
       "    <tr style=\"text-align: right;\">\n",
       "      <th></th>\n",
       "      <th>review</th>\n",
       "      <th>sentiment</th>\n",
       "    </tr>\n",
       "  </thead>\n",
       "  <tbody>\n",
       "    <tr>\n",
       "      <th>49995</th>\n",
       "      <td>OK, lets start with the best. the building. al...</td>\n",
       "      <td>0</td>\n",
       "    </tr>\n",
       "    <tr>\n",
       "      <th>49996</th>\n",
       "      <td>The British 'heritage film' industry is out of...</td>\n",
       "      <td>0</td>\n",
       "    </tr>\n",
       "    <tr>\n",
       "      <th>49997</th>\n",
       "      <td>I don't even know where to begin on this one. ...</td>\n",
       "      <td>0</td>\n",
       "    </tr>\n",
       "    <tr>\n",
       "      <th>49998</th>\n",
       "      <td>Richard Tyler is a little boy who is scared of...</td>\n",
       "      <td>0</td>\n",
       "    </tr>\n",
       "    <tr>\n",
       "      <th>49999</th>\n",
       "      <td>I waited long to watch this movie. Also becaus...</td>\n",
       "      <td>1</td>\n",
       "    </tr>\n",
       "  </tbody>\n",
       "</table>\n",
       "</div>"
      ],
      "text/plain": [
       "                                                  review  sentiment\n",
       "49995  OK, lets start with the best. the building. al...          0\n",
       "49996  The British 'heritage film' industry is out of...          0\n",
       "49997  I don't even know where to begin on this one. ...          0\n",
       "49998  Richard Tyler is a little boy who is scared of...          0\n",
       "49999  I waited long to watch this movie. Also becaus...          1"
      ]
     },
     "execution_count": 91,
     "metadata": {},
     "output_type": "execute_result"
    }
   ],
   "source": [
    "# if you want to download the original file:\n",
    "#df = pd.read_csv('https://raw.githubusercontent.com/rasbt/pattern_classification/master/data/50k_imdb_movie_reviews.csv')\n",
    "# otherwise load local file\n",
    "df = pd.read_csv('shuffled_movie_data.csv')\n",
    "df.tail()"
   ]
  },
  {
   "cell_type": "markdown",
   "metadata": {},
   "source": [
    "Let us shuffle the class labels."
   ]
  },
  {
   "cell_type": "code",
   "execution_count": 92,
   "metadata": {},
   "outputs": [
    {
     "data": {
      "text/plain": [
       "array(['In 1974, the teenager Martha Moxley (Maggie Grace) moves to the high-class area of Belle Haven, Greenwich, Connecticut. On the Mischief Night, eve of Halloween, she was murdered in the backyard of her house and her murder remained unsolved. Twenty-two years later, the writer Mark Fuhrman (Christopher Meloni), who is a former LA detective that has fallen in disgrace for perjury in O.J. Simpson trial and moved to Idaho, decides to investigate the case with his partner Stephen Weeks (Andrew Mitchell) with the purpose of writing a book. The locals squirm and do not welcome them, but with the support of the retired detective Steve Carroll (Robert Forster) that was in charge of the investigation in the 70\\'s, they discover the criminal and a net of power and money to cover the murder.<br /><br />\"Murder in Greenwich\" is a good TV movie, with the true story of a murder of a fifteen years old girl that was committed by a wealthy teenager whose mother was a Kennedy. The powerful and rich family used their influence to cover the murder for more than twenty years. However, a snoopy detective and convicted perjurer in disgrace was able to disclose how the hideous crime was committed. The screenplay shows the investigation of Mark and the last days of Martha in parallel, but there is a lack of the emotion in the dramatization. My vote is seven.<br /><br />Title (Brazil): Not Available',\n",
       "       1], dtype=object)"
      ]
     },
     "execution_count": 92,
     "metadata": {},
     "output_type": "execute_result"
    }
   ],
   "source": [
    "df.head().values[0]"
   ]
  },
  {
   "cell_type": "code",
   "execution_count": 93,
   "metadata": {},
   "outputs": [],
   "source": [
    "## uncomment these lines if you have dowloaded the original file:\n",
    "#np.random.seed(0)\n",
    "#df = df.reindex(np.random.permutation(df.index))\n",
    "#df[['review', 'sentiment']].to_csv('shuffled_movie_data.csv', index=False)"
   ]
  },
  {
   "cell_type": "markdown",
   "metadata": {},
   "source": [
    "<br>\n",
    "<br>"
   ]
  },
  {
   "cell_type": "markdown",
   "metadata": {},
   "source": [
    "## Preprocessing Text Data"
   ]
  },
  {
   "cell_type": "markdown",
   "metadata": {},
   "source": [
    "Now, let us define a simple `tokenizer` that splits the text into individual word tokens. Furthermore, we will use some simple regular expression to remove HTML markup and all non-letter characters but \"emoticons,\" convert the text to lower case, remove stopwords, and apply the Porter stemming algorithm to convert the words into their root form."
   ]
  },
  {
   "cell_type": "code",
   "execution_count": 94,
   "metadata": {},
   "outputs": [],
   "source": [
    "from nltk.stem import WordNetLemmatizer\n",
    "\n",
    "wordnet_lemmatizer = WordNetLemmatizer()\n",
    "#stop = stopwords.words('english')\n",
    "#porter = PorterStemmer()\n",
    "\n",
    "def tokenizer(text):\n",
    "    text = re.sub('<[^>]*>', '', text)\n",
    "    emoticons = re.findall('(?::|;|=)(?:-)?(?:\\)|\\(|D|P)', text.lower())\n",
    "    text = re.sub('[\\W]+', ' ', text.lower())\n",
    "    text = [w for w in text.split()]\n",
    "    tokenized = [wordnet_lemmatizer.lemmatize(w) for w in text]\n",
    "    return tokenized"
   ]
  },
  {
   "cell_type": "markdown",
   "metadata": {},
   "source": [
    "Let's give it at try:"
   ]
  },
  {
   "cell_type": "code",
   "execution_count": 95,
   "metadata": {},
   "outputs": [
    {
     "data": {
      "text/plain": [
       "['this', 'is', 'a', 'test']"
      ]
     },
     "execution_count": 95,
     "metadata": {},
     "output_type": "execute_result"
    }
   ],
   "source": [
    "tokenizer('This :) is a <a> test! :-)</br>')\n"
   ]
  },
  {
   "cell_type": "markdown",
   "metadata": {},
   "source": [
    "## Learning (SciKit)"
   ]
  },
  {
   "cell_type": "markdown",
   "metadata": {},
   "source": [
    "First, we define a generator that returns the document body and the corresponding class label:"
   ]
  },
  {
   "cell_type": "code",
   "execution_count": 107,
   "metadata": {},
   "outputs": [],
   "source": [
    "def stream_docs(path):\n",
    "    with open(path, 'r') as csv:\n",
    "        next(csv) # skip header\n",
    "        for line in csv:\n",
    "            text, label = line[:-3], int(line[-2])\n",
    "            yield text, label"
   ]
  },
  {
   "cell_type": "markdown",
   "metadata": {},
   "source": [
    "To conform that the `stream_docs` function fetches the documents as intended, let us execute the following code snippet before we implement the `get_minibatch` function:"
   ]
  },
  {
   "cell_type": "code",
   "execution_count": 108,
   "metadata": {},
   "outputs": [],
   "source": [
    "#next(stream_docs(path='shuffled_movie_data.csv'))"
   ]
  },
  {
   "cell_type": "markdown",
   "metadata": {},
   "source": [
    "After we confirmed that our `stream_docs` functions works, we will now implement a `get_minibatch` function to fetch a specified number (`size`) of documents:"
   ]
  },
  {
   "cell_type": "code",
   "execution_count": 109,
   "metadata": {},
   "outputs": [],
   "source": [
    "def get_minibatch(doc_stream, size):\n",
    "    docs, y = [], []\n",
    "    for _ in range(size):\n",
    "        text, label = next(doc_stream)\n",
    "        docs.append(text)\n",
    "        y.append(label)\n",
    "    return docs, y"
   ]
  },
  {
   "cell_type": "markdown",
   "metadata": {},
   "source": [
    "Next, we will make use of the \"hashing trick\" through scikit-learns [HashingVectorizer](http://scikit-learn.org/stable/modules/generated/sklearn.feature_extraction.text.HashingVectorizer.html) to create a bag-of-words model of our documents. Details of the bag-of-words model for document classification can be found at  [Naive Bayes and Text Classification I - Introduction and Theory](http://arxiv.org/abs/1410.5329)."
   ]
  },
  {
   "cell_type": "code",
   "execution_count": 110,
   "metadata": {},
   "outputs": [],
   "source": [
    "#from sklearn.feature_extraction.text import HashingVectorizer\n",
    "#vect = HashingVectorizer(decode_error='ignore', \n",
    "#                         n_features=2**21,\n",
    "#                         preprocessor=None, \n",
    "#                         tokenizer=tokenizer)\n",
    "\n",
    "# Exercise 1: define features based on word embeddings (pre-trained word2vec / Glove/Fastext emebddings can be used)\n",
    "# Define suitable d dimension, and sequence length"
   ]
  },
  {
   "cell_type": "code",
   "execution_count": 139,
   "metadata": {},
   "outputs": [],
   "source": [
    "doc_generator = stream_docs(path='shuffled_movie_data.csv')"
   ]
  },
  {
   "cell_type": "code",
   "execution_count": 141,
   "metadata": {},
   "outputs": [],
   "source": [
    "def bag_words(gen, size):\n",
    "    bag    = []\n",
    "    for i, doc in enumerate(gen):\n",
    "        bag += tokenizer(doc[0])\n",
    "        sys.stdout.write('\\r{:5.2f}%'.format(100*(i+1)/50000))\n",
    "    sys.stdout.write('\\rDone     \\n\\n')\n",
    "    print('Bag Size: ', len(bag))\n",
    "    count  = [['UNK', -1]]\n",
    "    count += collections.Counter(bag).most_common(size - 1)\n",
    "    \n",
    "    count  = [(word, cnt) for word, cnt in count if cnt not in [0,1]]\n",
    "    for element in count:\n",
    "        if element[1] == 1:\n",
    "            count.remove(element)\n",
    "    dic    = {}\n",
    "    for i, word in enumerate(count):\n",
    "        dic[word[0]] = i\n",
    "    \n",
    "    return dic , dict(zip(dic.values(), dic.keys()))"
   ]
  },
  {
   "cell_type": "code",
   "execution_count": 142,
   "metadata": {},
   "outputs": [
    {
     "name": "stdout",
     "output_type": "stream",
     "text": [
      "Done     \n",
      "\n",
      "Bag Size:  11772191\n"
     ]
    }
   ],
   "source": [
    "dic, rev_dic = bag_words(doc_generator, 80000) #63069"
   ]
  },
  {
   "cell_type": "code",
   "execution_count": 143,
   "metadata": {},
   "outputs": [],
   "source": [
    "FEATURES = len(dic.keys())"
   ]
  },
  {
   "cell_type": "code",
   "execution_count": 144,
   "metadata": {},
   "outputs": [
    {
     "name": "stdout",
     "output_type": "stream",
     "text": [
      "56325\n",
      "0\n"
     ]
    }
   ],
   "source": [
    "#del doc_generator\n",
    "\n",
    "print(FEATURES)\n",
    "print(dic['UNK'])"
   ]
  },
  {
   "cell_type": "code",
   "execution_count": 145,
   "metadata": {},
   "outputs": [],
   "source": [
    "class OneHotEncoder:\n",
    "    def __init__ (self, rev_dict):\n",
    "        self.size = len(rev_dict.values())\n",
    "        self.dict = rev_dict\n",
    "        \n",
    "    def __repr__ (self):\n",
    "        return ('OneHotEncoder Class (Size = {})'.format(self.n))\n",
    "        \n",
    "    def getVector(self, word):\n",
    "        vec = np.zeros((1, self.size))\n",
    "        vec[0, self.dict[word]] = 1\n",
    "        return vec"
   ]
  },
  {
   "cell_type": "code",
   "execution_count": 146,
   "metadata": {},
   "outputs": [],
   "source": [
    "class DocToVec:\n",
    "    \"\"\"\n",
    "        Convert a list of words to feature vectors:\n",
    "        \n",
    "        Arguments:\n",
    "            \n",
    "            n_features: number of features per vector, by default 6818.\n",
    "            fn        : tokenizer function\n",
    "    \"\"\"\n",
    "    \n",
    "    def __init__(self, dictionary, tokenizer):\n",
    "        self.encoder  = OneHotEncoder(dic) \n",
    "        self.dict     = dictionary\n",
    "        self.features = self.encoder.size\n",
    "        self.fn       = tokenizer\n",
    "        \n",
    "    def transform(self, DocList):\n",
    "        \"\"\"\n",
    "            Transform an array of list of words to a matrix:\n",
    "\n",
    "            Arguments:\n",
    "\n",
    "                DocList: Array of list of reviews\n",
    "\n",
    "            Returns:\n",
    "\n",
    "                Matrix with feature vectors of each review.\n",
    "\n",
    "        \"\"\"\n",
    "    \n",
    "        n   = len(DocList)\n",
    "        vec = np.zeros(shape=(n, self.features), dtype = np.uint8)\n",
    "        \n",
    "        total_time = 0\n",
    "        for idx, strn in enumerate(DocList):\n",
    "            start_time = time.time()\n",
    "            rev_tok    = self.fn(strn)\n",
    "            veci = np.zeros((1, self.features))\n",
    "            for word in rev_tok:\n",
    "                if word in self.dict:\n",
    "                    veci += self.encoder.getVector(word)\n",
    "            vec[idx] = veci\n",
    "            if ((idx+1) % 500 == 0):\n",
    "                elapsed  = time.time() - start_time\n",
    "                total_time += elapsed\n",
    "                total_time /= (idx+1/500)\n",
    "                print('percent = {:4.1f}%, time estimated : {:3.1f} min'.format(100*(idx+1)/n, n*elapsed/60.0))\n",
    "        return vec       "
   ]
  },
  {
   "cell_type": "markdown",
   "metadata": {},
   "source": [
    "Using the [SGDClassifier]() from scikit-learn, we will can instanciate a logistic regression classifier that learns from the documents incrementally using stochastic gradient descent. "
   ]
  },
  {
   "cell_type": "code",
   "execution_count": 147,
   "metadata": {},
   "outputs": [],
   "source": [
    "vec = DocToVec(dic, tokenizer)"
   ]
  },
  {
   "cell_type": "code",
   "execution_count": 149,
   "metadata": {},
   "outputs": [
    {
     "name": "stdout",
     "output_type": "stream",
     "text": [
      "the                  :  23 times\n",
      "of                   :  12 times\n",
      "in                   :  10 times\n",
      "a                    :  10 times\n",
      "and                  :   8 times\n",
      "wa                   :   6 times\n",
      "to                   :   6 times\n",
      "murder               :   5 times\n",
      "with                 :   4 times\n",
      "is                   :   4 times\n"
     ]
    }
   ],
   "source": [
    "l = vec.transform([df.head().values[0][0]])\n",
    "\n",
    "FirstReview = []\n",
    "for i in range(FEATURES):\n",
    "    if l[0][i] != 0:\n",
    "        FirstReview.append((rev_dic[i], int(l[0][i])))\n",
    "\n",
    "FirstReview.sort(key=lambda x: x[1])\n",
    "\n",
    "FirstReview = FirstReview[::-1]\n",
    "for i in range(10):\n",
    "    print('{:20} : {:3} times'.format(FirstReview[i][0], FirstReview[i][1]))"
   ]
  },
  {
   "cell_type": "code",
   "execution_count": 150,
   "metadata": {},
   "outputs": [
    {
     "name": "stdout",
     "output_type": "stream",
     "text": [
      "percent =  1.0%, time estimated : 22.3 min\n",
      "percent =  2.0%, time estimated : 7.7 min\n",
      "percent =  3.0%, time estimated : 3.8 min\n",
      "percent =  4.0%, time estimated : 5.0 min\n",
      "percent =  5.0%, time estimated : 16.4 min\n",
      "percent =  6.0%, time estimated : 11.5 min\n",
      "percent =  7.0%, time estimated : 3.2 min\n",
      "percent =  8.0%, time estimated : 6.7 min\n",
      "percent =  9.0%, time estimated : 7.2 min\n",
      "percent = 10.0%, time estimated : 5.5 min\n",
      "percent = 11.0%, time estimated : 16.6 min\n",
      "percent = 12.0%, time estimated : 7.4 min\n",
      "percent = 13.0%, time estimated : 1.9 min\n",
      "percent = 14.0%, time estimated : 5.9 min\n",
      "percent = 15.0%, time estimated : 11.6 min\n",
      "percent = 16.0%, time estimated : 16.3 min\n",
      "percent = 17.0%, time estimated : 9.9 min\n",
      "percent = 18.0%, time estimated : 7.6 min\n",
      "percent = 19.0%, time estimated : 37.9 min\n",
      "percent = 20.0%, time estimated : 2.1 min\n",
      "percent = 21.0%, time estimated : 12.0 min\n",
      "percent = 22.0%, time estimated : 3.1 min\n",
      "percent = 23.0%, time estimated : 18.2 min\n",
      "percent = 24.0%, time estimated : 8.7 min\n",
      "percent = 25.0%, time estimated : 4.4 min\n",
      "percent = 26.0%, time estimated : 4.5 min\n",
      "percent = 27.0%, time estimated : 8.4 min\n",
      "percent = 28.0%, time estimated : 29.3 min\n",
      "percent = 29.0%, time estimated : 7.2 min\n",
      "percent = 30.0%, time estimated : 1.7 min\n",
      "percent = 31.0%, time estimated : 10.2 min\n",
      "percent = 32.0%, time estimated : 40.8 min\n",
      "percent = 33.0%, time estimated : 7.0 min\n",
      "percent = 34.0%, time estimated : 7.2 min\n",
      "percent = 35.0%, time estimated : 6.3 min\n",
      "percent = 36.0%, time estimated : 4.5 min\n",
      "percent = 37.0%, time estimated : 8.5 min\n",
      "percent = 38.0%, time estimated : 8.5 min\n",
      "percent = 39.0%, time estimated : 5.4 min\n",
      "percent = 40.0%, time estimated : 24.6 min\n",
      "percent = 41.0%, time estimated : 6.4 min\n",
      "percent = 42.0%, time estimated : 4.6 min\n",
      "percent = 43.0%, time estimated : 20.2 min\n",
      "percent = 44.0%, time estimated : 5.7 min\n",
      "percent = 45.0%, time estimated : 8.8 min\n",
      "percent = 46.0%, time estimated : 12.0 min\n",
      "percent = 47.0%, time estimated : 19.3 min\n",
      "percent = 48.0%, time estimated : 7.1 min\n",
      "percent = 49.0%, time estimated : 7.6 min\n",
      "percent = 50.0%, time estimated : 3.4 min\n",
      "percent = 51.0%, time estimated : 10.3 min\n",
      "percent = 52.0%, time estimated : 8.4 min\n",
      "percent = 53.0%, time estimated : 7.8 min\n",
      "percent = 54.0%, time estimated : 33.0 min\n",
      "percent = 55.0%, time estimated : 9.0 min\n",
      "percent = 56.0%, time estimated : 6.6 min\n",
      "percent = 57.0%, time estimated : 6.9 min\n",
      "percent = 58.0%, time estimated : 4.9 min\n",
      "percent = 59.0%, time estimated : 6.6 min\n",
      "percent = 60.0%, time estimated : 3.0 min\n",
      "percent = 61.0%, time estimated : 5.2 min\n",
      "percent = 62.0%, time estimated : 6.2 min\n",
      "percent = 63.0%, time estimated : 17.5 min\n",
      "percent = 64.0%, time estimated : 9.5 min\n",
      "percent = 65.0%, time estimated : 3.7 min\n",
      "percent = 66.0%, time estimated : 7.2 min\n",
      "percent = 67.0%, time estimated : 10.1 min\n",
      "percent = 68.0%, time estimated : 6.0 min\n",
      "percent = 69.0%, time estimated : 12.2 min\n",
      "percent = 70.0%, time estimated : 9.4 min\n",
      "percent = 71.0%, time estimated : 6.2 min\n",
      "percent = 72.0%, time estimated : 6.7 min\n",
      "percent = 73.0%, time estimated : 9.4 min\n",
      "percent = 74.0%, time estimated : 6.7 min\n",
      "percent = 75.0%, time estimated : 14.5 min\n",
      "percent = 76.0%, time estimated : 12.8 min\n",
      "percent = 77.0%, time estimated : 10.6 min\n",
      "percent = 78.0%, time estimated : 17.0 min\n",
      "percent = 79.0%, time estimated : 5.8 min\n",
      "percent = 80.0%, time estimated : 5.6 min\n",
      "percent = 81.0%, time estimated : 6.5 min\n",
      "percent = 82.0%, time estimated : 7.8 min\n",
      "percent = 83.0%, time estimated : 7.1 min\n",
      "percent = 84.0%, time estimated : 24.0 min\n",
      "percent = 85.0%, time estimated : 19.3 min\n",
      "percent = 86.0%, time estimated : 7.3 min\n",
      "percent = 87.0%, time estimated : 5.7 min\n",
      "percent = 88.0%, time estimated : 8.0 min\n",
      "percent = 89.0%, time estimated : 7.9 min\n",
      "percent = 90.0%, time estimated : 6.4 min\n",
      "percent = 91.0%, time estimated : 41.8 min\n",
      "percent = 92.0%, time estimated : 3.1 min\n",
      "percent = 93.0%, time estimated : 4.2 min\n",
      "percent = 94.0%, time estimated : 5.4 min\n",
      "percent = 95.0%, time estimated : 6.4 min\n",
      "percent = 96.0%, time estimated : 13.4 min\n",
      "percent = 97.0%, time estimated : 2.8 min\n",
      "percent = 98.0%, time estimated : 4.5 min\n",
      "percent = 99.0%, time estimated : 5.3 min\n",
      "percent = 100.0%, time estimated : 1.8 min\n"
     ]
    }
   ],
   "source": [
    "## Uncomment these lines if you don't save 'vec_data_X' and 'vec_data_y':\n",
    "stream = stream_docs(path='shuffled_movie_data.csv')\n",
    "\n",
    "X_train, y_train = get_minibatch(stream, size=50000)\n",
    "y_train = np.asarray(y_train).reshape((-1, 1))\n",
    "\n",
    "X_train = vec.transform(X_train)\n",
    "\n",
    "np.save('vec_data_X', X_train)\n",
    "np.save('vec_data_y', y_train)"
   ]
  },
  {
   "cell_type": "code",
   "execution_count": 134,
   "metadata": {},
   "outputs": [],
   "source": [
    "#from sklearn.linear_model import SGDClassifier\n",
    "#clf = SGDClassifier(loss='log', random_state=1, n_iter=1)\n",
    "#doc_stream = stream_docs(path='shuffled_movie_data.csv')\n",
    "# Exercise 2: Define at least a Three layer neural network. Define its structure (number of hidden neurons, etc)\n",
    "# Define a nonlinear function for hidden layers.\n",
    "# Define a suitable loss function for binary classification\n",
    "# Implement the backpropagation algorithm for this structure\n",
    "# Do not use Keras / Tensorflow /PyTorch etc. libraries\n",
    "# Train the model using SGD"
   ]
  },
  {
   "cell_type": "code",
   "execution_count": 151,
   "metadata": {},
   "outputs": [],
   "source": [
    "X_train = np.load('vec_data_X.npy')\n",
    "y_train = np.load('vec_data_y.npy')"
   ]
  },
  {
   "cell_type": "code",
   "execution_count": 152,
   "metadata": {},
   "outputs": [
    {
     "name": "stdout",
     "output_type": "stream",
     "text": [
      "(50000, 56325)\n",
      "(50000, 1)\n"
     ]
    }
   ],
   "source": [
    "from sklearn.preprocessing import normalize\n",
    "\n",
    "print(X_train.shape)\n",
    "print(y_train.shape)"
   ]
  },
  {
   "cell_type": "code",
   "execution_count": 153,
   "metadata": {},
   "outputs": [
    {
     "name": "stdout",
     "output_type": "stream",
     "text": [
      "(30000, 56325) (30000, 1)\n",
      "(10000, 56325) (10000, 1)\n",
      "(10000, 56325) (10000, 1)\n"
     ]
    }
   ],
   "source": [
    "X_data_train = X_train[:30000]\n",
    "y_data_train = y_train[:30000]\n",
    "\n",
    "X_data_valid = X_train[30000:40000]\n",
    "y_data_valid = y_train[30000:40000]\n",
    "\n",
    "X_data_test  = X_train[40000:]\n",
    "y_data_test  = y_train[40000:]\n",
    "\n",
    "print(X_data_train.shape, y_data_train.shape)\n",
    "print(X_data_valid.shape, y_data_valid.shape)\n",
    "print(X_data_test.shape, y_data_test.shape)"
   ]
  },
  {
   "cell_type": "code",
   "execution_count": 210,
   "metadata": {},
   "outputs": [],
   "source": [
    "class log_regr:\n",
    "    \"\"\"\n",
    "        Logistic Regression with L1 and L2 regularization\n",
    "        \n",
    "        Arguments:\n",
    "                \n",
    "                W       : Weights\n",
    "                b       : Bias\n",
    "                alpha   : Learning Rate\n",
    "                l1_coef : Lambda 1\n",
    "                l2_coef : Lambda 2\n",
    "            \n",
    "    \"\"\"\n",
    "    \n",
    "    def __init__ (self, W, b, alpha, lambda_1, lambda_2):\n",
    "        self.W       = W\n",
    "        self.b       = b\n",
    "        self.alpha   = alpha\n",
    "        self.l1_coef = lambda_1\n",
    "        self.l2_coef = lambda_2\n",
    "        \n",
    "    def sigmoid(self,z):\n",
    "        \"\"\"\n",
    "            Activation function\n",
    "            \n",
    "            Arguments:  \n",
    "                z : W*X + b\n",
    "                \n",
    "            Returns:\n",
    "                sigmoid function of z.\n",
    "                \n",
    "        \"\"\"\n",
    "        return 1 / (1 + np.exp(-z))\n",
    "    \n",
    "    def pred(self, X):\n",
    "        \"\"\"\n",
    "            Given a X matrix as a input we return the prediction for\n",
    "            W and b.\n",
    "            \n",
    "            Args:\n",
    "                X : Matrix of features vectors for each review\n",
    "            \n",
    "            Returns:\n",
    "                Prediction without a threshold\n",
    "        \"\"\"\n",
    "        \n",
    "        return self.sigmoid(np.matmul(X, self.W) + self.b)\n",
    "\n",
    "    def predSentiment(self, X):\n",
    "        \"\"\"\n",
    "            Given a X matrix as a input we return the prediction with threshold \n",
    "            for W and b.\n",
    "            \n",
    "            Args:\n",
    "                X : Matrix of features vectors for each review\n",
    "            \n",
    "            Returns:\n",
    "                Prediction with threshold\n",
    "        \"\"\"\n",
    "        \n",
    "        return self.sigmoid(np.matmul(X, self.W) + self.b)[0][0] > 0.5\n",
    "    \n",
    "    def acc(self, X, y):\n",
    "        \"\"\"\n",
    "            Accuracy of a input and label\n",
    "            \n",
    "            Args:\n",
    "                X: Matrix of features vectors for each review\n",
    "                y: Labels of each Matrix\n",
    "            \n",
    "            Returns:\n",
    "                A number between 0 and 1.0\n",
    "        \"\"\"\n",
    "        pred_lim = self.pred(X) > 0.5\n",
    "        return np.mean(pred_lim == y)\n",
    "    \n",
    "    def cross_entropy(self, X, y):\n",
    "        \"\"\"\n",
    "            Cost function\n",
    "            \n",
    "                Cost = - [y * log(sigma(W*X + b)) + (1 - y) * log(1 - sigma(W*X + b))] \n",
    "                         + 0.5 * l2_ratio * ||w||^2_2 \n",
    "                         + l1_ratio * ||w||_1 \n",
    "            \n",
    "            Args:\n",
    "                X: Matrix of features vectors for each review\n",
    "                y: Labels of each Matrix\n",
    "                \n",
    "            Returns:\n",
    "                Cost using L1 and L2 regularizations \n",
    "                \n",
    "        \"\"\"\n",
    "        return - 0.5 * np.mean(np.multiply(y  , np.log(self.pred(X)     + 1e-8))\n",
    "                       + np.multiply(1-y, np.log(1 - self.pred(X) + 1e-8))) + \\\n",
    "                    0.5 * self.l2_coef * np.mean(np.square(self.W)) + \\\n",
    "                          self.l1_coef * np.mean(np.abs(self.W))\n",
    "    \n",
    "    def fit(self, X, y):\n",
    "        \"\"\"\n",
    "            function to minimize the Cost\n",
    "            \n",
    "            Args:\n",
    "                X: Matrix of features vectors for each review\n",
    "                y: Labels of each Matrix\n",
    "            \n",
    "        \"\"\"\n",
    "        \n",
    "        self.W = self.W - self.alpha * np.matmul(np.transpose(X), self.pred(X) - y) / X.shape[0] - \\\n",
    "                          self.alpha * self.l2_coef * self.W - \\\n",
    "                          self.alpha * self.l1_coef * np.multiply(self.W, 1 / np.abs(self.W))\n",
    "        self.b = self.b - self.alpha * np.mean(self.pred(X) - y)  "
   ]
  },
  {
   "cell_type": "code",
   "execution_count": 217,
   "metadata": {},
   "outputs": [
    {
     "name": "stdout",
     "output_type": "stream",
     "text": [
      "  1 epoch : 755.41 docs/s, loss_train = 1.8468, loss_val = 0.9057, acc_train = 0.735, acc_test = 0.721\n",
      "  2 epoch : 806.59 docs/s, loss_train = 1.1137, loss_val = 0.4405, acc_train = 0.830, acc_test = 0.822\n",
      "  3 epoch : 831.92 docs/s, loss_train = 0.8793, loss_val = 0.3902, acc_train = 0.847, acc_test = 0.837\n",
      "  4 epoch : 806.05 docs/s, loss_train = 0.7971, loss_val = 0.3540, acc_train = 0.860, acc_test = 0.847\n",
      "  5 epoch : 829.27 docs/s, loss_train = 0.7008, loss_val = 0.3158, acc_train = 0.873, acc_test = 0.857\n",
      "  6 epoch : 823.87 docs/s, loss_train = 0.6843, loss_val = 0.3379, acc_train = 0.869, acc_test = 0.855\n",
      "  7 epoch : 820.46 docs/s, loss_train = 0.6154, loss_val = 0.3292, acc_train = 0.872, acc_test = 0.857\n",
      "  8 epoch : 816.23 docs/s, loss_train = 0.5786, loss_val = 0.2913, acc_train = 0.885, acc_test = 0.868\n",
      "  9 epoch : 825.80 docs/s, loss_train = 0.5801, loss_val = 0.5079, acc_train = 0.828, acc_test = 0.816\n",
      " 10 epoch : 842.41 docs/s, loss_train = 0.5343, loss_val = 0.2950, acc_train = 0.885, acc_test = 0.867\n"
     ]
    }
   ],
   "source": [
    "FEATURES = X_data_train.shape[1]\n",
    "W_ = np.random.normal(0, 0.001, (FEATURES,1))\n",
    "b_ = 0.0\n",
    "lr = 0.15\n",
    "\n",
    "# lr = 0.18, l1,l2=1e-5, batch 1= 100, batch2 = 100, epoch=10 :: All Test Good!\n",
    "# lr = 0.15, l1,l2=1e-4, batch 1= 100, batch2 = 200, epoch=10 :: All Test Good!\n",
    "lambda1 = 1e-4\n",
    "lambda2 = 1e-4\n",
    "\n",
    "regr  = log_regr(W_, b_, lr, lambda1, lambda2)\n",
    "\n",
    "BATCH  = 100\n",
    "BATCH2 = 200\n",
    "STEP   = 1\n",
    "fmt    = '{:3d} epoch: {:5.2f} d/s, loss_train = {:5.4f}, loss_val = {:5.4f}, acc_train = {:4.3f}, acc_test = {:4.3f}'\n",
    "NEPOCH = 10\n",
    "\n",
    "train_epoch     = []\n",
    "valid_epoch     = []\n",
    "acc_train_epoch = []\n",
    "acc_test_epoch  = []\n",
    "\n",
    "for i in range(NEPOCH):\n",
    "    loss_t  = 0.0\n",
    "    n_batch = X_data_train.shape[0]/BATCH\n",
    "    st = time.time()\n",
    "    for i_batch in range(0,X_data_train.shape[0], BATCH):\n",
    "        X_batch = X_data_train[i_batch:i_batch+BATCH]\n",
    "        y_batch = y_data_train[i_batch:i_batch+BATCH]\n",
    "        regr.fit(X_batch , y_batch)\n",
    "        loss_tmp = regr.cross_entropy(X_batch, y_batch)\n",
    "        loss_t  += loss_tmp\n",
    "        #if i_batch  % 10000 == 0:\n",
    "        #    print('-> i_batch : [{:6d} - {:6d}], loss_temp = {:5.4f}'.format(i_batch, i_batch + BATCH,loss_tmp))\n",
    "    dt   = time.time() - st\n",
    "        \n",
    "    if (i+1)%STEP == 0:\n",
    "        train_epoch.append(loss_t/n_batch)\n",
    "        acc_train = 0\n",
    "        for i_batch in range(0,X_data_train.shape[0], BATCH):\n",
    "            X_batch_   = X_data_train[i_batch:i_batch+BATCH]\n",
    "            y_batch_   = y_data_train[i_batch:i_batch+BATCH]\n",
    "            acc_train += regr.acc(X_batch_, y_batch_)\n",
    "        \n",
    "        acc_train_epoch.append(acc_train/n_batch)\n",
    "        loss_valid = 0\n",
    "        acc_test   = 0\n",
    "        \n",
    "        v_batch = X_data_valid.shape[0]/BATCH2\n",
    "        for i_batch in range(0,X_data_valid.shape[0], BATCH2):\n",
    "            X_batch_v = X_data_valid[i_batch:i_batch+BATCH2]\n",
    "            y_batch_v = y_data_valid[i_batch:i_batch+BATCH2]\n",
    "            \n",
    "            loss_valid += regr.cross_entropy(X_batch_v, y_batch_v)\n",
    "            \n",
    "            X_batch_t = X_data_test[i_batch:i_batch+BATCH2]\n",
    "            y_batch_t = y_data_test[i_batch:i_batch+BATCH2]\n",
    "            \n",
    "            acc_test += regr.acc(X_batch_t, y_batch_t)\n",
    "        valid_epoch.append(loss_valid/v_batch)\n",
    "        acc_test_epoch.append(acc_test/v_batch)\n",
    "        print(fmt.format((i+1), (X_data_train.shape[0])/dt,\n",
    "                                      loss_t/n_batch, \n",
    "                                      loss_valid/v_batch,\n",
    "                                      acc_train/n_batch,\n",
    "                                      acc_test/v_batch))"
   ]
  },
  {
   "cell_type": "code",
   "execution_count": 218,
   "metadata": {},
   "outputs": [
    {
     "data": {
      "image/png": "[encoded data removed]",
      "text/plain": [
       "<Figure size 1008x576 with 1 Axes>"
      ]
     },
     "metadata": {
      "needs_background": "light"
     },
     "output_type": "display_data"
    }
   ],
   "source": [
    "import matplotlib.pyplot as plt\n",
    "\n",
    "ep = np.arange(1, NEPOCH + 1, 1)\n",
    "\n",
    "fig, ax = plt.subplots(figsize=(14, 8))\n",
    "l1 , l2   = ax.plot(ep, train_epoch, ep, valid_epoch)\n",
    "ax.set(xlabel='Epoch', ylabel='Cost', title='Logistic Regression with L1 and L2 regularization')\n",
    "ax.axis([0.8, NEPOCH + 1, 0.0, 3])\n",
    "plt.legend([l1, l2],[\"Training\",\"Validation\"])\n",
    "plt.show()"
   ]
  },
  {
   "cell_type": "markdown",
   "metadata": {},
   "source": [
    "Depending on your machine, it will take about 2-3 minutes to stream the documents and learn the weights for the logistic regression model to classify \"new\" movie reviews. Executing the preceding code, we used the first 45,000 movie reviews to train the classifier, which means that we have 5,000 reviews left for testing:"
   ]
  },
  {
   "cell_type": "code",
   "execution_count": 219,
   "metadata": {},
   "outputs": [
    {
     "data": {
      "image/png": "[encoded data removed]",
      "text/plain": [
       "<Figure size 1008x576 with 1 Axes>"
      ]
     },
     "metadata": {
      "needs_background": "light"
     },
     "output_type": "display_data"
    }
   ],
   "source": [
    "fig, ax = plt.subplots(figsize=(14, 8))\n",
    "\n",
    "l3, l4  = ax.plot(ep, acc_train_epoch, ep, acc_test_epoch)\n",
    "ax.set(xlabel='Epoch', ylabel='Accuracy', title='Multiple Layer Perceptron')\n",
    "\n",
    "plt.legend([l3, l4],[\"Train Accuracy\", \"Test Accuracy\"])\n",
    "plt.show()"
   ]
  },
  {
   "cell_type": "code",
   "execution_count": 220,
   "metadata": {},
   "outputs": [
    {
     "name": "stdout",
     "output_type": "stream",
     "text": [
      "[[0.72582708]]\n"
     ]
    },
    {
     "data": {
      "text/plain": [
       "True"
      ]
     },
     "execution_count": 220,
     "metadata": {},
     "output_type": "execute_result"
    }
   ],
   "source": [
    "#Exercise 3: compare  with your Neural Network\n",
    "\n",
    "example = ['I loved this movie']\n",
    "X = vec.transform(example)\n",
    "#regr.predSentiment(X)\n",
    "print(regr.pred(X))\n",
    "regr.pred(X)[0][0] > 0.5"
   ]
  },
  {
   "cell_type": "code",
   "execution_count": 221,
   "metadata": {},
   "outputs": [
    {
     "name": "stdout",
     "output_type": "stream",
     "text": [
      "[[0.44962698]]\n"
     ]
    },
    {
     "data": {
      "text/plain": [
       "False"
      ]
     },
     "execution_count": 221,
     "metadata": {},
     "output_type": "execute_result"
    }
   ],
   "source": [
    "example = ['I hate this movie']\n",
    "X = vec.transform(example)\n",
    "#regr.predSentiment(X)\n",
    "print(regr.pred(X))\n",
    "regr.pred(X)[0][0] > 0.5"
   ]
  },
  {
   "cell_type": "code",
   "execution_count": 222,
   "metadata": {},
   "outputs": [
    {
     "name": "stdout",
     "output_type": "stream",
     "text": [
      "[[0.48735872]]\n"
     ]
    },
    {
     "data": {
      "text/plain": [
       "False"
      ]
     },
     "execution_count": 222,
     "metadata": {},
     "output_type": "execute_result"
    }
   ],
   "source": [
    "example = [\"I don't love this movie\"]\n",
    "X = vec.transform(example)\n",
    "#regr.predSentiment(X)\n",
    "print(regr.pred(X))\n",
    "regr.pred(X)[0][0] > 0.5"
   ]
  },
  {
   "cell_type": "code",
   "execution_count": 223,
   "metadata": {},
   "outputs": [
    {
     "name": "stdout",
     "output_type": "stream",
     "text": [
      "[[0.46714408]]\n"
     ]
    },
    {
     "data": {
      "text/plain": [
       "False"
      ]
     },
     "execution_count": 223,
     "metadata": {},
     "output_type": "execute_result"
    }
   ],
   "source": [
    "example = [\"I do not love this movie\"]\n",
    "X = vec.transform(example)\n",
    "#regr.predSentiment(X)\n",
    "print(regr.pred(X))\n",
    "regr.pred(X)[0][0] > 0.5"
   ]
  },
  {
   "cell_type": "markdown",
   "metadata": {},
   "source": [
    "I think that the predictive performance, an accuracy of ~87%, is quite \"reasonable\" given that we \"only\" used the default parameters and didn't do any hyperparameter optimization. \n",
    "\n",
    "After we estimated the model perfomance, let us use those last 5,000 test samples to update our model."
   ]
  },
  {
   "cell_type": "markdown",
   "metadata": {},
   "source": [
    "<br>\n",
    "<br>"
   ]
  },
  {
   "cell_type": "markdown",
   "metadata": {
    "collapsed": true
   },
   "source": [
    "# Model Persistence"
   ]
  },
  {
   "cell_type": "markdown",
   "metadata": {},
   "source": [
    "In the previous section, we successfully trained a model to predict the sentiment of a movie review. Unfortunately, if we'd close this IPython notebook at this point, we'd have to go through the whole learning process again and again if we'd want to make a prediction on \"new data.\"\n",
    "\n",
    "So, to reuse this model, we could use the [`pickle`](https://docs.python.org/3.5/library/pickle.html) module to \"serialize a Python object structure\". Or even better, we could use the [`joblib`](https://pypi.python.org/pypi/joblib) library, which handles large NumPy arrays more efficiently.\n",
    "\n",
    "To install:\n",
    "conda install -c anaconda joblib"
   ]
  },
  {
   "cell_type": "code",
   "execution_count": 18,
   "metadata": {},
   "outputs": [],
   "source": [
    "import joblib\n",
    "import os\n",
    "if not os.path.exists('./pkl_objects'):\n",
    "    os.mkdir('./pkl_objects')\n",
    "    \n",
    "joblib.dump(vec, './vectorizer.pkl')\n",
    "joblib.dump(regr,'./regr.pkl')"
   ]
  },
  {
   "cell_type": "markdown",
   "metadata": {},
   "source": [
    "Using the code above, we \"pickled\" the `HashingVectorizer` and the `SGDClassifier` so that we can re-use those objects later. However, `pickle` and `joblib` have a known issue with `pickling` objects or functions from a `__main__` block and we'd get an `AttributeError: Can't get attribute [x] on <module '__main__'>` if we'd unpickle it later. Thus, to pickle the `tokenizer` function, we can write it to a file and import it to get the `namespace` \"right\"."
   ]
  },
  {
   "cell_type": "code",
   "execution_count": 19,
   "metadata": {},
   "outputs": [],
   "source": [
    "#%%writefile tokenizer.py\n",
    "#from nltk.stem.porter import PorterStemmer\n",
    "#import re\n",
    "#from nltk.corpus import stopwords\n",
    "\n",
    "#stop = stopwords.words('english')\n",
    "#porter = PorterStemmer()\n",
    "\n",
    "#def tokenizer(text):\n",
    "#    text = re.sub('<[^>]*>', '', text)\n",
    "#    emoticons = re.findall('(?::|;|=)(?:-)?(?:\\)|\\(|D|P)', text.lower())\n",
    "#    text = re.sub('[\\W]+', ' ', text.lower()) + ' '.join(emoticons).replace('-', '')\n",
    "#    text = [w for w in text.split() if w not in stop]\n",
    "#    tokenized = [porter.stem(w) for w in text]\n",
    "#    return text"
   ]
  },
  {
   "cell_type": "code",
   "execution_count": 20,
   "metadata": {},
   "outputs": [],
   "source": [
    "#from tokenizer import tokenizer\n",
    "#joblib.dump(tokenizer, './tokenizer.pkl')"
   ]
  },
  {
   "cell_type": "markdown",
   "metadata": {},
   "source": [
    "Now, let us restart this IPython notebook and check if the we can load our serialized objects:"
   ]
  },
  {
   "cell_type": "code",
   "execution_count": 21,
   "metadata": {},
   "outputs": [],
   "source": [
    "#import joblib\n",
    "#tokenizer = joblib.load('./tokenizer.pkl')\n",
    "#vect = joblib.load('./vectorizer.pkl')\n",
    "#clf = joblib.load('./clf.pkl')"
   ]
  },
  {
   "cell_type": "markdown",
   "metadata": {},
   "source": [
    "After loading the `tokenizer`, `HashingVectorizer`, and the tranined logistic regression model, we can use it to make predictions on new data, which can be useful, for example, if we'd want to embed our classifier into a web application -- a topic for another IPython notebook."
   ]
  },
  {
   "cell_type": "code",
   "execution_count": 22,
   "metadata": {},
   "outputs": [],
   "source": [
    "#example = ['I did not like this movie']\n",
    "#X = vect.transform(example)\n",
    "#clf.predict(X)"
   ]
  },
  {
   "cell_type": "code",
   "execution_count": 23,
   "metadata": {},
   "outputs": [],
   "source": [
    "#example = ['I loved this movie']\n",
    "#X = vect.transform(example)\n",
    "#clf.predict(X)"
   ]
  }
 ],
 "metadata": {
  "kernelspec": {
   "display_name": "Python 3",
   "language": "python",
   "name": "python3"
  },
  "language_info": {
   "codemirror_mode": {
    "name": "ipython",
    "version": 3
   },
   "file_extension": ".py",
   "mimetype": "text/x-python",
   "name": "python",
   "nbconvert_exporter": "python",
   "pygments_lexer": "ipython3",
   "version": "3.5.2"
  }
 },
 "nbformat": 4,
 "nbformat_minor": 1
}
