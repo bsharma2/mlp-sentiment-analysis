{
 "cells": [
  {
   "cell_type": "markdown",
   "metadata": {},
   "source": [
    "# Logistic Regression for Sentiment Analysis"
   ]
  },
  {
   "cell_type": "markdown",
   "metadata": {},
   "source": [
    "Adapted from http://nbviewer.jupyter.org/github/rasbt/pattern_classification/blob/master/machine_learning/scikit-learn/outofcore_modelpersistence.ipynb"
   ]
  },
  {
   "cell_type": "markdown",
   "metadata": {},
   "source": [
    "<br>\n",
    "<br>"
   ]
  },
  {
   "cell_type": "markdown",
   "metadata": {},
   "source": [
    "## The IMDb Movie Review Dataset"
   ]
  },
  {
   "cell_type": "markdown",
   "metadata": {},
   "source": [
    "In this section, we will train a simple logistic regression model to classify movie reviews from the 50k IMDb review dataset that has been collected by Maas et. al.\n",
    "\n",
    "> AL Maas, RE Daly, PT Pham, D Huang, AY Ng, and C Potts. Learning word vectors for sentiment analysis. In Proceedings of the 49th Annual Meeting of the Association for Computational Lin- guistics: Human Language Technologies, pages 142–150, Portland, Oregon, USA, June 2011. Association for Computational Linguistics\n",
    "\n",
    "[Source: http://ai.stanford.edu/~amaas/data/sentiment/]\n",
    "\n",
    "The dataset consists of 50,000 movie reviews from the original \"train\" and \"test\" subdirectories. The class labels are binary (1=positive and 0=negative) and contain 25,000 positive and 25,000 negative movie reviews, respectively.\n",
    "For simplicity, I assembled the reviews in a single CSV file.\n"
   ]
  },
  {
   "cell_type": "code",
   "execution_count": 227,
   "metadata": {},
   "outputs": [],
   "source": [
    "import re\n",
    "import collections\n",
    "import sys\n",
    "import time\n",
    "import numpy as np\n",
    "import pandas as pd\n",
    "import matplotlib.pyplot as plt\n",
    "from nltk.stem.porter import PorterStemmer\n",
    "from nltk.corpus import stopwords"
   ]
  },
  {
   "cell_type": "code",
   "execution_count": 4,
   "metadata": {},
   "outputs": [
    {
     "data": {
      "text/html": [
       "<div>\n",
       "<style scoped>\n",
       "    .dataframe tbody tr th:only-of-type {\n",
       "        vertical-align: middle;\n",
       "    }\n",
       "\n",
       "    .dataframe tbody tr th {\n",
       "        vertical-align: top;\n",
       "    }\n",
       "\n",
       "    .dataframe thead th {\n",
       "        text-align: right;\n",
       "    }\n",
       "</style>\n",
       "<table border=\"1\" class=\"dataframe\">\n",
       "  <thead>\n",
       "    <tr style=\"text-align: right;\">\n",
       "      <th></th>\n",
       "      <th>review</th>\n",
       "      <th>sentiment</th>\n",
       "    </tr>\n",
       "  </thead>\n",
       "  <tbody>\n",
       "    <tr>\n",
       "      <th>49995</th>\n",
       "      <td>OK, lets start with the best. the building. al...</td>\n",
       "      <td>0</td>\n",
       "    </tr>\n",
       "    <tr>\n",
       "      <th>49996</th>\n",
       "      <td>The British 'heritage film' industry is out of...</td>\n",
       "      <td>0</td>\n",
       "    </tr>\n",
       "    <tr>\n",
       "      <th>49997</th>\n",
       "      <td>I don't even know where to begin on this one. ...</td>\n",
       "      <td>0</td>\n",
       "    </tr>\n",
       "    <tr>\n",
       "      <th>49998</th>\n",
       "      <td>Richard Tyler is a little boy who is scared of...</td>\n",
       "      <td>0</td>\n",
       "    </tr>\n",
       "    <tr>\n",
       "      <th>49999</th>\n",
       "      <td>I waited long to watch this movie. Also becaus...</td>\n",
       "      <td>1</td>\n",
       "    </tr>\n",
       "  </tbody>\n",
       "</table>\n",
       "</div>"
      ],
      "text/plain": [
       "                                                  review  sentiment\n",
       "49995  OK, lets start with the best. the building. al...          0\n",
       "49996  The British 'heritage film' industry is out of...          0\n",
       "49997  I don't even know where to begin on this one. ...          0\n",
       "49998  Richard Tyler is a little boy who is scared of...          0\n",
       "49999  I waited long to watch this movie. Also becaus...          1"
      ]
     },
     "execution_count": 4,
     "metadata": {},
     "output_type": "execute_result"
    }
   ],
   "source": [
    "# if you want to download the original file:\n",
    "#df = pd.read_csv('https://raw.githubusercontent.com/rasbt/pattern_classification/master/data/50k_imdb_movie_reviews.csv')\n",
    "# otherwise load local file\n",
    "df = pd.read_csv('shuffled_movie_data.csv')\n",
    "df.tail()"
   ]
  },
  {
   "cell_type": "markdown",
   "metadata": {},
   "source": [
    "Let us shuffle the class labels."
   ]
  },
  {
   "cell_type": "code",
   "execution_count": 5,
   "metadata": {},
   "outputs": [
    {
     "data": {
      "text/plain": [
       "array(['In 1974, the teenager Martha Moxley (Maggie Grace) moves to the high-class area of Belle Haven, Greenwich, Connecticut. On the Mischief Night, eve of Halloween, she was murdered in the backyard of her house and her murder remained unsolved. Twenty-two years later, the writer Mark Fuhrman (Christopher Meloni), who is a former LA detective that has fallen in disgrace for perjury in O.J. Simpson trial and moved to Idaho, decides to investigate the case with his partner Stephen Weeks (Andrew Mitchell) with the purpose of writing a book. The locals squirm and do not welcome them, but with the support of the retired detective Steve Carroll (Robert Forster) that was in charge of the investigation in the 70\\'s, they discover the criminal and a net of power and money to cover the murder.<br /><br />\"Murder in Greenwich\" is a good TV movie, with the true story of a murder of a fifteen years old girl that was committed by a wealthy teenager whose mother was a Kennedy. The powerful and rich family used their influence to cover the murder for more than twenty years. However, a snoopy detective and convicted perjurer in disgrace was able to disclose how the hideous crime was committed. The screenplay shows the investigation of Mark and the last days of Martha in parallel, but there is a lack of the emotion in the dramatization. My vote is seven.<br /><br />Title (Brazil): Not Available',\n",
       "       1], dtype=object)"
      ]
     },
     "execution_count": 5,
     "metadata": {},
     "output_type": "execute_result"
    }
   ],
   "source": [
    "df.head().values[0]"
   ]
  },
  {
   "cell_type": "code",
   "execution_count": 6,
   "metadata": {},
   "outputs": [],
   "source": [
    "## uncomment these lines if you have dowloaded the original file:\n",
    "#np.random.seed(0)\n",
    "#df = df.reindex(np.random.permutation(df.index))\n",
    "#df[['review', 'sentiment']].to_csv('shuffled_movie_data.csv', index=False)"
   ]
  },
  {
   "cell_type": "markdown",
   "metadata": {},
   "source": [
    "<br>\n",
    "<br>"
   ]
  },
  {
   "cell_type": "markdown",
   "metadata": {},
   "source": [
    "## Preprocessing Text Data"
   ]
  },
  {
   "cell_type": "markdown",
   "metadata": {},
   "source": [
    "Now, let us define a simple `tokenizer` that splits the text into individual word tokens. Furthermore, we will use some simple regular expression to remove HTML markup and all non-letter characters but \"emoticons,\" convert the text to lower case, remove stopwords, and apply the Porter stemming algorithm to convert the words into their root form."
   ]
  },
  {
   "cell_type": "code",
   "execution_count": 7,
   "metadata": {},
   "outputs": [],
   "source": [
    "from nltk.stem import WordNetLemmatizer\n",
    "\n",
    "wordnet_lemmatizer = WordNetLemmatizer()\n",
    "#stop = stopwords.words('english')\n",
    "#porter = PorterStemmer()\n",
    "\n",
    "def tokenizer(text):\n",
    "    text = re.sub('<[^>]*>', '', text)\n",
    "    emoticons = re.findall('(?::|;|=)(?:-)?(?:\\)|\\(|D|P)', text.lower())\n",
    "    text = re.sub('[\\W]+', ' ', text.lower())\n",
    "    text = [w for w in text.split()]\n",
    "    tokenized = [wordnet_lemmatizer.lemmatize(w) for w in text]\n",
    "    return tokenized"
   ]
  },
  {
   "cell_type": "markdown",
   "metadata": {},
   "source": [
    "Let's give it at try:"
   ]
  },
  {
   "cell_type": "code",
   "execution_count": 8,
   "metadata": {},
   "outputs": [
    {
     "data": {
      "text/plain": [
       "['this', 'is', 'a', 'test']"
      ]
     },
     "execution_count": 8,
     "metadata": {},
     "output_type": "execute_result"
    }
   ],
   "source": [
    "tokenizer('This :) is a <a> test! :-)</br>')\n"
   ]
  },
  {
   "cell_type": "markdown",
   "metadata": {},
   "source": [
    "## Learning (SciKit)"
   ]
  },
  {
   "cell_type": "markdown",
   "metadata": {},
   "source": [
    "First, we define a generator that returns the document body and the corresponding class label:"
   ]
  },
  {
   "cell_type": "code",
   "execution_count": 9,
   "metadata": {},
   "outputs": [],
   "source": [
    "def stream_docs(path):\n",
    "    with open(path, 'r') as csv:\n",
    "        next(csv) # skip header\n",
    "        for line in csv:\n",
    "            text, label = line[:-3], int(line[-2])\n",
    "            yield text, label"
   ]
  },
  {
   "cell_type": "markdown",
   "metadata": {},
   "source": [
    "To conform that the `stream_docs` function fetches the documents as intended, let us execute the following code snippet before we implement the `get_minibatch` function:"
   ]
  },
  {
   "cell_type": "code",
   "execution_count": 10,
   "metadata": {},
   "outputs": [],
   "source": [
    "#next(stream_docs(path='shuffled_movie_data.csv'))"
   ]
  },
  {
   "cell_type": "markdown",
   "metadata": {},
   "source": [
    "After we confirmed that our `stream_docs` functions works, we will now implement a `get_minibatch` function to fetch a specified number (`size`) of documents:"
   ]
  },
  {
   "cell_type": "code",
   "execution_count": 11,
   "metadata": {},
   "outputs": [],
   "source": [
    "def get_minibatch(doc_stream, size):\n",
    "    docs, y = [], []\n",
    "    for _ in range(size):\n",
    "        text, label = next(doc_stream)\n",
    "        docs.append(text)\n",
    "        y.append(label)\n",
    "    return docs, y"
   ]
  },
  {
   "cell_type": "markdown",
   "metadata": {},
   "source": [
    "Next, we will make use of the \"hashing trick\" through scikit-learns [HashingVectorizer](http://scikit-learn.org/stable/modules/generated/sklearn.feature_extraction.text.HashingVectorizer.html) to create a bag-of-words model of our documents. Details of the bag-of-words model for document classification can be found at  [Naive Bayes and Text Classification I - Introduction and Theory](http://arxiv.org/abs/1410.5329)."
   ]
  },
  {
   "cell_type": "code",
   "execution_count": 12,
   "metadata": {},
   "outputs": [],
   "source": [
    "#from sklearn.feature_extraction.text import HashingVectorizer\n",
    "#vect = HashingVectorizer(decode_error='ignore', \n",
    "#                         n_features=2**21,\n",
    "#                         preprocessor=None, \n",
    "#                         tokenizer=tokenizer)\n",
    "\n",
    "# Exercise 1: define features based on word embeddings (pre-trained word2vec / Glove/Fastext emebddings can be used)\n",
    "# Define suitable d dimension, and sequence length"
   ]
  },
  {
   "cell_type": "code",
   "execution_count": 13,
   "metadata": {},
   "outputs": [],
   "source": [
    "doc_generator = stream_docs(path='shuffled_movie_data.csv')"
   ]
  },
  {
   "cell_type": "code",
   "execution_count": 14,
   "metadata": {},
   "outputs": [],
   "source": [
    "def bag_words(gen, size):\n",
    "    bag    = []\n",
    "    for i, doc in enumerate(gen):\n",
    "        bag += tokenizer(doc[0])\n",
    "        sys.stdout.write('\\r{:5.2f}%'.format(100*(i+1)/50000))\n",
    "    sys.stdout.write('\\rDone     \\n\\n')\n",
    "    print('Bag Size: ', len(bag))\n",
    "    count  = [['UNK', -1]]\n",
    "    count += collections.Counter(bag).most_common(size - 1)\n",
    "    \n",
    "    count  = [(word, cnt) for word, cnt in count if cnt not in [0,1]]\n",
    "    for element in count:\n",
    "        if element[1] == 1:\n",
    "            count.remove(element)\n",
    "    dic    = {}\n",
    "    for i, word in enumerate(count):\n",
    "        dic[word[0]] = i\n",
    "    \n",
    "    return dic , dict(zip(dic.values(), dic.keys()))"
   ]
  },
  {
   "cell_type": "code",
   "execution_count": 15,
   "metadata": {},
   "outputs": [
    {
     "name": "stdout",
     "output_type": "stream",
     "text": [
      "Done     \n",
      "\n",
      "Bag Size:  11772191\n"
     ]
    }
   ],
   "source": [
    "dic, rev_dic = bag_words(doc_generator, 80000) #63069"
   ]
  },
  {
   "cell_type": "code",
   "execution_count": 16,
   "metadata": {},
   "outputs": [],
   "source": [
    "FEATURES = len(dic.keys())"
   ]
  },
  {
   "cell_type": "code",
   "execution_count": 17,
   "metadata": {},
   "outputs": [
    {
     "name": "stdout",
     "output_type": "stream",
     "text": [
      "56325\n",
      "0\n"
     ]
    }
   ],
   "source": [
    "#del doc_generator\n",
    "\n",
    "print(FEATURES)\n",
    "print(dic['UNK'])"
   ]
  },
  {
   "cell_type": "code",
   "execution_count": 18,
   "metadata": {},
   "outputs": [],
   "source": [
    "class OneHotEncoder:\n",
    "    def __init__ (self, rev_dict):\n",
    "        self.size = len(rev_dict.values())\n",
    "        self.dict = rev_dict\n",
    "        \n",
    "    def __repr__ (self):\n",
    "        return ('OneHotEncoder Class (Size = {})'.format(self.n))\n",
    "        \n",
    "    def getVector(self, word):\n",
    "        vec = np.zeros((1, self.size))\n",
    "        vec[0, self.dict[word]] = 1\n",
    "        return vec"
   ]
  },
  {
   "cell_type": "code",
   "execution_count": 19,
   "metadata": {},
   "outputs": [],
   "source": [
    "class DocToVec:\n",
    "    \"\"\"\n",
    "        Convert a list of words to feature vectors:\n",
    "        \n",
    "        Arguments:\n",
    "            \n",
    "            n_features: number of features per vector, by default 6818.\n",
    "            fn        : tokenizer function\n",
    "    \"\"\"\n",
    "    \n",
    "    def __init__(self, dictionary, tokenizer):\n",
    "        self.encoder  = OneHotEncoder(dic) \n",
    "        self.dict     = dictionary\n",
    "        self.features = self.encoder.size\n",
    "        self.fn       = tokenizer\n",
    "        \n",
    "    def transform(self, DocList):\n",
    "        \"\"\"\n",
    "            Transform an array of list of words to a matrix:\n",
    "\n",
    "            Arguments:\n",
    "\n",
    "                DocList: Array of list of reviews\n",
    "\n",
    "            Returns:\n",
    "\n",
    "                Matrix with feature vectors of each review.\n",
    "\n",
    "        \"\"\"\n",
    "    \n",
    "        n   = len(DocList)\n",
    "        vec = np.zeros(shape=(n, self.features), dtype = np.uint8)\n",
    "        \n",
    "        total_time = 0\n",
    "        for idx, strn in enumerate(DocList):\n",
    "            start_time = time.time()\n",
    "            rev_tok    = self.fn(strn)\n",
    "            veci = np.zeros((1, self.features))\n",
    "            for word in rev_tok:\n",
    "                if word in self.dict:\n",
    "                    veci += self.encoder.getVector(word)\n",
    "            vec[idx] = veci\n",
    "            if ((idx+1) % 500 == 0):\n",
    "                elapsed  = time.time() - start_time\n",
    "                total_time += elapsed\n",
    "                total_time /= (idx+1/500)\n",
    "                print('percent = {:4.1f}%, time estimated : {:3.1f} min'.format(100*(idx+1)/n, n*elapsed/60.0))\n",
    "        return vec       "
   ]
  },
  {
   "cell_type": "markdown",
   "metadata": {},
   "source": [
    "Using the [SGDClassifier]() from scikit-learn, we will can instanciate a logistic regression classifier that learns from the documents incrementally using stochastic gradient descent. "
   ]
  },
  {
   "cell_type": "code",
   "execution_count": 21,
   "metadata": {},
   "outputs": [],
   "source": [
    "encoder = DocToVec(dic, tokenizer)"
   ]
  },
  {
   "cell_type": "code",
   "execution_count": 22,
   "metadata": {},
   "outputs": [
    {
     "name": "stdout",
     "output_type": "stream",
     "text": [
      "the                  :  23 times\n",
      "of                   :  12 times\n",
      "in                   :  10 times\n",
      "a                    :  10 times\n",
      "and                  :   8 times\n",
      "wa                   :   6 times\n",
      "to                   :   6 times\n",
      "murder               :   5 times\n",
      "with                 :   4 times\n",
      "is                   :   4 times\n"
     ]
    }
   ],
   "source": [
    "l = encoder.transform([df.head().values[0][0]])\n",
    "\n",
    "FirstReview = []\n",
    "for i in range(FEATURES):\n",
    "    if l[0][i] != 0:\n",
    "        FirstReview.append((rev_dic[i], int(l[0][i])))\n",
    "\n",
    "FirstReview.sort(key=lambda x: x[1])\n",
    "\n",
    "FirstReview = FirstReview[::-1]\n",
    "for i in range(10):\n",
    "    print('{:20} : {:3} times'.format(FirstReview[i][0], FirstReview[i][1]))"
   ]
  },
  {
   "cell_type": "code",
   "execution_count": 23,
   "metadata": {},
   "outputs": [],
   "source": [
    "## Uncomment these lines if you don't save 'vec_data_X' and 'vec_data_y':\n",
    "#stream = stream_docs(path='shuffled_movie_data.csv')\n",
    "\n",
    "#X_train, y_train = get_minibatch(stream, size=50000)\n",
    "#y_train = np.asarray(y_train).reshape((-1, 1))\n",
    "\n",
    "#X_train = encoder.transform(X_train)\n",
    "\n",
    "#np.save('vec_data_X', X_train)\n",
    "#np.save('vec_data_y', y_train)"
   ]
  },
  {
   "cell_type": "code",
   "execution_count": 24,
   "metadata": {},
   "outputs": [],
   "source": [
    "#from sklearn.linear_model import SGDClassifier\n",
    "#clf = SGDClassifier(loss='log', random_state=1, n_iter=1)\n",
    "#doc_stream = stream_docs(path='shuffled_movie_data.csv')"
   ]
  },
  {
   "cell_type": "code",
   "execution_count": 25,
   "metadata": {},
   "outputs": [],
   "source": [
    "X_train = np.load('vec_data_X.npy')\n",
    "y_train = np.load('vec_data_y.npy')"
   ]
  },
  {
   "cell_type": "code",
   "execution_count": 26,
   "metadata": {},
   "outputs": [
    {
     "name": "stdout",
     "output_type": "stream",
     "text": [
      "(50000, 56325)\n",
      "(50000, 1)\n"
     ]
    }
   ],
   "source": [
    "from sklearn.preprocessing import normalize\n",
    "\n",
    "print(X_train.shape)\n",
    "print(y_train.shape)"
   ]
  },
  {
   "cell_type": "code",
   "execution_count": 230,
   "metadata": {},
   "outputs": [
    {
     "name": "stdout",
     "output_type": "stream",
     "text": [
      "(30000, 56325) (30000, 1)\n",
      "(10000, 56325) (10000, 1)\n",
      "(10000, 56325) (10000, 1)\n"
     ]
    }
   ],
   "source": [
    "X_data_train = X_train[:30000]\n",
    "y_data_train = y_train[:30000]\n",
    "\n",
    "X_data_valid = X_train[30000:40000]\n",
    "y_data_valid = y_train[30000:40000]\n",
    "\n",
    "X_data_test  = X_train[40000:]\n",
    "y_data_test  = y_train[40000:]\n",
    "\n",
    "print(X_data_train.shape, y_data_train.shape)\n",
    "print(X_data_valid.shape, y_data_valid.shape)\n",
    "print(X_data_test.shape, y_data_test.shape)"
   ]
  },
  {
   "cell_type": "code",
   "execution_count": 210,
   "metadata": {},
   "outputs": [],
   "source": [
    "class log_regr:\n",
    "    \"\"\"\n",
    "        Logistic Regression with L1 and L2 regularization\n",
    "        \n",
    "        Arguments:\n",
    "                \n",
    "                W       : Weights\n",
    "                b       : Bias\n",
    "                alpha   : Learning Rate\n",
    "                l1_coef : Lambda 1\n",
    "                l2_coef : Lambda 2\n",
    "            \n",
    "    \"\"\"\n",
    "    \n",
    "    def __init__ (self, W, b, alpha, lambda_1, lambda_2):\n",
    "        self.W       = W\n",
    "        self.b       = b\n",
    "        self.alpha   = alpha\n",
    "        self.l1_coef = lambda_1\n",
    "        self.l2_coef = lambda_2\n",
    "        \n",
    "    def sigmoid(self,z):\n",
    "        \"\"\"\n",
    "            Activation function\n",
    "            \n",
    "            Arguments:  \n",
    "                z : W*X + b\n",
    "                \n",
    "            Returns:\n",
    "                sigmoid function of z.\n",
    "                \n",
    "        \"\"\"\n",
    "        return 1 / (1 + np.exp(-z))\n",
    "    \n",
    "    def pred(self, X):\n",
    "        \"\"\"\n",
    "            Given a X matrix as a input we return the prediction for\n",
    "            W and b.\n",
    "            \n",
    "            Args:\n",
    "                X : Matrix of features vectors for each review\n",
    "            \n",
    "            Returns:\n",
    "                Prediction without a threshold\n",
    "        \"\"\"\n",
    "        \n",
    "        return self.sigmoid(np.matmul(X, self.W) + self.b)\n",
    "\n",
    "    def predSentiment(self, X):\n",
    "        \"\"\"\n",
    "            Given a X matrix as a input we return the prediction with threshold \n",
    "            for W and b.\n",
    "            \n",
    "            Args:\n",
    "                X : Matrix of features vectors for each review\n",
    "            \n",
    "            Returns:\n",
    "                Prediction with threshold\n",
    "        \"\"\"\n",
    "        \n",
    "        return self.sigmoid(np.matmul(X, self.W) + self.b)[0][0] > 0.5\n",
    "    \n",
    "    def acc(self, X, y):\n",
    "        \"\"\"\n",
    "            Accuracy of a input and label\n",
    "            \n",
    "            Args:\n",
    "                X: Matrix of features vectors for each review\n",
    "                y: Labels of each Matrix\n",
    "            \n",
    "            Returns:\n",
    "                A number between 0 and 1.0\n",
    "        \"\"\"\n",
    "        pred_lim = self.pred(X) > 0.5\n",
    "        return np.mean(pred_lim == y)\n",
    "    \n",
    "    def cross_entropy(self, X, y):\n",
    "        \"\"\"\n",
    "            Cost function\n",
    "            \n",
    "                Cost = - [y * log(sigma(W*X + b)) + (1 - y) * log(1 - sigma(W*X + b))] \n",
    "                         + 0.5 * l2_ratio * ||w||^2_2 \n",
    "                         + l1_ratio * ||w||_1 \n",
    "            \n",
    "            Args:\n",
    "                X: Matrix of features vectors for each review\n",
    "                y: Labels of each Matrix\n",
    "                \n",
    "            Returns:\n",
    "                Cost using L1 and L2 regularizations \n",
    "                \n",
    "        \"\"\"\n",
    "        return - 0.5 * np.mean(np.multiply(y  , np.log(self.pred(X)     + 1e-8))\n",
    "                       + np.multiply(1-y, np.log(1 - self.pred(X) + 1e-8))) + \\\n",
    "                    0.5 * self.l2_coef * np.mean(np.square(self.W)) + \\\n",
    "                          self.l1_coef * np.mean(np.abs(self.W))\n",
    "    \n",
    "    def fit(self, X, y):\n",
    "        \"\"\"\n",
    "            function to minimize the Cost\n",
    "            \n",
    "            Args:\n",
    "                X: Matrix of features vectors for each review\n",
    "                y: Labels of each Matrix\n",
    "            \n",
    "        \"\"\"\n",
    "        \n",
    "        self.W = self.W - self.alpha * np.matmul(np.transpose(X), self.pred(X) - y) / X.shape[0] - \\\n",
    "                          self.alpha * self.l2_coef * self.W - \\\n",
    "                          self.alpha * self.l1_coef * np.multiply(self.W, 1 / np.abs(self.W))\n",
    "        self.b = self.b - self.alpha * np.mean(self.pred(X) - y)  "
   ]
  },
  {
   "cell_type": "code",
   "execution_count": 217,
   "metadata": {},
   "outputs": [
    {
     "name": "stdout",
     "output_type": "stream",
     "text": [
      "  1 epoch : 755.41 docs/s, loss_train = 1.8468, loss_val = 0.9057, acc_train = 0.735, acc_test = 0.721\n",
      "  2 epoch : 806.59 docs/s, loss_train = 1.1137, loss_val = 0.4405, acc_train = 0.830, acc_test = 0.822\n",
      "  3 epoch : 831.92 docs/s, loss_train = 0.8793, loss_val = 0.3902, acc_train = 0.847, acc_test = 0.837\n",
      "  4 epoch : 806.05 docs/s, loss_train = 0.7971, loss_val = 0.3540, acc_train = 0.860, acc_test = 0.847\n",
      "  5 epoch : 829.27 docs/s, loss_train = 0.7008, loss_val = 0.3158, acc_train = 0.873, acc_test = 0.857\n",
      "  6 epoch : 823.87 docs/s, loss_train = 0.6843, loss_val = 0.3379, acc_train = 0.869, acc_test = 0.855\n",
      "  7 epoch : 820.46 docs/s, loss_train = 0.6154, loss_val = 0.3292, acc_train = 0.872, acc_test = 0.857\n",
      "  8 epoch : 816.23 docs/s, loss_train = 0.5786, loss_val = 0.2913, acc_train = 0.885, acc_test = 0.868\n",
      "  9 epoch : 825.80 docs/s, loss_train = 0.5801, loss_val = 0.5079, acc_train = 0.828, acc_test = 0.816\n",
      " 10 epoch : 842.41 docs/s, loss_train = 0.5343, loss_val = 0.2950, acc_train = 0.885, acc_test = 0.867\n"
     ]
    }
   ],
   "source": [
    "FEATURES = X_data_train.shape[1]\n",
    "W_ = np.random.normal(0, 0.001, (FEATURES,1))\n",
    "b_ = 0.0\n",
    "lr = 0.15\n",
    "\n",
    "# lr = 0.18, l1,l2=1e-5, batch 1= 100, batch2 = 100, epoch=10 :: All Test Good!\n",
    "# lr = 0.15, l1,l2=1e-4, batch 1= 100, batch2 = 200, epoch=10 :: All Test Good!\n",
    "lambda1 = 1e-4\n",
    "lambda2 = 1e-4\n",
    "\n",
    "regr  = log_regr(W_, b_, lr, lambda1, lambda2)\n",
    "\n",
    "BATCH  = 100\n",
    "BATCH2 = 200\n",
    "STEP   = 1\n",
    "fmt    = '{:3d} epoch: {:5.2f} d/s, loss_train = {:5.4f}, loss_val = {:5.4f}, acc_train = {:4.3f}, acc_test = {:4.3f}'\n",
    "NEPOCH = 10\n",
    "\n",
    "train_epoch     = []\n",
    "valid_epoch     = []\n",
    "acc_train_epoch = []\n",
    "acc_test_epoch  = []\n",
    "\n",
    "for i in range(NEPOCH):\n",
    "    loss_t  = 0.0\n",
    "    n_batch = X_data_train.shape[0]/BATCH\n",
    "    st = time.time()\n",
    "    for i_batch in range(0,X_data_train.shape[0], BATCH):\n",
    "        X_batch = X_data_train[i_batch:i_batch+BATCH]\n",
    "        y_batch = y_data_train[i_batch:i_batch+BATCH]\n",
    "        regr.fit(X_batch , y_batch)\n",
    "        loss_tmp = regr.cross_entropy(X_batch, y_batch)\n",
    "        loss_t  += loss_tmp\n",
    "        #if i_batch  % 10000 == 0:\n",
    "        #    print('-> i_batch : [{:6d} - {:6d}], loss_temp = {:5.4f}'.format(i_batch, i_batch + BATCH,loss_tmp))\n",
    "    dt   = time.time() - st\n",
    "        \n",
    "    if (i+1)%STEP == 0:\n",
    "        train_epoch.append(loss_t/n_batch)\n",
    "        acc_train = 0\n",
    "        for i_batch in range(0,X_data_train.shape[0], BATCH):\n",
    "            X_batch_   = X_data_train[i_batch:i_batch+BATCH]\n",
    "            y_batch_   = y_data_train[i_batch:i_batch+BATCH]\n",
    "            acc_train += regr.acc(X_batch_, y_batch_)\n",
    "        \n",
    "        acc_train_epoch.append(acc_train/n_batch)\n",
    "        loss_valid = 0\n",
    "        acc_test   = 0\n",
    "        \n",
    "        v_batch = X_data_valid.shape[0]/BATCH2\n",
    "        for i_batch in range(0,X_data_valid.shape[0], BATCH2):\n",
    "            X_batch_v = X_data_valid[i_batch:i_batch+BATCH2]\n",
    "            y_batch_v = y_data_valid[i_batch:i_batch+BATCH2]\n",
    "            \n",
    "            loss_valid += regr.cross_entropy(X_batch_v, y_batch_v)\n",
    "            \n",
    "            X_batch_t = X_data_test[i_batch:i_batch+BATCH2]\n",
    "            y_batch_t = y_data_test[i_batch:i_batch+BATCH2]\n",
    "            \n",
    "            acc_test += regr.acc(X_batch_t, y_batch_t)\n",
    "        valid_epoch.append(loss_valid/v_batch)\n",
    "        acc_test_epoch.append(acc_test/v_batch)\n",
    "        print(fmt.format((i+1), (X_data_train.shape[0])/dt,\n",
    "                                      loss_t/n_batch, \n",
    "                                      loss_valid/v_batch,\n",
    "                                      acc_train/n_batch,\n",
    "                                      acc_test/v_batch))"
   ]
  },
  {
   "cell_type": "markdown",
   "metadata": {},
   "source": [
    "Depending on your machine, it will take about 2-3 minutes to stream the documents and learn the weights for the logistic regression model to classify \"new\" movie reviews. Executing the preceding code, we used the first 45,000 movie reviews to train the classifier, which means that we have 5,000 reviews left for testing:"
   ]
  },
  {
   "cell_type": "code",
   "execution_count": 218,
   "metadata": {},
   "outputs": [
    {
     "data": {
      "image/png": "[encoded data removed]",
      "text/plain": [
       "<Figure size 1008x576 with 1 Axes>"
      ]
     },
     "metadata": {
      "needs_background": "light"
     },
     "output_type": "display_data"
    }
   ],
   "source": [
    "ep = np.arange(1, NEPOCH + 1, 1)\n",
    "\n",
    "fig, ax = plt.subplots(figsize=(14, 8))\n",
    "l1 , l2   = ax.plot(ep, train_epoch, ep, valid_epoch)\n",
    "ax.set(xlabel='Epoch', ylabel='Cost', title='Logistic Regression with L1 and L2 regularization')\n",
    "ax.axis([0.8, NEPOCH + 1, 0.0, 3])\n",
    "plt.legend([l1, l2],[\"Training\",\"Validation\"])\n",
    "plt.show()"
   ]
  },
  {
   "cell_type": "code",
   "execution_count": 219,
   "metadata": {},
   "outputs": [
    {
     "data": {
      "image/png": "[encoded data removed]",
      "text/plain": [
       "<Figure size 1008x576 with 1 Axes>"
      ]
     },
     "metadata": {
      "needs_background": "light"
     },
     "output_type": "display_data"
    }
   ],
   "source": [
    "fig, ax = plt.subplots(figsize=(14, 8))\n",
    "\n",
    "l3, l4  = ax.plot(ep, acc_train_epoch, ep, acc_test_epoch)\n",
    "ax.set(xlabel='Epoch', ylabel='Accuracy', title='Multiple Layer Perceptron')\n",
    "\n",
    "plt.legend([l3, l4],[\"Train Accuracy\", \"Test Accuracy\"])\n",
    "plt.show()"
   ]
  },
  {
   "cell_type": "markdown",
   "metadata": {},
   "source": [
    "I think that the predictive performance, an accuracy of ~87%, is quite \"reasonable\" given that we \"only\" used the default parameters and didn't do any hyperparameter optimization. \n",
    "\n",
    "After we estimated the model perfomance, let us use those last 5,000 test samples to update our model."
   ]
  },
  {
   "cell_type": "code",
   "execution_count": 220,
   "metadata": {},
   "outputs": [
    {
     "name": "stdout",
     "output_type": "stream",
     "text": [
      "[[0.72582708]]\n"
     ]
    },
    {
     "data": {
      "text/plain": [
       "True"
      ]
     },
     "execution_count": 220,
     "metadata": {},
     "output_type": "execute_result"
    }
   ],
   "source": [
    "example = ['I loved this movie']\n",
    "X = encoder.transform(example)\n",
    "#regr.predSentiment(X)\n",
    "print(regr.pred(X))\n",
    "regr.pred(X)[0][0] > 0.5"
   ]
  },
  {
   "cell_type": "code",
   "execution_count": 221,
   "metadata": {},
   "outputs": [
    {
     "name": "stdout",
     "output_type": "stream",
     "text": [
      "[[0.44962698]]\n"
     ]
    },
    {
     "data": {
      "text/plain": [
       "False"
      ]
     },
     "execution_count": 221,
     "metadata": {},
     "output_type": "execute_result"
    }
   ],
   "source": [
    "example = ['I hate this movie']\n",
    "X = encoder.transform(example)\n",
    "#regr.predSentiment(X)\n",
    "print(regr.pred(X))\n",
    "regr.pred(X)[0][0] > 0.5"
   ]
  },
  {
   "cell_type": "code",
   "execution_count": 222,
   "metadata": {},
   "outputs": [
    {
     "name": "stdout",
     "output_type": "stream",
     "text": [
      "[[0.48735872]]\n"
     ]
    },
    {
     "data": {
      "text/plain": [
       "False"
      ]
     },
     "execution_count": 222,
     "metadata": {},
     "output_type": "execute_result"
    }
   ],
   "source": [
    "example = [\"I don't love this movie\"]\n",
    "X = encoder.transform(example)\n",
    "#regr.predSentiment(X)\n",
    "print(regr.pred(X))\n",
    "regr.pred(X)[0][0] > 0.5"
   ]
  },
  {
   "cell_type": "code",
   "execution_count": 223,
   "metadata": {},
   "outputs": [
    {
     "name": "stdout",
     "output_type": "stream",
     "text": [
      "[[0.46714408]]\n"
     ]
    },
    {
     "data": {
      "text/plain": [
       "False"
      ]
     },
     "execution_count": 223,
     "metadata": {},
     "output_type": "execute_result"
    }
   ],
   "source": [
    "example = [\"I do not love this movie\"]\n",
    "X = encoder.transform(example)\n",
    "#regr.predSentiment(X)\n",
    "print(regr.pred(X))\n",
    "regr.pred(X)[0][0] > 0.5"
   ]
  },
  {
   "cell_type": "code",
   "execution_count": null,
   "metadata": {},
   "outputs": [],
   "source": [
    "# Exercise 2: Define at least a Three layer neural network. Define its structure (number of hidden neurons, etc)\n",
    "# Define a nonlinear function for hidden layers.\n",
    "# Define a suitable loss function for binary classification\n",
    "# Implement the backpropagation algorithm for this structure\n",
    "# Do not use Keras / Tensorflow /PyTorch etc. libraries\n",
    "# Train the model using SGD"
   ]
  },
  {
   "cell_type": "code",
   "execution_count": 378,
   "metadata": {},
   "outputs": [],
   "source": [
    "class Multilayer:\n",
    "    \"\"\"\n",
    "        Logistic Regression with L1 and L2 regularization\n",
    "        \n",
    "        Arguments:\n",
    "                \n",
    "                alpha   : Learning Rate\n",
    "                l1_coef : Lambda 1\n",
    "                l2_coef : Lambda 2\n",
    "            \n",
    "    \"\"\"\n",
    "    \n",
    "    def __init__ (self, input_size, hid_units1, hid_units2, lr, lambda_1, lambda_2):\n",
    "        self.W1      = np.random.randn(input_size, hid_units1) * np.sqrt(1/input_size)\n",
    "        self.b1      = np.zeros((1, hid_units1))\n",
    "        self.W2      = np.random.randn(hid_units1, hid_units2) * np.sqrt(1/hid_units1)\n",
    "        self.b2      = np.zeros((1, hid_units2))\n",
    "        self.W3      = np.random.randn(hid_units2,          1) * np.sqrt(1/hid_units2)\n",
    "        self.b3      = 0.0\n",
    "        self.lr      = lr\n",
    "        self.l1_coef = lambda_1\n",
    "        self.l2_coef = lambda_2\n",
    "        \n",
    "    def ReLU(self, z):\n",
    "        return np.maximum(0, z)\n",
    "    \n",
    "    def TangH(self, z):\n",
    "        return (np.exp(z) - np.exp(-z))/(np.exp(z) + np.exp(-z) + 1e-8)\n",
    "    \n",
    "    def deltaTangH(self, z):\n",
    "        return 4 * np.exp(z) * np.exp(-z)/(np.exp(z) + np.exp(-z)+ 1e-8)**2\n",
    "    \n",
    "    def sigmoid(self,z):\n",
    "        \"\"\"\n",
    "            Activation function\n",
    "            \n",
    "            Arguments:  \n",
    "                z : W*X + b\n",
    "                \n",
    "            Returns:\n",
    "                sigmoid function of z.\n",
    "                \n",
    "        \"\"\"\n",
    "        return 1 / (1 + np.exp(-z))\n",
    "    \n",
    "    def deltaCost(self, y, y_hat):\n",
    "        return y_hat - y\n",
    "        \n",
    "    def pred(self, X):\n",
    "        \"\"\"\n",
    "            Given a X matrix as a input we return the prediction for\n",
    "            W and b.\n",
    "            \n",
    "            Args:\n",
    "                X : Matrix of features vectors for each review\n",
    "            \n",
    "            Returns:\n",
    "                Prediction without a threshold\n",
    "        \"\"\"\n",
    "        Z1 = np.dot(X , self.W1) + self.b1\n",
    "        A1 = self.TangH(Z1)\n",
    "        Z2 = np.dot(A1, self.W2) + self.b2\n",
    "        A2 = self.TangH(Z2)   \n",
    "        Z3 = np.dot(A2, self.W3) + self.b3\n",
    "        A3 = self.sigmoid(Z3)          \n",
    "        return A3\n",
    "\n",
    "    def predSentiment(self, X):\n",
    "        \"\"\"\n",
    "            Given a X matrix as a input we return the prediction with threshold \n",
    "            for W and b.\n",
    "            \n",
    "            Args:\n",
    "                X : Matrix of features vectors for each review\n",
    "            \n",
    "            Returns:\n",
    "                Prediction with threshold\n",
    "        \"\"\"\n",
    "        return self.pred(X) > 0.5\n",
    "    \n",
    "    def acc(self, X, y):\n",
    "        \"\"\"\n",
    "            Accuracy of a input and label\n",
    "            \n",
    "            Args:\n",
    "                X: Matrix of features vectors for each review\n",
    "                y: Labels of each Matrix\n",
    "            \n",
    "            Returns:\n",
    "                A number between 0 and 1.0\n",
    "        \"\"\"\n",
    "        \n",
    "        return np.mean(self.predSentiment(X) == y)\n",
    "    \n",
    "    def getCost(self,y, y_hat):\n",
    "        \"\"\"\n",
    "            Cost function\n",
    "            \n",
    "                Cost = - [y * log(sigma(W*X + b)) + (1 - y) * log(1 - sigma(W*X + b))] \n",
    "                         + 0.5 * l2_ratio * ||w||^2_2 \n",
    "                         + l1_ratio * ||w||_1 \n",
    "            \n",
    "            Args:\n",
    "                X: Matrix of features vectors for each review\n",
    "                y: Labels of each Matrix\n",
    "                \n",
    "            Returns:\n",
    "                Cost using L1 and L2 regularizations \n",
    "                \n",
    "        \"\"\"\n",
    "        y_hat = np.clip(y_hat, 1e-8, 1 - 1e-8)\n",
    "        cost  = - 0.5 * np.mean(np.multiply(y  , np.log(y_hat     + 1e-5))\n",
    "                             + np.multiply(1-y , np.log(1 - y_hat + 1e-5)))\n",
    "        \n",
    "        cost += 0.5 * self.l2_coef * np.sum(np.square(self.W1)) + self.l1_coef * np.sum(np.abs(self.W1)) \n",
    "        cost += 0.5 * self.l2_coef * np.sum(np.square(self.W2)) + self.l1_coef * np.sum(np.abs(self.W2))\n",
    "        \n",
    "        return cost \n",
    "    \n",
    "    def Propagation(self, X, y):\n",
    "        # Forward Propagation\n",
    "        \n",
    "        Z1 = np.dot(X , self.W1) + self.b1\n",
    "        A1 = self.TangH(Z1)\n",
    "        Z2 = np.dot(A1, self.W2) + self.b2\n",
    "        A2 = self.TangH(Z2)\n",
    "        Z3 = np.dot(A2, self.W3) + self.b3\n",
    "        A3 = self.sigmoid(Z3)\n",
    "        cost   = self.getCost(y, A3)        \n",
    "        d_cost = self.deltaCost(y, A3)\n",
    "        \n",
    "        # Backward Propagation\n",
    "        \n",
    "        dW3     = np.dot(A2.T, d_cost)\n",
    "        db3     = np.sum(d_cost, axis=0, keepdims=True) \n",
    "        \n",
    "        # Hidden Layer 2\n",
    "        dhidden2 = np.dot(d_cost, self.W3.T)\n",
    "        \n",
    "        # The TangH derivative\n",
    "        dG2 = self.deltaTangH(Z2)\n",
    "        #dhidden[A1 <= 0] = 0\n",
    "        assert(dG2.shape == dhidden2.shape)\n",
    "        dhidden2 = dG2 * dhidden2\n",
    "        # Second Layer\n",
    "        dW2  = np.matmul(A1.T, dhidden2)\n",
    "        db2  = np.sum(dhidden2, axis=0, keepdims=True)        \n",
    "    \n",
    "        # Hidden Layer 3\n",
    "        dhidden1 = np.dot(dhidden2, self.W2.T)\n",
    "        \n",
    "        # The TangH derivative\n",
    "        dG1 = self.deltaTangH(Z1)\n",
    "        #dhidden[A1 <= 0] = 0\n",
    "        assert(dG1.shape == dhidden1.shape)\n",
    "        dhidden1 = dG1 * dhidden1\n",
    "        # First Layer\n",
    "        dW1  = np.matmul(X.T, dhidden1)\n",
    "        db1  = np.sum(dhidden1, axis=0, keepdims=True)  \n",
    "        \n",
    "        # Regularization L2\n",
    "        dW1 += self.l2_coef * self.W1\n",
    "        dW2 += self.l2_coef * self.W2\n",
    "        dW3 += self.l2_coef * self.W3\n",
    "\n",
    "        # Regularization L1\n",
    "        dW1 += self.l1_coef * np.multiply(self.W1, 1 / np.abs(self.W1))\n",
    "        dW2 += self.l1_coef * np.multiply(self.W2, 1 / np.abs(self.W2))\n",
    "        dW3 += self.l1_coef * np.multiply(self.W3, 1 / np.abs(self.W3))  \n",
    "        \n",
    "        assert(dW1.shape == self.W1.shape)\n",
    "        assert(db1.dtype == float)\n",
    "        assert(dW2.shape == self.W2.shape)\n",
    "        assert(db2.dtype == float)\n",
    "        assert(dW3.shape == self.W3.shape)\n",
    "        assert(db3.dtype == float)\n",
    "        \n",
    "        grads = { \n",
    "                 \"dW1\" : dW1,\n",
    "                 \"db1\" : db1,\n",
    "                 \"dW2\" : dW2,\n",
    "                 \"db2\" : db2,   \n",
    "                 \"dW3\" : dW3,\n",
    "                 \"db3\" : db3   \n",
    "        }\n",
    "        \n",
    "        return grads, cost\n",
    "    \n",
    "    def train(self, X, y):\n",
    "        \"\"\"\n",
    "            function to minimize the Cost\n",
    "            \n",
    "            Args:\n",
    "                X: Matrix of features vectors for each review\n",
    "                y: Labels of each Matrix\n",
    "            \n",
    "        \"\"\"\n",
    "        \n",
    "        grads, cost = self.Propagation(X, y)\n",
    "        \n",
    "        dW1 = grads[\"dW1\"]\n",
    "        db1 = grads[\"db1\"]\n",
    "        dW2 = grads[\"dW2\"]\n",
    "        db2 = grads[\"db2\"]        \n",
    "        dW3 = grads[\"dW3\"]\n",
    "        db3 = grads[\"db3\"]\n",
    "        \n",
    "        self.W1 = self.W1 - dW1 * self.lr\n",
    "        self.b1 = self.b1 - db1 * self.lr\n",
    "        self.W2 = self.W2 - dW2 * self.lr\n",
    "        self.b2 = self.b2 - db2 * self.lr\n",
    "        self.W3 = self.W3 - dW3 * self.lr\n",
    "        self.b3 = self.b3 - db3 * self.lr        \n",
    "        \n",
    "        return cost"
   ]
  },
  {
   "cell_type": "code",
   "execution_count": 394,
   "metadata": {},
   "outputs": [],
   "source": [
    "n, m = X_data_train.shape\n",
    "net  = Multilayer(input_size=m, hid_units1=10, hid_units2=2, lr=5e-4, lambda_1=1e-8, lambda_2=1e-8)"
   ]
  },
  {
   "cell_type": "code",
   "execution_count": 395,
   "metadata": {},
   "outputs": [],
   "source": [
    "def train_model(X, y, batch1, batch2, iterations, stepplot):\n",
    "\n",
    "    X_data_train = X[:30000]\n",
    "    y_data_train = y[:30000]\n",
    "\n",
    "    X_data_valid = X[30000:40000]\n",
    "    y_data_valid = y[30000:40000]\n",
    "\n",
    "    X_data_test  = X[40000:]\n",
    "    y_data_test  = y[40000:]\n",
    "\n",
    "    fmt    = '{:3d} epoch: {:3.2f} ep/min, loss_train = {:5.4f}, loss_val = {:5.4f}, acc_train = {:4.3f}, acc_test = {:4.3f}'\n",
    "\n",
    "\n",
    "    train_epoch     = []\n",
    "    valid_epoch     = []\n",
    "    acc_train_epoch = []\n",
    "    acc_test_epoch  = []\n",
    "    train_elem      = []\n",
    "\n",
    "    for i in range(iterations):\n",
    "        loss_t  = 0.0\n",
    "        n_batch = X_data_train.shape[0]/batch1\n",
    "        st = time.time()\n",
    "\n",
    "        for i_batch in range(0,X_data_train.shape[0], batch1):\n",
    "            X_batch  = X_data_train[i_batch:i_batch + batch1]\n",
    "            y_batch  = y_data_train[i_batch:i_batch + batch1]\n",
    "            loss_tmp = net.train(X_batch , y_batch)\n",
    "            loss_t  += loss_tmp\n",
    "            \n",
    "\n",
    "            if i_batch  % stepplot == 0:\n",
    "                train_elem.append(loss_tmp)\n",
    "                print('-> element : [{:5d}], loss_temp = {:5.4f}'.format(i_batch, loss_tmp))\n",
    "\n",
    "        if (i+1)%STEP == 0:\n",
    "            train_epoch.append(loss_t/n_batch)\n",
    "            acc_train = 0\n",
    "            for i_batch in range(0,X_data_train.shape[0], batch1):\n",
    "                X_batch_   = X_data_train[i_batch:i_batch + batch1]\n",
    "                y_batch_   = y_data_train[i_batch:i_batch + batch1]\n",
    "                acc_train += net.acc(X_batch_, y_batch_)\n",
    "\n",
    "            acc_train_epoch.append(acc_train/n_batch)\n",
    "            loss_valid = 0\n",
    "            acc_test   = 0\n",
    "\n",
    "            v_batch = X_data_valid.shape[0]/BATCH2\n",
    "            for i_batch in range(0,X_data_valid.shape[0], batch2):\n",
    "                X_batch_v = X_data_valid[i_batch:i_batch + batch2]\n",
    "                y_batch_v = y_data_valid[i_batch:i_batch + batch2]\n",
    "\n",
    "                y_hat_batch_v = net.pred(X_batch_v)\n",
    "                loss_valid   += net.getCost(y_batch_v, y_hat_batch_v)\n",
    "\n",
    "                X_batch_t = X_data_test[i_batch:i_batch + batch2]\n",
    "                y_batch_t = y_data_test[i_batch:i_batch + batch2]\n",
    "\n",
    "                acc_test += net.acc(X_batch_t, y_batch_t)\n",
    "            valid_epoch.append(loss_valid/v_batch)\n",
    "            acc_test_epoch.append(acc_test/v_batch)\n",
    "            dt   = time.time() - st\n",
    "            print(fmt.format((i+1), 60/dt,\n",
    "                                    loss_t/n_batch, \n",
    "                                    loss_valid/v_batch,\n",
    "                                    acc_train/n_batch,\n",
    "                                    acc_test/v_batch))\n",
    "    \n",
    "    history = {\n",
    "                \"loss_temp\" : train_elem,\n",
    "                \"loss_epoch\": train_epoch,\n",
    "                \"loss_valid\": valid_epoch,\n",
    "                \"acc_train\" :acc_train_epoch,\n",
    "                \"acc_test\"  :acc_test_epoch\n",
    "                }\n",
    "    \n",
    "    return history"
   ]
  },
  {
   "cell_type": "code",
   "execution_count": 396,
   "metadata": {},
   "outputs": [
    {
     "name": "stdout",
     "output_type": "stream",
     "text": [
      "-> element : [    0], loss_temp = 0.4069\n",
      "-> element : [  100], loss_temp = 0.2936\n",
      "-> element : [  200], loss_temp = 0.2917\n",
      "-> element : [  300], loss_temp = 0.2856\n",
      "-> element : [  400], loss_temp = 0.3880\n",
      "-> element : [  500], loss_temp = 0.2820\n",
      "-> element : [  600], loss_temp = 0.1929\n",
      "-> element : [  700], loss_temp = 0.2949\n",
      "-> element : [  800], loss_temp = 0.3825\n",
      "-> element : [  900], loss_temp = 0.4387\n",
      "-> element : [ 1000], loss_temp = 0.4535\n",
      "-> element : [ 1100], loss_temp = 0.2831\n",
      "-> element : [ 1200], loss_temp = 0.2294\n",
      "-> element : [ 1300], loss_temp = 0.3006\n",
      "-> element : [ 1400], loss_temp = 0.3986\n",
      "-> element : [ 1500], loss_temp = 0.3285\n",
      "-> element : [ 1600], loss_temp = 0.1788\n",
      "-> element : [ 1700], loss_temp = 0.3507\n",
      "-> element : [ 1800], loss_temp = 0.2762\n",
      "-> element : [ 1900], loss_temp = 0.2397\n",
      "-> element : [ 2000], loss_temp = 0.3153\n",
      "-> element : [ 2100], loss_temp = 0.5414\n",
      "-> element : [ 2200], loss_temp = 0.1886\n",
      "-> element : [ 2300], loss_temp = 0.4692\n",
      "-> element : [ 2400], loss_temp = 0.6170\n",
      "-> element : [ 2500], loss_temp = 0.1566\n",
      "-> element : [ 2600], loss_temp = 0.2696\n",
      "-> element : [ 2700], loss_temp = 0.1975\n",
      "-> element : [ 2800], loss_temp = 0.2871\n",
      "-> element : [ 2900], loss_temp = 0.4248\n",
      "-> element : [ 3000], loss_temp = 0.2558\n",
      "-> element : [ 3100], loss_temp = 0.2694\n",
      "-> element : [ 3200], loss_temp = 0.2582\n",
      "-> element : [ 3300], loss_temp = 0.4115\n",
      "-> element : [ 3400], loss_temp = 0.5518\n",
      "-> element : [ 3500], loss_temp = 0.3497\n",
      "-> element : [ 3600], loss_temp = 0.1693\n",
      "-> element : [ 3700], loss_temp = 0.2344\n",
      "-> element : [ 3800], loss_temp = 0.3200\n",
      "-> element : [ 3900], loss_temp = 0.1460\n",
      "-> element : [ 4000], loss_temp = 0.4406\n",
      "-> element : [ 4100], loss_temp = 0.4231\n",
      "-> element : [ 4200], loss_temp = 0.1354\n",
      "-> element : [ 4300], loss_temp = 0.4375\n",
      "-> element : [ 4400], loss_temp = 0.1914\n",
      "-> element : [ 4500], loss_temp = 0.2526\n",
      "-> element : [ 4600], loss_temp = 0.2364\n",
      "-> element : [ 4700], loss_temp = 0.1549\n",
      "-> element : [ 4800], loss_temp = 0.2700\n",
      "-> element : [ 4900], loss_temp = 0.1237\n",
      "-> element : [ 5000], loss_temp = 0.2250\n",
      "-> element : [ 5100], loss_temp = 0.2593\n",
      "-> element : [ 5200], loss_temp = 0.1298\n",
      "-> element : [ 5300], loss_temp = 0.3525\n",
      "-> element : [ 5400], loss_temp = 0.3225\n",
      "-> element : [ 5500], loss_temp = 0.1305\n",
      "-> element : [ 5600], loss_temp = 0.2218\n",
      "-> element : [ 5700], loss_temp = 0.2117\n",
      "-> element : [ 5800], loss_temp = 0.1391\n",
      "-> element : [ 5900], loss_temp = 0.1311\n",
      "-> element : [ 6000], loss_temp = 0.3334\n",
      "-> element : [ 6100], loss_temp = 0.2642\n",
      "-> element : [ 6200], loss_temp = 0.1261\n",
      "-> element : [ 6300], loss_temp = 0.1781\n",
      "-> element : [ 6400], loss_temp = 0.1474\n",
      "-> element : [ 6500], loss_temp = 0.2149\n",
      "-> element : [ 6600], loss_temp = 0.2026\n",
      "-> element : [ 6700], loss_temp = 0.1639\n",
      "-> element : [ 6800], loss_temp = 0.1700\n",
      "-> element : [ 6900], loss_temp = 0.1918\n",
      "-> element : [ 7000], loss_temp = 0.4196\n",
      "-> element : [ 7100], loss_temp = 0.3641\n",
      "-> element : [ 7200], loss_temp = 0.1728\n",
      "-> element : [ 7300], loss_temp = 0.1042\n",
      "-> element : [ 7400], loss_temp = 0.6302\n",
      "-> element : [ 7500], loss_temp = 0.6090\n",
      "-> element : [ 7600], loss_temp = 0.2916\n",
      "-> element : [ 7700], loss_temp = 0.2834\n",
      "-> element : [ 7800], loss_temp = 0.2537\n",
      "-> element : [ 7900], loss_temp = 0.1539\n",
      "-> element : [ 8000], loss_temp = 0.6381\n",
      "-> element : [ 8100], loss_temp = 0.3420\n",
      "-> element : [ 8200], loss_temp = 0.4803\n",
      "-> element : [ 8300], loss_temp = 0.1204\n",
      "-> element : [ 8400], loss_temp = 0.1152\n",
      "-> element : [ 8500], loss_temp = 0.2803\n",
      "-> element : [ 8600], loss_temp = 0.1344\n",
      "-> element : [ 8700], loss_temp = 0.6035\n",
      "-> element : [ 8800], loss_temp = 0.1201\n",
      "-> element : [ 8900], loss_temp = 0.3797\n",
      "-> element : [ 9000], loss_temp = 0.1788\n",
      "-> element : [ 9100], loss_temp = 0.4582\n",
      "-> element : [ 9200], loss_temp = 0.1148\n",
      "-> element : [ 9300], loss_temp = 0.2631\n",
      "-> element : [ 9400], loss_temp = 0.1711\n",
      "-> element : [ 9500], loss_temp = 0.1177\n",
      "-> element : [ 9600], loss_temp = 0.2277\n",
      "-> element : [ 9700], loss_temp = 0.0969\n",
      "-> element : [ 9800], loss_temp = 0.2834\n",
      "-> element : [ 9900], loss_temp = 0.1181\n",
      "-> element : [10000], loss_temp = 0.1830\n",
      "-> element : [10100], loss_temp = 0.1139\n",
      "-> element : [10200], loss_temp = 0.1277\n",
      "-> element : [10300], loss_temp = 0.2726\n",
      "-> element : [10400], loss_temp = 0.4333\n",
      "-> element : [10500], loss_temp = 0.3859\n",
      "-> element : [10600], loss_temp = 0.1495\n",
      "-> element : [10700], loss_temp = 0.2896\n",
      "-> element : [10800], loss_temp = 0.1754\n",
      "-> element : [10900], loss_temp = 0.3144\n",
      "-> element : [11000], loss_temp = 0.2030\n",
      "-> element : [11100], loss_temp = 0.1111\n",
      "-> element : [11200], loss_temp = 0.2595\n",
      "-> element : [11300], loss_temp = 0.4412\n",
      "-> element : [11400], loss_temp = 0.3443\n",
      "-> element : [11500], loss_temp = 0.0915\n",
      "-> element : [11600], loss_temp = 0.1880\n",
      "-> element : [11700], loss_temp = 0.2173\n",
      "-> element : [11800], loss_temp = 0.3157\n",
      "-> element : [11900], loss_temp = 0.2316\n",
      "-> element : [12000], loss_temp = 0.0914\n",
      "-> element : [12100], loss_temp = 0.2174\n",
      "-> element : [12200], loss_temp = 0.1027\n",
      "-> element : [12300], loss_temp = 0.1180\n",
      "-> element : [12400], loss_temp = 0.1436\n",
      "-> element : [12500], loss_temp = 0.0908\n",
      "-> element : [12600], loss_temp = 0.0942\n",
      "-> element : [12700], loss_temp = 0.4116\n",
      "-> element : [12800], loss_temp = 0.1478\n",
      "-> element : [12900], loss_temp = 0.1632\n",
      "-> element : [13000], loss_temp = 0.2484\n",
      "-> element : [13100], loss_temp = 0.4257\n",
      "-> element : [13200], loss_temp = 0.1179\n",
      "-> element : [13300], loss_temp = 0.0906\n",
      "-> element : [13400], loss_temp = 0.2114\n",
      "-> element : [13500], loss_temp = 0.1264\n",
      "-> element : [13600], loss_temp = 0.3693\n",
      "-> element : [13700], loss_temp = 0.3547\n",
      "-> element : [13800], loss_temp = 0.7373\n",
      "-> element : [13900], loss_temp = 0.0793\n",
      "-> element : [14000], loss_temp = 0.1530\n",
      "-> element : [14100], loss_temp = 0.1926\n",
      "-> element : [14200], loss_temp = 0.2959\n",
      "-> element : [14300], loss_temp = 0.2057\n",
      "-> element : [14400], loss_temp = 0.2538\n",
      "-> element : [14500], loss_temp = 0.9862\n",
      "-> element : [14600], loss_temp = 0.1538\n",
      "-> element : [14700], loss_temp = 0.3034\n",
      "-> element : [14800], loss_temp = 0.1529\n",
      "-> element : [14900], loss_temp = 0.2969\n",
      "-> element : [15000], loss_temp = 0.7895\n",
      "-> element : [15100], loss_temp = 0.2271\n",
      "-> element : [15200], loss_temp = 0.1539\n",
      "-> element : [15300], loss_temp = 0.7171\n",
      "-> element : [15400], loss_temp = 0.8989\n",
      "-> element : [15500], loss_temp = 0.1008\n",
      "-> element : [15600], loss_temp = 0.3668\n",
      "-> element : [15700], loss_temp = 0.1787\n",
      "-> element : [15800], loss_temp = 0.5117\n",
      "-> element : [15900], loss_temp = 0.0910\n",
      "-> element : [16000], loss_temp = 0.0816\n",
      "-> element : [16100], loss_temp = 0.1044\n",
      "-> element : [16200], loss_temp = 0.1523\n",
      "-> element : [16300], loss_temp = 0.0850\n",
      "-> element : [16400], loss_temp = 0.0814\n",
      "-> element : [16500], loss_temp = 0.0929\n",
      "-> element : [16600], loss_temp = 0.1570\n",
      "-> element : [16700], loss_temp = 0.2238\n",
      "-> element : [16800], loss_temp = 0.0837\n",
      "-> element : [16900], loss_temp = 0.1054\n",
      "-> element : [17000], loss_temp = 0.0797\n",
      "-> element : [17100], loss_temp = 0.2838\n",
      "-> element : [17200], loss_temp = 0.2654\n",
      "-> element : [17300], loss_temp = 0.1319\n",
      "-> element : [17400], loss_temp = 0.9586\n",
      "-> element : [17500], loss_temp = 0.6615\n",
      "-> element : [17600], loss_temp = 0.2334\n",
      "-> element : [17700], loss_temp = 0.2708\n",
      "-> element : [17800], loss_temp = 0.1945\n",
      "-> element : [17900], loss_temp = 0.0697\n",
      "-> element : [18000], loss_temp = 0.0666\n",
      "-> element : [18100], loss_temp = 0.7843\n",
      "-> element : [18200], loss_temp = 0.1074\n",
      "-> element : [18300], loss_temp = 0.1171\n",
      "-> element : [18400], loss_temp = 0.1498\n",
      "-> element : [18500], loss_temp = 0.0788\n",
      "-> element : [18600], loss_temp = 0.1517\n",
      "-> element : [18700], loss_temp = 1.0123\n",
      "-> element : [18800], loss_temp = 0.1054\n",
      "-> element : [18900], loss_temp = 0.0691\n",
      "-> element : [19000], loss_temp = 0.0779\n",
      "-> element : [19100], loss_temp = 0.0855\n",
      "-> element : [19200], loss_temp = 0.0931\n",
      "-> element : [19300], loss_temp = 0.0885\n",
      "-> element : [19400], loss_temp = 0.0819\n",
      "-> element : [19500], loss_temp = 0.1332\n",
      "-> element : [19600], loss_temp = 0.2895\n",
      "-> element : [19700], loss_temp = 0.2340\n",
      "-> element : [19800], loss_temp = 0.3398\n",
      "-> element : [19900], loss_temp = 0.0654\n"
     ]
    },
    {
     "name": "stdout",
     "output_type": "stream",
     "text": [
      "-> element : [20000], loss_temp = 0.4728\n",
      "-> element : [20100], loss_temp = 0.1153\n",
      "-> element : [20200], loss_temp = 0.4728\n",
      "-> element : [20300], loss_temp = 0.0776\n",
      "-> element : [20400], loss_temp = 0.0871\n",
      "-> element : [20500], loss_temp = 0.3836\n",
      "-> element : [20600], loss_temp = 0.0577\n",
      "-> element : [20700], loss_temp = 0.0914\n",
      "-> element : [20800], loss_temp = 0.4797\n",
      "-> element : [20900], loss_temp = 0.1689\n",
      "-> element : [21000], loss_temp = 0.0755\n",
      "-> element : [21100], loss_temp = 0.1471\n",
      "-> element : [21200], loss_temp = 0.0660\n",
      "-> element : [21300], loss_temp = 0.6831\n",
      "-> element : [21400], loss_temp = 0.3354\n",
      "-> element : [21500], loss_temp = 0.0638\n",
      "-> element : [21600], loss_temp = 0.0552\n",
      "-> element : [21700], loss_temp = 0.1242\n",
      "-> element : [21800], loss_temp = 0.1683\n",
      "-> element : [21900], loss_temp = 0.3034\n",
      "-> element : [22000], loss_temp = 0.1660\n",
      "-> element : [22100], loss_temp = 0.3767\n",
      "-> element : [22200], loss_temp = 0.1229\n",
      "-> element : [22300], loss_temp = 0.5249\n",
      "-> element : [22400], loss_temp = 0.0584\n",
      "-> element : [22500], loss_temp = 0.1228\n",
      "-> element : [22600], loss_temp = 0.0639\n",
      "-> element : [22700], loss_temp = 0.1562\n",
      "-> element : [22800], loss_temp = 0.1031\n",
      "-> element : [22900], loss_temp = 0.3894\n",
      "-> element : [23000], loss_temp = 0.0699\n",
      "-> element : [23100], loss_temp = 0.3618\n",
      "-> element : [23200], loss_temp = 0.0833\n",
      "-> element : [23300], loss_temp = 0.1980\n",
      "-> element : [23400], loss_temp = 0.1639\n",
      "-> element : [23500], loss_temp = 0.9763\n",
      "-> element : [23600], loss_temp = 0.0571\n",
      "-> element : [23700], loss_temp = 0.2163\n",
      "-> element : [23800], loss_temp = 0.0779\n",
      "-> element : [23900], loss_temp = 0.6996\n",
      "-> element : [24000], loss_temp = 0.0903\n",
      "-> element : [24100], loss_temp = 0.0692\n",
      "-> element : [24200], loss_temp = 0.1392\n",
      "-> element : [24300], loss_temp = 0.0522\n",
      "-> element : [24400], loss_temp = 0.4445\n",
      "-> element : [24500], loss_temp = 0.3973\n",
      "-> element : [24600], loss_temp = 0.5979\n",
      "-> element : [24700], loss_temp = 0.6858\n",
      "-> element : [24800], loss_temp = 0.1846\n",
      "-> element : [24900], loss_temp = 0.2228\n",
      "-> element : [25000], loss_temp = 0.0771\n",
      "-> element : [25100], loss_temp = 0.2705\n",
      "-> element : [25200], loss_temp = 0.0951\n",
      "-> element : [25300], loss_temp = 0.0581\n",
      "-> element : [25400], loss_temp = 0.0679\n",
      "-> element : [25500], loss_temp = 0.0682\n",
      "-> element : [25600], loss_temp = 0.0576\n",
      "-> element : [25700], loss_temp = 0.0762\n",
      "-> element : [25800], loss_temp = 0.0597\n",
      "-> element : [25900], loss_temp = 0.0648\n",
      "-> element : [26000], loss_temp = 0.1539\n",
      "-> element : [26100], loss_temp = 0.0778\n",
      "-> element : [26200], loss_temp = 0.1032\n",
      "-> element : [26300], loss_temp = 0.0513\n",
      "-> element : [26400], loss_temp = 0.1225\n",
      "-> element : [26500], loss_temp = 0.6349\n",
      "-> element : [26600], loss_temp = 0.3876\n",
      "-> element : [26700], loss_temp = 0.0513\n",
      "-> element : [26800], loss_temp = 0.0748\n",
      "-> element : [26900], loss_temp = 0.0657\n",
      "-> element : [27000], loss_temp = 0.1798\n",
      "-> element : [27100], loss_temp = 0.0644\n",
      "-> element : [27200], loss_temp = 0.0464\n",
      "-> element : [27300], loss_temp = 0.3420\n",
      "-> element : [27400], loss_temp = 0.0583\n",
      "-> element : [27500], loss_temp = 0.4701\n",
      "-> element : [27600], loss_temp = 0.0762\n",
      "-> element : [27700], loss_temp = 0.0582\n",
      "-> element : [27800], loss_temp = 0.0492\n",
      "-> element : [27900], loss_temp = 0.0893\n",
      "-> element : [28000], loss_temp = 0.2048\n",
      "-> element : [28100], loss_temp = 0.0527\n",
      "-> element : [28200], loss_temp = 0.1562\n",
      "-> element : [28300], loss_temp = 0.1076\n",
      "-> element : [28400], loss_temp = 0.1277\n",
      "-> element : [28500], loss_temp = 0.0485\n",
      "-> element : [28600], loss_temp = 0.0470\n",
      "-> element : [28700], loss_temp = 0.0450\n",
      "-> element : [28800], loss_temp = 0.0611\n",
      "-> element : [28900], loss_temp = 0.1847\n",
      "-> element : [29000], loss_temp = 0.4607\n",
      "-> element : [29100], loss_temp = 0.0548\n",
      "-> element : [29200], loss_temp = 0.0533\n",
      "-> element : [29300], loss_temp = 0.0484\n",
      "-> element : [29400], loss_temp = 1.0305\n",
      "-> element : [29500], loss_temp = 0.2313\n",
      "-> element : [29600], loss_temp = 0.0501\n",
      "-> element : [29700], loss_temp = 0.0444\n",
      "-> element : [29800], loss_temp = 0.0820\n",
      "-> element : [29900], loss_temp = 0.0748\n",
      "  1 epoch: 0.14 ep/min, loss_train = 0.2405, loss_val = 3.1921, acc_train = 0.493, acc_test = 0.984\n"
     ]
    }
   ],
   "source": [
    "its   = 1\n",
    "btch1 = 1\n",
    "step  = 100\n",
    "history = train_model(X=X_train, y=y_train, batch1=btch1, batch2=100, iterations=its,stepplot=step)"
   ]
  },
  {
   "cell_type": "code",
   "execution_count": 399,
   "metadata": {},
   "outputs": [
    {
     "data": {
      "image/png": "[encoded data removed]",
      "text/plain": [
       "<Figure size 1008x576 with 1 Axes>"
      ]
     },
     "metadata": {
      "needs_background": "light"
     },
     "output_type": "display_data"
    }
   ],
   "source": [
    "btch1 = 1\n",
    "loss_t = history['loss_temp']\n",
    "\n",
    "it     = [i*step for i in range(len(loss_t))]\n",
    "\n",
    "fig, ax = plt.subplots(figsize=(14, 8))\n",
    "lt      = ax.plot(it, loss_t)\n",
    "ax.set(xlabel='review i', ylabel='Cost', title='Multilayer with L1 and L2 regularization')\n",
    "ax.axis([0, len(loss_t)*step  + 0.5, 0.0, 2.8])\n",
    "#plt.legend([lt],[\"Training\"])\n",
    "plt.show()"
   ]
  },
  {
   "cell_type": "code",
   "execution_count": 357,
   "metadata": {},
   "outputs": [
    {
     "data": {
      "image/png": "[encoded data removed]",
      "text/plain": [
       "<Figure size 1008x576 with 1 Axes>"
      ]
     },
     "metadata": {
      "needs_background": "light"
     },
     "output_type": "display_data"
    }
   ],
   "source": [
    "ep = np.arange(1, it + 1, 1)\n",
    "\n",
    "fig, ax = plt.subplots(figsize=(14, 8))\n",
    "l1 , l2   = ax.plot(ep, train_epoch, ep, valid_epoch)\n",
    "ax.set(xlabel='Epoch', ylabel='Cost', title='Logistic Regression with L1 and L2 regularization')\n",
    "ax.axis([0.8, 4 + 0.5, 0.1, 0.8])\n",
    "plt.legend([l1, l2],[\"Training\",\"Validation\"])\n",
    "plt.show()"
   ]
  },
  {
   "cell_type": "code",
   "execution_count": 330,
   "metadata": {},
   "outputs": [
    {
     "data": {
      "image/png": "[encoded data removed]",
      "text/plain": [
       "<Figure size 1008x576 with 1 Axes>"
      ]
     },
     "metadata": {
      "needs_background": "light"
     },
     "output_type": "display_data"
    }
   ],
   "source": [
    "fig, ax = plt.subplots(figsize=(14, 8))\n",
    "\n",
    "l3, l4  = ax.plot(ep, acc_train_epoch, ep, acc_test_epoch)\n",
    "ax.set(xlabel='Epoch', ylabel='Accuracy', title='Multiple Layer Perceptron')\n",
    "\n",
    "plt.legend([l3, l4],[\"Train Accuracy\", \"Test Accuracy\"])\n",
    "plt.show()"
   ]
  },
  {
   "cell_type": "code",
   "execution_count": 400,
   "metadata": {},
   "outputs": [
    {
     "data": {
      "text/plain": [
       "['./net.pkl']"
      ]
     },
     "execution_count": 400,
     "metadata": {},
     "output_type": "execute_result"
    }
   ],
   "source": [
    "#Exercise 3: compare  with your Neural Network\n",
    "\n",
    "import joblib\n",
    "import os\n",
    "#if not os.path.exists('./pkl_objects'):\n",
    "#    os.mkdir('./pkl_objects')\n",
    "    \n",
    "joblib.dump(encoder, './encoder.pkl')\n",
    "joblib.dump(net,'./net.pkl')"
   ]
  },
  {
   "cell_type": "code",
   "execution_count": 401,
   "metadata": {},
   "outputs": [],
   "source": [
    "vectorizer = joblib.load('./encoder.pkl')\n",
    "model      = joblib.load('./net.pkl')"
   ]
  },
  {
   "cell_type": "code",
   "execution_count": 402,
   "metadata": {},
   "outputs": [
    {
     "data": {
      "text/plain": [
       "array([[False, False]])"
      ]
     },
     "execution_count": 402,
     "metadata": {},
     "output_type": "execute_result"
    }
   ],
   "source": [
    "example = ['I loved this movie']\n",
    "X = vectorizer.transform(example)\n",
    "\n",
    "model.predSentiment(X)"
   ]
  },
  {
   "cell_type": "code",
   "execution_count": 315,
   "metadata": {},
   "outputs": [
    {
     "data": {
      "text/plain": [
       "array([[ True]])"
      ]
     },
     "execution_count": 315,
     "metadata": {},
     "output_type": "execute_result"
    }
   ],
   "source": [
    "example = ['This movie was great!']\n",
    "X = vectorizer.transform(example)\n",
    "\n",
    "model.predSentiment(X)"
   ]
  },
  {
   "cell_type": "code",
   "execution_count": 316,
   "metadata": {},
   "outputs": [
    {
     "data": {
      "text/plain": [
       "array([[False]])"
      ]
     },
     "execution_count": 316,
     "metadata": {},
     "output_type": "execute_result"
    }
   ],
   "source": [
    "example = [\"I didn't like this movie\"]\n",
    "X = vectorizer.transform(example)\n",
    "\n",
    "model.predSentiment(X)"
   ]
  },
  {
   "cell_type": "code",
   "execution_count": 317,
   "metadata": {},
   "outputs": [
    {
     "data": {
      "text/plain": [
       "array([[False]])"
      ]
     },
     "execution_count": 317,
     "metadata": {},
     "output_type": "execute_result"
    }
   ],
   "source": [
    "example = ['I did not like this movie']\n",
    "X = vectorizer.transform(example)\n",
    "\n",
    "model.predSentiment(X)"
   ]
  },
  {
   "cell_type": "code",
   "execution_count": 318,
   "metadata": {},
   "outputs": [
    {
     "data": {
      "text/plain": [
       "array([[False]])"
      ]
     },
     "execution_count": 318,
     "metadata": {},
     "output_type": "execute_result"
    }
   ],
   "source": [
    "example = [\"I don't this movie\"]\n",
    "X = vectorizer.transform(example)\n",
    "\n",
    "model.predSentiment(X)"
   ]
  },
  {
   "cell_type": "markdown",
   "metadata": {},
   "source": [
    "<br>\n",
    "<br>"
   ]
  },
  {
   "cell_type": "markdown",
   "metadata": {
    "collapsed": true
   },
   "source": [
    "# Model Persistence"
   ]
  },
  {
   "cell_type": "markdown",
   "metadata": {},
   "source": [
    "In the previous section, we successfully trained a model to predict the sentiment of a movie review. Unfortunately, if we'd close this IPython notebook at this point, we'd have to go through the whole learning process again and again if we'd want to make a prediction on \"new data.\"\n",
    "\n",
    "So, to reuse this model, we could use the [`pickle`](https://docs.python.org/3.5/library/pickle.html) module to \"serialize a Python object structure\". Or even better, we could use the [`joblib`](https://pypi.python.org/pypi/joblib) library, which handles large NumPy arrays more efficiently.\n",
    "\n",
    "To install:\n",
    "conda install -c anaconda joblib"
   ]
  },
  {
   "cell_type": "code",
   "execution_count": 18,
   "metadata": {},
   "outputs": [],
   "source": [
    "import joblib\n",
    "import os\n",
    "if not os.path.exists('./pkl_objects'):\n",
    "    os.mkdir('./pkl_objects')\n",
    "    \n",
    "joblib.dump(encoder, './encoder.pkl')\n",
    "joblib.dump(regr,'./regr.pkl')"
   ]
  },
  {
   "cell_type": "markdown",
   "metadata": {},
   "source": [
    "Using the code above, we \"pickled\" the `HashingVectorizer` and the `SGDClassifier` so that we can re-use those objects later. However, `pickle` and `joblib` have a known issue with `pickling` objects or functions from a `__main__` block and we'd get an `AttributeError: Can't get attribute [x] on <module '__main__'>` if we'd unpickle it later. Thus, to pickle the `tokenizer` function, we can write it to a file and import it to get the `namespace` \"right\"."
   ]
  },
  {
   "cell_type": "code",
   "execution_count": 19,
   "metadata": {},
   "outputs": [],
   "source": [
    "#%%writefile tokenizer.py\n",
    "#from nltk.stem.porter import PorterStemmer\n",
    "#import re\n",
    "#from nltk.corpus import stopwords\n",
    "\n",
    "#stop = stopwords.words('english')\n",
    "#porter = PorterStemmer()\n",
    "\n",
    "#def tokenizer(text):\n",
    "#    text = re.sub('<[^>]*>', '', text)\n",
    "#    emoticons = re.findall('(?::|;|=)(?:-)?(?:\\)|\\(|D|P)', text.lower())\n",
    "#    text = re.sub('[\\W]+', ' ', text.lower()) + ' '.join(emoticons).replace('-', '')\n",
    "#    text = [w for w in text.split() if w not in stop]\n",
    "#    tokenized = [porter.stem(w) for w in text]\n",
    "#    return text"
   ]
  },
  {
   "cell_type": "code",
   "execution_count": 20,
   "metadata": {},
   "outputs": [],
   "source": [
    "#from tokenizer import tokenizer\n",
    "#joblib.dump(tokenizer, './tokenizer.pkl')"
   ]
  },
  {
   "cell_type": "markdown",
   "metadata": {},
   "source": [
    "Now, let us restart this IPython notebook and check if the we can load our serialized objects:"
   ]
  },
  {
   "cell_type": "code",
   "execution_count": 21,
   "metadata": {},
   "outputs": [],
   "source": [
    "#import joblib\n",
    "#tokenizer = joblib.load('./tokenizer.pkl')\n",
    "#vect = joblib.load('./vectorizer.pkl')\n",
    "#clf = joblib.load('./clf.pkl')"
   ]
  },
  {
   "cell_type": "markdown",
   "metadata": {},
   "source": [
    "After loading the `tokenizer`, `HashingVectorizer`, and the tranined logistic regression model, we can use it to make predictions on new data, which can be useful, for example, if we'd want to embed our classifier into a web application -- a topic for another IPython notebook."
   ]
  },
  {
   "cell_type": "code",
   "execution_count": 22,
   "metadata": {},
   "outputs": [],
   "source": [
    "#example = ['I did not like this movie']\n",
    "#X = vect.transform(example)\n",
    "#clf.predict(X)"
   ]
  },
  {
   "cell_type": "code",
   "execution_count": 23,
   "metadata": {},
   "outputs": [],
   "source": [
    "#example = ['I loved this movie']\n",
    "#X = vect.transform(example)\n",
    "#clf.predict(X)"
   ]
  }
 ],
 "metadata": {
  "kernelspec": {
   "display_name": "Python 3",
   "language": "python",
   "name": "python3"
  },
  "language_info": {
   "codemirror_mode": {
    "name": "ipython",
    "version": 3
   },
   "file_extension": ".py",
   "mimetype": "text/x-python",
   "name": "python",
   "nbconvert_exporter": "python",
   "pygments_lexer": "ipython3",
   "version": "3.5.2"
  }
 },
 "nbformat": 4,
 "nbformat_minor": 1
}
