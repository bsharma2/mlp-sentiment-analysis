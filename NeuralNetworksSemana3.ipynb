{
 "cells": [
  {
   "cell_type": "markdown",
   "metadata": {},
   "source": [
    "# Logistic Regression for Sentiment Analysis"
   ]
  },
  {
   "cell_type": "markdown",
   "metadata": {},
   "source": [
    "Adapted from http://nbviewer.jupyter.org/github/rasbt/pattern_classification/blob/master/machine_learning/scikit-learn/outofcore_modelpersistence.ipynb"
   ]
  },
  {
   "cell_type": "markdown",
   "metadata": {},
   "source": [
    "<br>\n",
    "<br>"
   ]
  },
  {
   "cell_type": "markdown",
   "metadata": {},
   "source": [
    "## The IMDb Movie Review Dataset"
   ]
  },
  {
   "cell_type": "markdown",
   "metadata": {},
   "source": [
    "In this section, we will train a simple logistic regression model to classify movie reviews from the 50k IMDb review dataset that has been collected by Maas et. al.\n",
    "\n",
    "> AL Maas, RE Daly, PT Pham, D Huang, AY Ng, and C Potts. Learning word vectors for sentiment analysis. In Proceedings of the 49th Annual Meeting of the Association for Computational Lin- guistics: Human Language Technologies, pages 142–150, Portland, Oregon, USA, June 2011. Association for Computational Linguistics\n",
    "\n",
    "[Source: http://ai.stanford.edu/~amaas/data/sentiment/]\n",
    "\n",
    "The dataset consists of 50,000 movie reviews from the original \"train\" and \"test\" subdirectories. The class labels are binary (1=positive and 0=negative) and contain 25,000 positive and 25,000 negative movie reviews, respectively.\n",
    "For simplicity, I assembled the reviews in a single CSV file.\n"
   ]
  },
  {
   "cell_type": "code",
   "execution_count": 1,
   "metadata": {},
   "outputs": [],
   "source": [
    "import re\n",
    "import collections\n",
    "import sys\n",
    "import time\n",
    "import numpy as np\n",
    "import pandas as pd\n",
    "import matplotlib.pyplot as plt\n",
    "from nltk.stem.porter import PorterStemmer\n",
    "from nltk.corpus import stopwords"
   ]
  },
  {
   "cell_type": "code",
   "execution_count": 2,
   "metadata": {},
   "outputs": [
    {
     "data": {
      "text/html": [
       "<div>\n",
       "<style scoped>\n",
       "    .dataframe tbody tr th:only-of-type {\n",
       "        vertical-align: middle;\n",
       "    }\n",
       "\n",
       "    .dataframe tbody tr th {\n",
       "        vertical-align: top;\n",
       "    }\n",
       "\n",
       "    .dataframe thead th {\n",
       "        text-align: right;\n",
       "    }\n",
       "</style>\n",
       "<table border=\"1\" class=\"dataframe\">\n",
       "  <thead>\n",
       "    <tr style=\"text-align: right;\">\n",
       "      <th></th>\n",
       "      <th>review</th>\n",
       "      <th>sentiment</th>\n",
       "    </tr>\n",
       "  </thead>\n",
       "  <tbody>\n",
       "    <tr>\n",
       "      <th>49995</th>\n",
       "      <td>OK, lets start with the best. the building. al...</td>\n",
       "      <td>0</td>\n",
       "    </tr>\n",
       "    <tr>\n",
       "      <th>49996</th>\n",
       "      <td>The British 'heritage film' industry is out of...</td>\n",
       "      <td>0</td>\n",
       "    </tr>\n",
       "    <tr>\n",
       "      <th>49997</th>\n",
       "      <td>I don't even know where to begin on this one. ...</td>\n",
       "      <td>0</td>\n",
       "    </tr>\n",
       "    <tr>\n",
       "      <th>49998</th>\n",
       "      <td>Richard Tyler is a little boy who is scared of...</td>\n",
       "      <td>0</td>\n",
       "    </tr>\n",
       "    <tr>\n",
       "      <th>49999</th>\n",
       "      <td>I waited long to watch this movie. Also becaus...</td>\n",
       "      <td>1</td>\n",
       "    </tr>\n",
       "  </tbody>\n",
       "</table>\n",
       "</div>"
      ],
      "text/plain": [
       "                                                  review  sentiment\n",
       "49995  OK, lets start with the best. the building. al...          0\n",
       "49996  The British 'heritage film' industry is out of...          0\n",
       "49997  I don't even know where to begin on this one. ...          0\n",
       "49998  Richard Tyler is a little boy who is scared of...          0\n",
       "49999  I waited long to watch this movie. Also becaus...          1"
      ]
     },
     "execution_count": 2,
     "metadata": {},
     "output_type": "execute_result"
    }
   ],
   "source": [
    "# if you want to download the original file:\n",
    "#df = pd.read_csv('https://raw.githubusercontent.com/rasbt/pattern_classification/master/data/50k_imdb_movie_reviews.csv')\n",
    "# otherwise load local file\n",
    "df = pd.read_csv('shuffled_movie_data.csv')\n",
    "df.tail()"
   ]
  },
  {
   "cell_type": "markdown",
   "metadata": {},
   "source": [
    "Let us shuffle the class labels."
   ]
  },
  {
   "cell_type": "code",
   "execution_count": 3,
   "metadata": {},
   "outputs": [
    {
     "data": {
      "text/plain": [
       "array(['In 1974, the teenager Martha Moxley (Maggie Grace) moves to the high-class area of Belle Haven, Greenwich, Connecticut. On the Mischief Night, eve of Halloween, she was murdered in the backyard of her house and her murder remained unsolved. Twenty-two years later, the writer Mark Fuhrman (Christopher Meloni), who is a former LA detective that has fallen in disgrace for perjury in O.J. Simpson trial and moved to Idaho, decides to investigate the case with his partner Stephen Weeks (Andrew Mitchell) with the purpose of writing a book. The locals squirm and do not welcome them, but with the support of the retired detective Steve Carroll (Robert Forster) that was in charge of the investigation in the 70\\'s, they discover the criminal and a net of power and money to cover the murder.<br /><br />\"Murder in Greenwich\" is a good TV movie, with the true story of a murder of a fifteen years old girl that was committed by a wealthy teenager whose mother was a Kennedy. The powerful and rich family used their influence to cover the murder for more than twenty years. However, a snoopy detective and convicted perjurer in disgrace was able to disclose how the hideous crime was committed. The screenplay shows the investigation of Mark and the last days of Martha in parallel, but there is a lack of the emotion in the dramatization. My vote is seven.<br /><br />Title (Brazil): Not Available',\n",
       "       1], dtype=object)"
      ]
     },
     "execution_count": 3,
     "metadata": {},
     "output_type": "execute_result"
    }
   ],
   "source": [
    "df.head().values[0]"
   ]
  },
  {
   "cell_type": "code",
   "execution_count": 32,
   "metadata": {},
   "outputs": [],
   "source": [
    "## uncomment these lines if you have dowloaded the original file:\n",
    "#np.random.seed(0)\n",
    "#df = df.reindex(np.random.permutation(df.index))\n",
    "#df[['review', 'sentiment']].to_csv('shuffled_movie_data.csv', index=False)"
   ]
  },
  {
   "cell_type": "markdown",
   "metadata": {},
   "source": [
    "## Preprocessing Text Data"
   ]
  },
  {
   "cell_type": "markdown",
   "metadata": {},
   "source": [
    "Now, let us define a simple `tokenizer` that splits the text into individual word tokens. Furthermore, we will use some simple regular expression to remove HTML markup and all non-letter characters but \"emoticons,\" convert the text to lower case, remove stopwords, and apply the Porter stemming algorithm to convert the words into their root form."
   ]
  },
  {
   "cell_type": "code",
   "execution_count": 4,
   "metadata": {},
   "outputs": [],
   "source": [
    "from nltk.stem import WordNetLemmatizer\n",
    "\n",
    "wordnet_lemmatizer = WordNetLemmatizer()\n",
    "\n",
    "def tokenizer(text):\n",
    "    text = re.sub('<[^>]*>', '', text)\n",
    "    emoticons = re.findall('(?::|;|=)(?:-)?(?:\\)|\\(|D|P)', text.lower())\n",
    "    text = re.sub('[\\W]+', ' ', text.lower())\n",
    "    text = [w for w in text.split()]\n",
    "    tokenized = [wordnet_lemmatizer.lemmatize(w) for w in text]\n",
    "    return tokenized"
   ]
  },
  {
   "cell_type": "markdown",
   "metadata": {},
   "source": [
    "Let's give it at try:"
   ]
  },
  {
   "cell_type": "code",
   "execution_count": 5,
   "metadata": {},
   "outputs": [
    {
     "data": {
      "text/plain": [
       "['this', 'is', 'a', 'test']"
      ]
     },
     "execution_count": 5,
     "metadata": {},
     "output_type": "execute_result"
    }
   ],
   "source": [
    "tokenizer('This :) is a <a> test! :-)</br>')"
   ]
  },
  {
   "cell_type": "markdown",
   "metadata": {},
   "source": [
    "## Generator"
   ]
  },
  {
   "cell_type": "markdown",
   "metadata": {},
   "source": [
    "First, we define a generator that returns the document body and the corresponding class label:"
   ]
  },
  {
   "cell_type": "code",
   "execution_count": 6,
   "metadata": {},
   "outputs": [],
   "source": [
    "def stream_docs(path):\n",
    "    with open(path, 'r') as csv:\n",
    "        next(csv) # skip header\n",
    "        for line in csv:\n",
    "            text, label = line[:-3], int(line[-2])\n",
    "            yield text, label"
   ]
  },
  {
   "cell_type": "markdown",
   "metadata": {},
   "source": [
    "To conform that the `stream_docs` function fetches the documents as intended, let us execute the following code snippet before we implement the `get_minibatch` function:"
   ]
  },
  {
   "cell_type": "markdown",
   "metadata": {},
   "source": [
    "After we confirmed that our `stream_docs` functions works, we will now implement a `get_minibatch` function to fetch a specified number (`size`) of documents:"
   ]
  },
  {
   "cell_type": "code",
   "execution_count": 7,
   "metadata": {},
   "outputs": [],
   "source": [
    "def get_minibatch(doc_stream, size):\n",
    "    docs, y = [], []\n",
    "    for _ in range(size):\n",
    "        text, label = next(doc_stream)\n",
    "        docs.append(text)\n",
    "        y.append(label)\n",
    "    return docs, y"
   ]
  },
  {
   "cell_type": "markdown",
   "metadata": {},
   "source": [
    "Next, we will make use of the \"hashing trick\" through scikit-learns [HashingVectorizer](http://scikit-learn.org/stable/modules/generated/sklearn.feature_extraction.text.HashingVectorizer.html) to create a bag-of-words model of our documents. Details of the bag-of-words model for document classification can be found at  [Naive Bayes and Text Classification I - Introduction and Theory](http://arxiv.org/abs/1410.5329)."
   ]
  },
  {
   "cell_type": "code",
   "execution_count": 38,
   "metadata": {},
   "outputs": [],
   "source": [
    "# Exercise 1: define features based on word embeddings (pre-trained word2vec / Glove/Fastext emebddings can be used)\n",
    "# Define suitable d dimension, and sequence length"
   ]
  },
  {
   "cell_type": "markdown",
   "metadata": {},
   "source": [
    "## Word Embedding"
   ]
  },
  {
   "cell_type": "markdown",
   "metadata": {},
   "source": [
    "We will train our own embedding vectors with all the reviews, with a 40 size of each vector to save memory"
   ]
  },
  {
   "cell_type": "code",
   "execution_count": 8,
   "metadata": {},
   "outputs": [],
   "source": [
    "doc_generator = stream_docs(path='shuffled_movie_data.csv')"
   ]
  },
  {
   "cell_type": "code",
   "execution_count": 10,
   "metadata": {},
   "outputs": [
    {
     "name": "stdout",
     "output_type": "stream",
     "text": [
      "Done     \n",
      "\n",
      "50000\n"
     ]
    }
   ],
   "source": [
    "from gensim.models import Word2Vec\n",
    "from sklearn.decomposition import PCA\n",
    "import matplotlib.pyplot as plt\n",
    "\n",
    "doc_generator = stream_docs(path='shuffled_movie_data.csv')\n",
    "\n",
    "sentences = []\n",
    "labels    = []\n",
    "lengths   = []\n",
    "for idx, review in enumerate(doc_generator):\n",
    "    toVec = tokenizer(review[0])\n",
    "    sentences.append(toVec)\n",
    "    labels.append(review[1])\n",
    "    lengths.append(len(toVec))\n",
    "    sys.stdout.write('\\r{:5.2f}%'.format(100*(idx+1)/50000))\n",
    "sys.stdout.write('\\rDone     \\n\\n')  \n",
    "print(len(sentences))"
   ]
  },
  {
   "cell_type": "markdown",
   "metadata": {},
   "source": [
    "### Getting embedding vectors"
   ]
  },
  {
   "cell_type": "code",
   "execution_count": 148,
   "metadata": {},
   "outputs": [
    {
     "name": "stdout",
     "output_type": "stream",
     "text": [
      "trained!\n"
     ]
    }
   ],
   "source": [
    "emb_size = 40\n",
    "\n",
    "model = Word2Vec(sentences, size=emb_size, window=5, min_count=5, workers=4)\n",
    "print('trained!')"
   ]
  },
  {
   "cell_type": "code",
   "execution_count": 149,
   "metadata": {},
   "outputs": [
    {
     "name": "stdout",
     "output_type": "stream",
     "text": [
      "'woman' is similar to 'girl' with a score of 0.8877\n"
     ]
    }
   ],
   "source": [
    "sim = model.wv.most_similar(positive=['woman'], topn=1)\n",
    "print(\"'woman' is similar to '{}' with a score of {:1.4f}\".format(sim[0][0],sim[0][1]))"
   ]
  },
  {
   "cell_type": "code",
   "execution_count": 150,
   "metadata": {},
   "outputs": [
    {
     "name": "stdout",
     "output_type": "stream",
     "text": [
      "vocabulary size : 35327\n"
     ]
    }
   ],
   "source": [
    "print('vocabulary size :', len(model.wv.vocab.keys()))"
   ]
  },
  {
   "cell_type": "code",
   "execution_count": 151,
   "metadata": {},
   "outputs": [
    {
     "name": "stdout",
     "output_type": "stream",
     "text": [
      "embedding size :  (40,)\n"
     ]
    }
   ],
   "source": [
    "print('embedding size : ', model.wv['woman'].shape)"
   ]
  },
  {
   "cell_type": "code",
   "execution_count": 152,
   "metadata": {},
   "outputs": [],
   "source": [
    "class ReviewVectorizer:\n",
    "    def __init__(self, model, maxlen):\n",
    "        self.model  = model\n",
    "        self.maxlen = maxlen\n",
    "    def transform(self, reviews_tokenized):\n",
    "        n = len(reviews_tokenized)\n",
    "        vector = np.zeros((n, self.maxlen, emb_size), dtype=np.float16)\n",
    "        for idx, review in enumerate(reviews_tokenized):\n",
    "            for iw, word in enumerate(review):\n",
    "                if word in self.model.wv.vocab:\n",
    "                    vector[idx][iw] = self.model.wv[word]\n",
    "            sys.stdout.write('\\r{:5.2f}%'.format(100*(idx+1)/n))\n",
    "        sys.stdout.write('\\rDone     \\n\\n')                    \n",
    "        vector = vector.reshape((n, -1))\n",
    "        return vector"
   ]
  },
  {
   "cell_type": "code",
   "execution_count": 153,
   "metadata": {},
   "outputs": [],
   "source": [
    "MAXLEN = max(lengths)\n",
    "vectorizer = ReviewVectorizer(model, MAXLEN)"
   ]
  },
  {
   "cell_type": "code",
   "execution_count": 154,
   "metadata": {},
   "outputs": [
    {
     "name": "stdout",
     "output_type": "stream",
     "text": [
      "Done     \n",
      "\n"
     ]
    }
   ],
   "source": [
    "res = vectorizer.transform(sentences)"
   ]
  },
  {
   "cell_type": "code",
   "execution_count": 155,
   "metadata": {},
   "outputs": [],
   "source": [
    "assert (MAXLEN*emb_size == res.shape[1])"
   ]
  },
  {
   "cell_type": "code",
   "execution_count": 156,
   "metadata": {},
   "outputs": [
    {
     "name": "stdout",
     "output_type": "stream",
     "text": [
      "X_train shape:  (50000, 99920)\n",
      "y_train shape:  (50000, 1)\n"
     ]
    }
   ],
   "source": [
    "y_train = np.asarray(labels).reshape((-1, 1))\n",
    "X_train = res\n",
    "del res\n",
    "print('X_train shape: ',X_train.shape)\n",
    "print('y_train shape: ',y_train.shape)"
   ]
  },
  {
   "cell_type": "code",
   "execution_count": 157,
   "metadata": {},
   "outputs": [],
   "source": [
    "# Exercise 2: Define at least a Three layer neural network. Define its structure (number of hidden neurons, etc)\n",
    "# Define a nonlinear function for hidden layers.\n",
    "# Define a suitable loss function for binary classification\n",
    "# Implement the backpropagation algorithm for this structure\n",
    "# Do not use Keras / Tensorflow /PyTorch etc. libraries\n",
    "# Train the model using SGD"
   ]
  },
  {
   "cell_type": "markdown",
   "metadata": {},
   "source": [
    "## Multilayer Neural Network"
   ]
  },
  {
   "cell_type": "markdown",
   "metadata": {},
   "source": [
    "We are using 3 layers, 2 hidden layers with tangent hiperbolic activation and a sigmoid function at the end. This neural network also work with L1 and L2 regularization.\n",
    "\n",
    "We try to use few neurons on hidden layers to get a better generalization."
   ]
  },
  {
   "cell_type": "code",
   "execution_count": 158,
   "metadata": {},
   "outputs": [],
   "source": [
    "class Multilayer:\n",
    "    \"\"\"\n",
    "        Logistic Regression with L1 and L2 regularization\n",
    "        \n",
    "        Arguments:\n",
    "                \n",
    "                alpha   : Learning Rate\n",
    "                l1_coef : Lambda 1\n",
    "                l2_coef : Lambda 2\n",
    "            \n",
    "    \"\"\"\n",
    "    \n",
    "    def __init__ (self, input_size, hid_units1, hid_units2, lr, lambda_1, lambda_2):\n",
    "        self.W1      = np.random.randn(input_size, hid_units1) * np.sqrt(1/input_size)\n",
    "        self.b1      = np.zeros((1, hid_units1))\n",
    "        self.W2      = np.random.randn(hid_units1, hid_units2) * np.sqrt(1/hid_units1)\n",
    "        self.b2      = np.zeros((1, hid_units2))\n",
    "        self.W3      = np.random.randn(hid_units2,          1) * np.sqrt(1/hid_units2)\n",
    "        self.b3      = 0.0\n",
    "        self.lr      = lr\n",
    "        self.l1_coef = lambda_1\n",
    "        self.l2_coef = lambda_2\n",
    "        \n",
    "    def ReLU(self, z):\n",
    "        return np.maximum(0, z)\n",
    "    \n",
    "    def TangH(self, z):\n",
    "        return (np.exp(z) - np.exp(-z))/(np.exp(z) + np.exp(-z) + 1e-8)\n",
    "    \n",
    "    def deltaTangH(self, z):\n",
    "        return 4 * np.exp(z) * np.exp(-z)/(np.exp(z) + np.exp(-z)+ 1e-8)**2\n",
    "    \n",
    "    def sigmoid(self,z):\n",
    "        \"\"\"\n",
    "            Activation function\n",
    "            \n",
    "            Arguments:  \n",
    "                z : W*X + b\n",
    "                \n",
    "            Returns:\n",
    "                sigmoid function of z.\n",
    "                \n",
    "        \"\"\"\n",
    "        return 1 / (1 + np.exp(-z))\n",
    "    \n",
    "    def deltaCost(self, y, y_hat):\n",
    "        return y_hat - y\n",
    "        \n",
    "    def pred(self, X):\n",
    "        \"\"\"\n",
    "            Given a X matrix as a input we return the prediction for\n",
    "            W and b.\n",
    "            \n",
    "            Args:\n",
    "                X : Matrix of features vectors for each review\n",
    "            \n",
    "            Returns:\n",
    "                Prediction without a threshold\n",
    "        \"\"\"\n",
    "        Z1 = np.dot(X , self.W1) + self.b1\n",
    "        A1 = self.TangH(Z1)\n",
    "        Z2 = np.dot(A1, self.W2) + self.b2\n",
    "        A2 = self.TangH(Z2)   \n",
    "        Z3 = np.dot(A2, self.W3) + self.b3\n",
    "        A3 = self.sigmoid(Z3)          \n",
    "        return A3\n",
    "\n",
    "    def predSentiment(self, X):\n",
    "        \"\"\"\n",
    "            Given a X matrix as a input we return the prediction with threshold \n",
    "            for W and b.\n",
    "            \n",
    "            Args:\n",
    "                X : Matrix of features vectors for each review\n",
    "            \n",
    "            Returns:\n",
    "                Prediction with threshold\n",
    "        \"\"\"\n",
    "        return self.pred(X) > 0.5\n",
    "    \n",
    "    def acc(self, X, y):\n",
    "        \"\"\"\n",
    "            Accuracy of a input and label\n",
    "            \n",
    "            Args:\n",
    "                X: Matrix of features vectors for each review\n",
    "                y: Labels of each Matrix\n",
    "            \n",
    "            Returns:\n",
    "                A number between 0 and 1.0\n",
    "        \"\"\"\n",
    "        \n",
    "        return np.mean(self.predSentiment(X) == y)\n",
    "    \n",
    "    def getCost(self,y, y_hat):\n",
    "        \"\"\"\n",
    "            Cost function\n",
    "            \n",
    "                Cost = - [y * log(sigma(W*X + b)) + (1 - y) * log(1 - sigma(W*X + b))] \n",
    "                         + 0.5 * l2_ratio * ||w||^2_2 \n",
    "                         + l1_ratio * ||w||_1 \n",
    "            \n",
    "            Args:\n",
    "                X: Matrix of features vectors for each review\n",
    "                y: Labels of each Matrix\n",
    "                \n",
    "            Returns:\n",
    "                Cost using L1 and L2 regularizations \n",
    "                \n",
    "        \"\"\"\n",
    "        y_hat = np.clip(y_hat, 1e-8, 1 - 1e-8)\n",
    "        cost  = - 0.5 * np.mean(np.multiply(y  , np.log(y_hat     + 1e-5))\n",
    "                             + np.multiply(1-y , np.log(1 - y_hat + 1e-5)))\n",
    "        \n",
    "        cost += 0.5 * self.l2_coef * np.sum(np.square(self.W1)) + self.l1_coef * np.sum(np.abs(self.W1)) \n",
    "        cost += 0.5 * self.l2_coef * np.sum(np.square(self.W2)) + self.l1_coef * np.sum(np.abs(self.W2))\n",
    "        \n",
    "        return cost \n",
    "    \n",
    "    def Propagation(self, X, y):\n",
    "        # Forward Propagation\n",
    "        \n",
    "        Z1 = np.dot(X , self.W1) + self.b1\n",
    "        A1 = self.TangH(Z1)\n",
    "        Z2 = np.dot(A1, self.W2) + self.b2\n",
    "        A2 = self.TangH(Z2)\n",
    "        Z3 = np.dot(A2, self.W3) + self.b3\n",
    "        A3 = self.sigmoid(Z3)\n",
    "        cost   = self.getCost(y, A3)        \n",
    "        d_cost = self.deltaCost(y, A3)\n",
    "        \n",
    "        # Backward Propagation\n",
    "        \n",
    "        dW3     = np.dot(A2.T, d_cost)\n",
    "        db3     = np.sum(d_cost, axis=0, keepdims=True) \n",
    "        \n",
    "        # Hidden Layer 2\n",
    "        dhidden2 = np.dot(d_cost, self.W3.T)\n",
    "        \n",
    "        # The TangH derivative\n",
    "        dG2 = self.deltaTangH(Z2)\n",
    "        #dhidden[A1 <= 0] = 0\n",
    "        assert(dG2.shape == dhidden2.shape)\n",
    "        dhidden2 = dG2 * dhidden2\n",
    "        # Second Layer\n",
    "        dW2  = np.matmul(A1.T, dhidden2)\n",
    "        db2  = np.sum(dhidden2, axis=0, keepdims=True)        \n",
    "    \n",
    "        # Hidden Layer 3\n",
    "        dhidden1 = np.dot(dhidden2, self.W2.T)\n",
    "        \n",
    "        # The TangH derivative\n",
    "        dG1 = self.deltaTangH(Z1)\n",
    "        #dhidden[A1 <= 0] = 0\n",
    "        assert(dG1.shape == dhidden1.shape)\n",
    "        dhidden1 = dG1 * dhidden1\n",
    "        # First Layer\n",
    "        dW1  = np.matmul(X.T, dhidden1)\n",
    "        db1  = np.sum(dhidden1, axis=0, keepdims=True)  \n",
    "        \n",
    "        # Regularization L2\n",
    "        dW1 += self.l2_coef * self.W1\n",
    "        dW2 += self.l2_coef * self.W2\n",
    "        dW3 += self.l2_coef * self.W3\n",
    "\n",
    "        # Regularization L1\n",
    "        dW1 += self.l1_coef * np.multiply(self.W1, 1 / np.abs(self.W1))\n",
    "        dW2 += self.l1_coef * np.multiply(self.W2, 1 / np.abs(self.W2))\n",
    "        dW3 += self.l1_coef * np.multiply(self.W3, 1 / np.abs(self.W3))  \n",
    "        \n",
    "        assert(dW1.shape == self.W1.shape)\n",
    "        assert(db1.dtype == float)\n",
    "        assert(dW2.shape == self.W2.shape)\n",
    "        assert(db2.dtype == float)\n",
    "        assert(dW3.shape == self.W3.shape)\n",
    "        assert(db3.dtype == float)\n",
    "        \n",
    "        grads = { \n",
    "                 \"dW1\" : dW1,\n",
    "                 \"db1\" : db1,\n",
    "                 \"dW2\" : dW2,\n",
    "                 \"db2\" : db2,   \n",
    "                 \"dW3\" : dW3,\n",
    "                 \"db3\" : db3   \n",
    "        }\n",
    "        \n",
    "        return grads, cost\n",
    "    \n",
    "    def train(self, X, y):\n",
    "        \"\"\"\n",
    "            function to minimize the Cost\n",
    "            \n",
    "            Args:\n",
    "                X: Matrix of features vectors for each review\n",
    "                y: Labels of each Matrix\n",
    "            \n",
    "        \"\"\"\n",
    "        \n",
    "        grads, cost = self.Propagation(X, y)\n",
    "        \n",
    "        dW1 = grads[\"dW1\"]\n",
    "        db1 = grads[\"db1\"]\n",
    "        dW2 = grads[\"dW2\"]\n",
    "        db2 = grads[\"db2\"]        \n",
    "        dW3 = grads[\"dW3\"]\n",
    "        db3 = grads[\"db3\"]\n",
    "        \n",
    "        self.W1 = self.W1 - dW1 * self.lr\n",
    "        self.b1 = self.b1 - db1 * self.lr\n",
    "        self.W2 = self.W2 - dW2 * self.lr\n",
    "        self.b2 = self.b2 - db2 * self.lr\n",
    "        self.W3 = self.W3 - dW3 * self.lr\n",
    "        self.b3 = self.b3 - db3 * self.lr        \n",
    "        \n",
    "        return cost"
   ]
  },
  {
   "cell_type": "code",
   "execution_count": 159,
   "metadata": {},
   "outputs": [],
   "source": [
    "def train_model(X, y, batch1, batch2, iterations, stepplot, crossval):\n",
    "    \n",
    "    split = int(X.shape[0]*crossval)\n",
    "\n",
    "    X_data_train = X[:split]\n",
    "    y_data_train = y[:split]\n",
    "\n",
    "    X_data_valid = X[split:]\n",
    "    y_data_valid = y[split:]\n",
    "\n",
    "    fmt    = '\\n\\n{:3d} epoch: {:3.2f} ep/min, loss_train = {:5.4f}, loss_val = {:5.4f}, acc_train = {:4.3f}, acc_val = {:4.3f}'\n",
    "\n",
    "\n",
    "    train_epoch     = []\n",
    "    valid_epoch     = []\n",
    "    acc_train_epoch = []\n",
    "    acc_valid_epoch = []\n",
    "    train_elem      = []\n",
    "\n",
    "    for i in range(iterations):\n",
    "        loss_t  = 0.0\n",
    "        n_batch = X_data_train.shape[0]/batch1\n",
    "        st = time.time()\n",
    "\n",
    "        for i_batch in range(0,X_data_train.shape[0], batch1):\n",
    "            X_batch  = X_data_train[i_batch:i_batch + batch1].astype(np.float32)\n",
    "            y_batch  = y_data_train[i_batch:i_batch + batch1]\n",
    "            loss_tmp = net.train(X_batch , y_batch)\n",
    "            loss_t  += loss_tmp\n",
    "            \n",
    "\n",
    "            if i_batch  % stepplot == 0:\n",
    "                train_elem.append(loss_tmp)\n",
    "                print('-> element : [{:5d}], loss_temp = {:5.4f}'.format(i_batch, loss_tmp))\n",
    "\n",
    "        if (i+1)%1 == 0:\n",
    "            train_epoch.append(loss_t/n_batch)\n",
    "            acc_train = 0\n",
    "            t_batch = X_data_train.shape[0]/batch2\n",
    "            for i_batch in range(0,X_data_train.shape[0], batch2):\n",
    "                X_batch_   = X_data_train[i_batch:i_batch + batch2].astype(np.float32)\n",
    "                y_batch_   = y_data_train[i_batch:i_batch + batch2]\n",
    "                acc_train += net.acc(X_batch_, y_batch_)\n",
    "\n",
    "            acc_train_epoch.append(acc_train/t_batch)\n",
    "            loss_valid = 0\n",
    "            acc_valid  = 0\n",
    "\n",
    "            v_batch = X_data_valid.shape[0]/batch2\n",
    "            for i_batch in range(0,X_data_valid.shape[0], batch2):\n",
    "                X_batch_v = X_data_valid[i_batch:i_batch + batch2].astype(np.float32)\n",
    "                y_batch_v = y_data_valid[i_batch:i_batch + batch2]\n",
    "\n",
    "                y_hat_batch_v = net.pred(X_batch_v)\n",
    "                loss_valid   += net.getCost(y_batch_v, y_hat_batch_v)\n",
    "\n",
    "                #X_batch_t = X_data_test[i_batch:i_batch + batch2]\n",
    "                #y_batch_t = y_data_test[i_batch:i_batch + batch2]\n",
    "\n",
    "                acc_valid+= net.acc(X_batch_v, y_batch_v)\n",
    "            valid_epoch.append(loss_valid/v_batch)\n",
    "            acc_valid_epoch.append(acc_valid/v_batch)\n",
    "            dt   = time.time() - st\n",
    "            print(fmt.format((i+1), 60/dt,\n",
    "                                    loss_t    /n_batch, \n",
    "                                    loss_valid/v_batch,\n",
    "                                    acc_train /n_batch,\n",
    "                                    acc_valid /v_batch))\n",
    "    \n",
    "    history = {\n",
    "                \"loss_temp\" : train_elem,\n",
    "                \"loss_epoch\": train_epoch,\n",
    "                \"loss_valid\": valid_epoch,\n",
    "                \"acc_train\" : acc_train_epoch,\n",
    "                \"acc_valid\" : acc_valid_epoch\n",
    "                }\n",
    "    \n",
    "    return history"
   ]
  },
  {
   "cell_type": "code",
   "execution_count": 160,
   "metadata": {},
   "outputs": [],
   "source": [
    "n, m = X_train.shape\n",
    "net  = Multilayer(input_size=m, hid_units1=10, hid_units2=3, lr=1e-3, lambda_1=1e-6, lambda_2=1e-6)"
   ]
  },
  {
   "cell_type": "code",
   "execution_count": 161,
   "metadata": {},
   "outputs": [
    {
     "name": "stdout",
     "output_type": "stream",
     "text": [
      "-> element : [    0], loss_temp = 0.4207\n",
      "-> element : [  500], loss_temp = 0.1997\n",
      "-> element : [ 1000], loss_temp = 0.4144\n",
      "-> element : [ 1500], loss_temp = 0.5233\n",
      "-> element : [ 2000], loss_temp = 0.5061\n",
      "-> element : [ 2500], loss_temp = 0.2399\n",
      "-> element : [ 3000], loss_temp = 0.2990\n",
      "-> element : [ 3500], loss_temp = 0.6698\n",
      "-> element : [ 4000], loss_temp = 0.6432\n",
      "-> element : [ 4500], loss_temp = 0.4117\n",
      "-> element : [ 5000], loss_temp = 0.1776\n",
      "-> element : [ 5500], loss_temp = 0.1652\n",
      "-> element : [ 6000], loss_temp = 0.3432\n",
      "-> element : [ 6500], loss_temp = 0.4386\n",
      "-> element : [ 7000], loss_temp = 0.7232\n",
      "-> element : [ 7500], loss_temp = 0.5498\n",
      "-> element : [ 8000], loss_temp = 0.3577\n",
      "-> element : [ 8500], loss_temp = 0.4301\n",
      "-> element : [ 9000], loss_temp = 0.1858\n",
      "-> element : [ 9500], loss_temp = 0.1390\n",
      "-> element : [10000], loss_temp = 0.3200\n",
      "-> element : [10500], loss_temp = 0.2950\n",
      "-> element : [11000], loss_temp = 0.1483\n",
      "-> element : [11500], loss_temp = 0.1605\n",
      "-> element : [12000], loss_temp = 0.1290\n",
      "-> element : [12500], loss_temp = 0.1987\n",
      "-> element : [13000], loss_temp = 0.1304\n",
      "-> element : [13500], loss_temp = 0.1423\n",
      "-> element : [14000], loss_temp = 0.2103\n",
      "-> element : [14500], loss_temp = 0.7162\n",
      "-> element : [15000], loss_temp = 0.9161\n",
      "-> element : [15500], loss_temp = 0.1350\n",
      "-> element : [16000], loss_temp = 0.1478\n",
      "-> element : [16500], loss_temp = 0.1027\n",
      "-> element : [17000], loss_temp = 0.3600\n",
      "-> element : [17500], loss_temp = 0.4828\n",
      "-> element : [18000], loss_temp = 0.1184\n",
      "-> element : [18500], loss_temp = 0.1101\n",
      "-> element : [19000], loss_temp = 0.0979\n",
      "-> element : [19500], loss_temp = 0.2591\n",
      "-> element : [20000], loss_temp = 1.0842\n",
      "-> element : [20500], loss_temp = 0.9121\n",
      "-> element : [21000], loss_temp = 0.4764\n",
      "-> element : [21500], loss_temp = 0.1009\n",
      "-> element : [22000], loss_temp = 0.1730\n",
      "-> element : [22500], loss_temp = 0.3317\n",
      "-> element : [23000], loss_temp = 0.0980\n",
      "-> element : [23500], loss_temp = 0.1276\n",
      "-> element : [24000], loss_temp = 0.4055\n",
      "-> element : [24500], loss_temp = 0.3239\n",
      "-> element : [25000], loss_temp = 0.4907\n",
      "-> element : [25500], loss_temp = 0.0922\n",
      "-> element : [26000], loss_temp = 0.1005\n",
      "-> element : [26500], loss_temp = 0.5041\n",
      "-> element : [27000], loss_temp = 0.1139\n",
      "-> element : [27500], loss_temp = 0.2122\n",
      "-> element : [28000], loss_temp = 0.1567\n",
      "-> element : [28500], loss_temp = 0.2172\n",
      "-> element : [29000], loss_temp = 0.1783\n",
      "-> element : [29500], loss_temp = 0.1387\n",
      "-> element : [30000], loss_temp = 0.3391\n",
      "-> element : [30500], loss_temp = 0.4115\n",
      "-> element : [31000], loss_temp = 0.5378\n",
      "-> element : [31500], loss_temp = 0.6815\n",
      "-> element : [32000], loss_temp = 0.1064\n",
      "-> element : [32500], loss_temp = 0.1155\n",
      "-> element : [33000], loss_temp = 0.0874\n",
      "-> element : [33500], loss_temp = 0.0873\n",
      "-> element : [34000], loss_temp = 0.0940\n",
      "-> element : [34500], loss_temp = 0.0945\n",
      "\n",
      "\n",
      "  1 epoch: 0.05 ep/min, loss_train = 0.3048, loss_val = 0.2970, acc_train = 0.008, acc_val = 0.741\n"
     ]
    }
   ],
   "source": [
    "its   = 1\n",
    "btch1 = 1\n",
    "step  = 500\n",
    "history = train_model(X=X_train, y=y_train, batch1=btch1, batch2=100, iterations=its,stepplot=step, crossval=0.7)"
   ]
  },
  {
   "cell_type": "code",
   "execution_count": 163,
   "metadata": {},
   "outputs": [
    {
     "data": {
      "image/png": "[encoded data removed]",
      "text/plain": [
       "<Figure size 1008x576 with 1 Axes>"
      ]
     },
     "metadata": {
      "needs_background": "light"
     },
     "output_type": "display_data"
    }
   ],
   "source": [
    "btch1 = 1\n",
    "loss_t = history['loss_temp']\n",
    "\n",
    "it     = [i*step for i in range(len(loss_t))]\n",
    "\n",
    "fig, ax = plt.subplots(figsize=(14, 8))\n",
    "lt      = ax.plot(it, loss_t)\n",
    "ax.set(xlabel='Review Number', ylabel='Cost', title='Cost on each review')\n",
    "ax.axis([0, len(loss_t)*step  + 0.5, 0.0, 5.0])\n",
    "plt.show()"
   ]
  },
  {
   "cell_type": "code",
   "execution_count": 164,
   "metadata": {},
   "outputs": [
    {
     "name": "stdout",
     "output_type": "stream",
     "text": [
      "train loss:  0.3047788921387269\n",
      "valid loss:  0.29700210003381766\n"
     ]
    }
   ],
   "source": [
    "train_epoch = history['loss_epoch']\n",
    "valid_epoch = history['loss_valid']\n",
    "\n",
    "print('train loss: ', train_epoch[-1])\n",
    "print('valid loss: ', valid_epoch[-1])"
   ]
  },
  {
   "cell_type": "code",
   "execution_count": 165,
   "metadata": {},
   "outputs": [
    {
     "name": "stdout",
     "output_type": "stream",
     "text": [
      "train accuracy:  0.8099428571428575\n",
      "valid accuracy:  0.7409333333333333\n"
     ]
    }
   ],
   "source": [
    "acc_train_epoch = history['acc_train']\n",
    "acc_valid_epoch = history['acc_valid']\n",
    "\n",
    "print('train accuracy: ', acc_train_epoch[-1])\n",
    "print('valid accuracy: ', acc_valid_epoch[-1])"
   ]
  },
  {
   "cell_type": "code",
   "execution_count": 128,
   "metadata": {},
   "outputs": [],
   "source": [
    "#This lines are for plot error on each epoch\n",
    "\n",
    "#ep = np.arange(1, its + 1, 1)\n",
    "\n",
    "#train_epoch = history['loss_epoch']\n",
    "#valid_epoch = history['loss_valid']\n",
    "#fig, ax = plt.subplots(figsize=(14, 8))\n",
    "#l1 , l2   = ax.plot(ep, train_epoch, ep, valid_epoch)\n",
    "#ax.set(xlabel='Epoch', ylabel='Cost', title='Logistic Regression with L1 and L2 regularization')\n",
    "#ax.axis([0.8, its + 0.5, 0.1, 0.8])\n",
    "#plt.legend([l1, l2],[\"Training\",\"Validation\"])\n",
    "#plt.show()"
   ]
  },
  {
   "cell_type": "code",
   "execution_count": 129,
   "metadata": {},
   "outputs": [],
   "source": [
    "#This lines are for plot accuracy on each epoch\n",
    "\n",
    "#fig, ax = plt.subplots(figsize=(14, 8))\n",
    "\n",
    "#acc_train_epoch = history['acc_train']\n",
    "#acc_test_epoch  = history['acc_test']\n",
    "\n",
    "#l3, l4  = ax.plot(ep, acc_train_epoch, ep, acc_test_epoch)\n",
    "#ax.set(xlabel='Epoch', ylabel='Accuracy', title='Multiple Layer Perceptron')\n",
    "#ax.axis([0.8, its + 0.5, 0.68, 0.88])\n",
    "#plt.legend([l3, l4],[\"Train Accuracy\", \"Test Accuracy\"])\n",
    "#plt.show()"
   ]
  },
  {
   "cell_type": "markdown",
   "metadata": {
    "collapsed": true
   },
   "source": [
    "# Testing"
   ]
  },
  {
   "cell_type": "markdown",
   "metadata": {},
   "source": [
    "In the previous section, we successfully trained a model to predict the sentiment of a movie review. Unfortunately, if we'd close this IPython notebook at this point, we'd have to go through the whole learning process again and again if we'd want to make a prediction on \"new data.\"\n",
    "\n",
    "So, to reuse this model, we could use the [`pickle`](https://docs.python.org/3.5/library/pickle.html) module to \"serialize a Python object structure\". Or even better, we could use the [`joblib`](https://pypi.python.org/pypi/joblib) library, which handles large NumPy arrays more efficiently.\n",
    "\n",
    "To install:\n",
    "conda install -c anaconda joblib"
   ]
  },
  {
   "cell_type": "code",
   "execution_count": 166,
   "metadata": {},
   "outputs": [
    {
     "data": {
      "text/plain": [
       "['./net.pkl']"
      ]
     },
     "execution_count": 166,
     "metadata": {},
     "output_type": "execute_result"
    }
   ],
   "source": [
    "#Exercise 3: compare  with your Neural Network\n",
    "\n",
    "import joblib\n",
    "import os\n",
    "\n",
    "joblib.dump(vectorizer, './vectorizer.pkl')\n",
    "joblib.dump(net,'./net.pkl')"
   ]
  },
  {
   "cell_type": "markdown",
   "metadata": {},
   "source": [
    "Now, let us restart this IPython notebook and check if the we can load our serialized objects:"
   ]
  },
  {
   "cell_type": "code",
   "execution_count": 167,
   "metadata": {},
   "outputs": [],
   "source": [
    "vectorizer = joblib.load('./vectorizer.pkl')\n",
    "net        = joblib.load('./net.pkl')"
   ]
  },
  {
   "cell_type": "markdown",
   "metadata": {},
   "source": [
    "After loading the `tokenizer`, `HashingVectorizer`, and the tranined logistic regression model, we can use it to make predictions on new data, which can be useful, for example, if we'd want to embed our classifier into a web application -- a topic for another IPython notebook."
   ]
  },
  {
   "cell_type": "markdown",
   "metadata": {},
   "source": [
    "True : Good comment"
   ]
  },
  {
   "cell_type": "markdown",
   "metadata": {},
   "source": [
    "False: Bad comment"
   ]
  },
  {
   "cell_type": "code",
   "execution_count": 168,
   "metadata": {},
   "outputs": [
    {
     "name": "stdout",
     "output_type": "stream",
     "text": [
      "\r",
      "100.00%\r",
      "Done     \n",
      "\n"
     ]
    },
    {
     "data": {
      "text/plain": [
       "array([[ True]])"
      ]
     },
     "execution_count": 168,
     "metadata": {},
     "output_type": "execute_result"
    }
   ],
   "source": [
    "example = ['I loved this movie']\n",
    "m  = tokenizer(example[0])\n",
    "X = vectorizer.transform([m])\n",
    "net.predSentiment(X)"
   ]
  },
  {
   "cell_type": "code",
   "execution_count": 169,
   "metadata": {},
   "outputs": [
    {
     "name": "stdout",
     "output_type": "stream",
     "text": [
      "\r",
      "100.00%\r",
      "Done     \n",
      "\n"
     ]
    },
    {
     "data": {
      "text/plain": [
       "array([[ True]])"
      ]
     },
     "execution_count": 169,
     "metadata": {},
     "output_type": "execute_result"
    }
   ],
   "source": [
    "example = ['This movie was great!']\n",
    "m  = tokenizer(example[0])\n",
    "X = vectorizer.transform([m])\n",
    "net.predSentiment(X)"
   ]
  },
  {
   "cell_type": "code",
   "execution_count": 170,
   "metadata": {},
   "outputs": [
    {
     "name": "stdout",
     "output_type": "stream",
     "text": [
      "\r",
      "100.00%\r",
      "Done     \n",
      "\n"
     ]
    },
    {
     "data": {
      "text/plain": [
       "array([[False]])"
      ]
     },
     "execution_count": 170,
     "metadata": {},
     "output_type": "execute_result"
    }
   ],
   "source": [
    "example = [\"I didn't like this movie\"]\n",
    "m  = tokenizer(example[0])\n",
    "X = vectorizer.transform([m])\n",
    "\n",
    "net.predSentiment(X)"
   ]
  },
  {
   "cell_type": "code",
   "execution_count": 171,
   "metadata": {},
   "outputs": [
    {
     "name": "stdout",
     "output_type": "stream",
     "text": [
      "\r",
      "100.00%\r",
      "Done     \n",
      "\n"
     ]
    },
    {
     "data": {
      "text/plain": [
       "array([[False]])"
      ]
     },
     "execution_count": 171,
     "metadata": {},
     "output_type": "execute_result"
    }
   ],
   "source": [
    "example = ['I did not like this movie']\n",
    "m  = tokenizer(example[0])\n",
    "X = vectorizer.transform([m])\n",
    "net.predSentiment(X)"
   ]
  },
  {
   "cell_type": "code",
   "execution_count": 172,
   "metadata": {},
   "outputs": [
    {
     "name": "stdout",
     "output_type": "stream",
     "text": [
      "\r",
      "100.00%\r",
      "Done     \n",
      "\n"
     ]
    },
    {
     "data": {
      "text/plain": [
       "array([[False]])"
      ]
     },
     "execution_count": 172,
     "metadata": {},
     "output_type": "execute_result"
    }
   ],
   "source": [
    "example = [\"I don't like this movie\"]\n",
    "m  = tokenizer(example[0])\n",
    "X = vectorizer.transform([m])\n",
    "net.predSentiment(X)"
   ]
  },
  {
   "cell_type": "markdown",
   "metadata": {},
   "source": [
    "In complex sentences the result is not the correct"
   ]
  },
  {
   "cell_type": "code",
   "execution_count": 173,
   "metadata": {},
   "outputs": [
    {
     "name": "stdout",
     "output_type": "stream",
     "text": [
      "\r",
      "100.00%\r",
      "Done     \n",
      "\n"
     ]
    },
    {
     "data": {
      "text/plain": [
       "array([[ True]])"
      ]
     },
     "execution_count": 173,
     "metadata": {},
     "output_type": "execute_result"
    }
   ],
   "source": [
    "example = [\"I love the actor but the history was the worst, I don't recommend this one\"]\n",
    "m  = tokenizer(example[0])\n",
    "X = vectorizer.transform([m])\n",
    "net.predSentiment(X)"
   ]
  },
  {
   "cell_type": "code",
   "execution_count": null,
   "metadata": {},
   "outputs": [],
   "source": []
  }
 ],
 "metadata": {
  "kernelspec": {
   "display_name": "Python 3",
   "language": "python",
   "name": "python3"
  },
  "language_info": {
   "codemirror_mode": {
    "name": "ipython",
    "version": 3
   },
   "file_extension": ".py",
   "mimetype": "text/x-python",
   "name": "python",
   "nbconvert_exporter": "python",
   "pygments_lexer": "ipython3",
   "version": "3.5.2"
  }
 },
 "nbformat": 4,
 "nbformat_minor": 1
}
