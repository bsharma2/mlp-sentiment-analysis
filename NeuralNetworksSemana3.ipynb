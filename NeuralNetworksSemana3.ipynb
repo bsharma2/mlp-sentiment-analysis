{
 "cells": [
  {
   "cell_type": "markdown",
   "metadata": {},
   "source": [
    "# Logistic Regression for Sentiment Analysis"
   ]
  },
  {
   "cell_type": "markdown",
   "metadata": {},
   "source": [
    "Adapted from http://nbviewer.jupyter.org/github/rasbt/pattern_classification/blob/master/machine_learning/scikit-learn/outofcore_modelpersistence.ipynb"
   ]
  },
  {
   "cell_type": "markdown",
   "metadata": {},
   "source": [
    "<br>\n",
    "<br>"
   ]
  },
  {
   "cell_type": "markdown",
   "metadata": {},
   "source": [
    "## The IMDb Movie Review Dataset"
   ]
  },
  {
   "cell_type": "markdown",
   "metadata": {},
   "source": [
    "In this section, we will train a simple logistic regression model to classify movie reviews from the 50k IMDb review dataset that has been collected by Maas et. al.\n",
    "\n",
    "> AL Maas, RE Daly, PT Pham, D Huang, AY Ng, and C Potts. Learning word vectors for sentiment analysis. In Proceedings of the 49th Annual Meeting of the Association for Computational Lin- guistics: Human Language Technologies, pages 142–150, Portland, Oregon, USA, June 2011. Association for Computational Linguistics\n",
    "\n",
    "[Source: http://ai.stanford.edu/~amaas/data/sentiment/]\n",
    "\n",
    "The dataset consists of 50,000 movie reviews from the original \"train\" and \"test\" subdirectories. The class labels are binary (1=positive and 0=negative) and contain 25,000 positive and 25,000 negative movie reviews, respectively.\n",
    "For simplicity, I assembled the reviews in a single CSV file.\n"
   ]
  },
  {
   "cell_type": "code",
   "execution_count": 92,
   "metadata": {},
   "outputs": [],
   "source": [
    "import re\n",
    "import collections\n",
    "import sys\n",
    "import time\n",
    "import numpy as np\n",
    "import pandas as pd\n",
    "from nltk.stem.porter import PorterStemmer\n",
    "from nltk.corpus import stopwords"
   ]
  },
  {
   "cell_type": "code",
   "execution_count": 13,
   "metadata": {},
   "outputs": [
    {
     "data": {
      "text/html": [
       "<div>\n",
       "<style scoped>\n",
       "    .dataframe tbody tr th:only-of-type {\n",
       "        vertical-align: middle;\n",
       "    }\n",
       "\n",
       "    .dataframe tbody tr th {\n",
       "        vertical-align: top;\n",
       "    }\n",
       "\n",
       "    .dataframe thead th {\n",
       "        text-align: right;\n",
       "    }\n",
       "</style>\n",
       "<table border=\"1\" class=\"dataframe\">\n",
       "  <thead>\n",
       "    <tr style=\"text-align: right;\">\n",
       "      <th></th>\n",
       "      <th>review</th>\n",
       "      <th>sentiment</th>\n",
       "    </tr>\n",
       "  </thead>\n",
       "  <tbody>\n",
       "    <tr>\n",
       "      <th>49995</th>\n",
       "      <td>OK, lets start with the best. the building. al...</td>\n",
       "      <td>0</td>\n",
       "    </tr>\n",
       "    <tr>\n",
       "      <th>49996</th>\n",
       "      <td>The British 'heritage film' industry is out of...</td>\n",
       "      <td>0</td>\n",
       "    </tr>\n",
       "    <tr>\n",
       "      <th>49997</th>\n",
       "      <td>I don't even know where to begin on this one. ...</td>\n",
       "      <td>0</td>\n",
       "    </tr>\n",
       "    <tr>\n",
       "      <th>49998</th>\n",
       "      <td>Richard Tyler is a little boy who is scared of...</td>\n",
       "      <td>0</td>\n",
       "    </tr>\n",
       "    <tr>\n",
       "      <th>49999</th>\n",
       "      <td>I waited long to watch this movie. Also becaus...</td>\n",
       "      <td>1</td>\n",
       "    </tr>\n",
       "  </tbody>\n",
       "</table>\n",
       "</div>"
      ],
      "text/plain": [
       "                                                  review  sentiment\n",
       "49995  OK, lets start with the best. the building. al...          0\n",
       "49996  The British 'heritage film' industry is out of...          0\n",
       "49997  I don't even know where to begin on this one. ...          0\n",
       "49998  Richard Tyler is a little boy who is scared of...          0\n",
       "49999  I waited long to watch this movie. Also becaus...          1"
      ]
     },
     "execution_count": 13,
     "metadata": {},
     "output_type": "execute_result"
    }
   ],
   "source": [
    "\n",
    "\n",
    "# if you want to download the original file:\n",
    "#df = pd.read_csv('https://raw.githubusercontent.com/rasbt/pattern_classification/master/data/50k_imdb_movie_reviews.csv')\n",
    "# otherwise load local file\n",
    "df = pd.read_csv('shuffled_movie_data.csv')\n",
    "df.tail()"
   ]
  },
  {
   "cell_type": "markdown",
   "metadata": {},
   "source": [
    "Let us shuffle the class labels."
   ]
  },
  {
   "cell_type": "code",
   "execution_count": 15,
   "metadata": {},
   "outputs": [],
   "source": [
    "## uncomment these lines if you have dowloaded the original file:\n",
    "#np.random.seed(0)\n",
    "#df = df.reindex(np.random.permutation(df.index))\n",
    "#df[['review', 'sentiment']].to_csv('shuffled_movie_data.csv', index=False)"
   ]
  },
  {
   "cell_type": "markdown",
   "metadata": {},
   "source": [
    "<br>\n",
    "<br>"
   ]
  },
  {
   "cell_type": "markdown",
   "metadata": {},
   "source": [
    "## Preprocessing Text Data"
   ]
  },
  {
   "cell_type": "markdown",
   "metadata": {},
   "source": [
    "Now, let us define a simple `tokenizer` that splits the text into individual word tokens. Furthermore, we will use some simple regular expression to remove HTML markup and all non-letter characters but \"emoticons,\" convert the text to lower case, remove stopwords, and apply the Porter stemming algorithm to convert the words into their root form."
   ]
  },
  {
   "cell_type": "code",
   "execution_count": 56,
   "metadata": {},
   "outputs": [],
   "source": [
    "stop = stopwords.words('english')\n",
    "porter = PorterStemmer()\n",
    "\n",
    "def tokenizer(text):\n",
    "    text = re.sub('<[^>]*>', '', text)\n",
    "    emoticons = re.findall('(?::|;|=)(?:-)?(?:\\)|\\(|D|P)', text.lower())\n",
    "    text = re.sub('[\\W]+', ' ', text.lower())\n",
    "    text = [w for w in text.split() if w not in stop]\n",
    "    tokenized = [porter.stem(w) for w in text]\n",
    "    return text"
   ]
  },
  {
   "cell_type": "markdown",
   "metadata": {},
   "source": [
    "Let's give it at try:"
   ]
  },
  {
   "cell_type": "code",
   "execution_count": 55,
   "metadata": {},
   "outputs": [
    {
     "data": {
      "text/plain": [
       "['test']"
      ]
     },
     "execution_count": 55,
     "metadata": {},
     "output_type": "execute_result"
    }
   ],
   "source": [
    "tokenizer('This :) is a <a> test! :-)</br>')"
   ]
  },
  {
   "cell_type": "markdown",
   "metadata": {},
   "source": [
    "## Learning (SciKit)"
   ]
  },
  {
   "cell_type": "markdown",
   "metadata": {},
   "source": [
    "First, we define a generator that returns the document body and the corresponding class label:"
   ]
  },
  {
   "cell_type": "code",
   "execution_count": 19,
   "metadata": {},
   "outputs": [],
   "source": [
    "def stream_docs(path):\n",
    "    with open(path, 'r') as csv:\n",
    "        next(csv) # skip header\n",
    "        for line in csv:\n",
    "            text, label = line[:-3], int(line[-2])\n",
    "            yield text, label"
   ]
  },
  {
   "cell_type": "markdown",
   "metadata": {},
   "source": [
    "To conform that the `stream_docs` function fetches the documents as intended, let us execute the following code snippet before we implement the `get_minibatch` function:"
   ]
  },
  {
   "cell_type": "code",
   "execution_count": 20,
   "metadata": {},
   "outputs": [],
   "source": [
    "#next(stream_docs(path='shuffled_movie_data.csv'))"
   ]
  },
  {
   "cell_type": "markdown",
   "metadata": {},
   "source": [
    "After we confirmed that our `stream_docs` functions works, we will now implement a `get_minibatch` function to fetch a specified number (`size`) of documents:"
   ]
  },
  {
   "cell_type": "code",
   "execution_count": 21,
   "metadata": {},
   "outputs": [],
   "source": [
    "def get_minibatch(doc_stream, size):\n",
    "    docs, y = [], []\n",
    "    for _ in range(size):\n",
    "        text, label = next(doc_stream)\n",
    "        docs.append(text)\n",
    "        y.append(label)\n",
    "    return docs, y"
   ]
  },
  {
   "cell_type": "markdown",
   "metadata": {},
   "source": [
    "Next, we will make use of the \"hashing trick\" through scikit-learns [HashingVectorizer](http://scikit-learn.org/stable/modules/generated/sklearn.feature_extraction.text.HashingVectorizer.html) to create a bag-of-words model of our documents. Details of the bag-of-words model for document classification can be found at  [Naive Bayes and Text Classification I - Introduction and Theory](http://arxiv.org/abs/1410.5329)."
   ]
  },
  {
   "cell_type": "code",
   "execution_count": 22,
   "metadata": {},
   "outputs": [],
   "source": [
    "#from sklearn.feature_extraction.text import HashingVectorizer\n",
    "#vect = HashingVectorizer(decode_error='ignore', \n",
    "#                         n_features=2**21,\n",
    "#                         preprocessor=None, \n",
    "#                         tokenizer=tokenizer)\n",
    "\n",
    "# Exercise 1: define features based on word embeddings (pre-trained word2vec / Glove/Fastext emebddings can be used)\n",
    "# Define suitable d dimension, and sequence length"
   ]
  },
  {
   "cell_type": "code",
   "execution_count": 23,
   "metadata": {},
   "outputs": [],
   "source": [
    "doc_generator = stream_docs(path='shuffled_movie_data.csv')"
   ]
  },
  {
   "cell_type": "code",
   "execution_count": 24,
   "metadata": {},
   "outputs": [],
   "source": [
    "def bag_words(gen, size):\n",
    "    bag    = []\n",
    "    for i, doc in enumerate(gen):\n",
    "        bag += tokenizer(doc[0])\n",
    "        sys.stdout.write('\\r{:5.2f}%'.format(100*(i+1)/50000))\n",
    "    sys.stdout.write('\\rDone     \\n\\n')\n",
    "    print('Bag Size: ', len(bag))\n",
    "    count  = [['UNK', -1]]\n",
    "    count += collections.Counter(bag).most_common(size - 1)\n",
    "\n",
    "    dic    = {}\n",
    "    for i, word in enumerate(count):\n",
    "        dic[word[0]] = i\n",
    "    \n",
    "    return dic, dict(zip(dic.values(), dic.keys()))"
   ]
  },
  {
   "cell_type": "code",
   "execution_count": 25,
   "metadata": {},
   "outputs": [
    {
     "name": "stdout",
     "output_type": "stream",
     "text": [
      "Done     \n",
      "\n",
      "Bag Size:  5978556\n"
     ]
    }
   ],
   "source": [
    "dic, rev_dic = bag_words(doc_generator, 63069) #63069"
   ]
  },
  {
   "cell_type": "code",
   "execution_count": 27,
   "metadata": {},
   "outputs": [],
   "source": [
    "del doc_generator"
   ]
  },
  {
   "cell_type": "code",
   "execution_count": 103,
   "metadata": {},
   "outputs": [],
   "source": [
    "class OneHotEncoder:\n",
    "    def __init__ (self, rev_dict):\n",
    "        self.size = len(rev_dict.values())\n",
    "        self.dict = rev_dict\n",
    "        \n",
    "    def __repr__ (self):\n",
    "        return ('OneHotEncoder Class (Size = {})'.format(self.n))\n",
    "        \n",
    "    def getVector(self, word):\n",
    "        vec = np.zeros((1, self.size))\n",
    "        vec[0, self.dict[word]] = 1\n",
    "        return vec"
   ]
  },
  {
   "cell_type": "code",
   "execution_count": 172,
   "metadata": {},
   "outputs": [],
   "source": [
    "class DocToVec:\n",
    "    \"\"\"\n",
    "        Convert a list of words to feature vectors:\n",
    "        \n",
    "        Arguments:\n",
    "            \n",
    "            n_features: number of features per vector, by default 6818.\n",
    "            fn        : tokenizer function\n",
    "    \"\"\"\n",
    "    \n",
    "    def __init__(self, dictionary, tokenizer):\n",
    "        self.encoder  = OneHotEncoder(dic) \n",
    "        self.dict     = dictionary\n",
    "        self.features = self.encoder.size\n",
    "        self.fn       = tokenizer\n",
    "        \n",
    "    def transform(self, DocList):\n",
    "        \"\"\"\n",
    "            Transform an array of list of words to a matrix:\n",
    "\n",
    "            Arguments:\n",
    "\n",
    "                DocList: Array of list of reviews\n",
    "\n",
    "            Returns:\n",
    "\n",
    "                Matrix with feature vectors of each review.\n",
    "\n",
    "        \"\"\"\n",
    "    \n",
    "        n   = len(DocList)\n",
    "        vec = np.zeros(shape=(n, self.features), dtype = np.uint8)\n",
    "\n",
    "        for idx, strn in enumerate(DocList):\n",
    "            start_time = time.time()\n",
    "            rev_tok    = self.fn(strn)\n",
    "            veci = np.zeros((1, self.features))\n",
    "            for word in rev_tok:\n",
    "                if word in self.dict:\n",
    "                    veci += self.encoder.getVector(word)\n",
    "            vec[idx] = veci\n",
    "            if ((idx+1) % 500 == 0):\n",
    "                elapsed  = time.time() - start_time\n",
    "                print('percent = {:4.1f}%, time estimated : {:3.1f} min'.format(100*(idx+1)/n, n*elapsed/60.0))\n",
    "        return vec       "
   ]
  },
  {
   "cell_type": "markdown",
   "metadata": {},
   "source": [
    "Using the [SGDClassifier]() from scikit-learn, we will can instanciate a logistic regression classifier that learns from the documents incrementally using stochastic gradient descent. "
   ]
  },
  {
   "cell_type": "code",
   "execution_count": 173,
   "metadata": {},
   "outputs": [],
   "source": [
    "vec = DocToVec(dic, tokenizer)"
   ]
  },
  {
   "cell_type": "code",
   "execution_count": 174,
   "metadata": {},
   "outputs": [
    {
     "name": "stdout",
     "output_type": "stream",
     "text": [
      "murder               :   5 times\n",
      "detective            :   3 times\n",
      "years                :   3 times\n",
      "greenwich            :   2 times\n",
      "disgrace             :   2 times\n",
      "martha               :   2 times\n",
      "investigation        :   2 times\n",
      "committed            :   2 times\n",
      "teenager             :   2 times\n",
      "twenty               :   2 times\n"
     ]
    }
   ],
   "source": [
    "l = vec.transform([df.head().values[0][0]])\n",
    "\n",
    "FirstReview = []\n",
    "for i in range(63069):\n",
    "    if l[0][i] != 0:\n",
    "        FirstReview.append((rev_dic[i], int(l[0][i])))\n",
    "\n",
    "FirstReview.sort(key=lambda x: x[1])\n",
    "\n",
    "FirstReview = FirstReview[::-1]\n",
    "for i in range(10):\n",
    "    print('{:20} : {:3} times'.format(FirstReview[i][0], FirstReview[i][1]))"
   ]
  },
  {
   "cell_type": "code",
   "execution_count": 175,
   "metadata": {},
   "outputs": [
    {
     "name": "stdout",
     "output_type": "stream",
     "text": [
      "percent =  1.0%, time estimated : 915.5 min\n",
      "percent =  2.0%, time estimated : 339.3 min\n",
      "percent =  3.0%, time estimated : 151.1 min\n",
      "percent =  4.0%, time estimated : 238.5 min\n",
      "percent =  5.0%, time estimated : 665.7 min\n",
      "percent =  6.0%, time estimated : 517.4 min\n",
      "percent =  7.0%, time estimated : 152.9 min\n",
      "percent =  8.0%, time estimated : 330.7 min\n",
      "percent =  9.0%, time estimated : 335.4 min\n",
      "percent = 10.0%, time estimated : 223.6 min\n",
      "percent = 11.0%, time estimated : 751.6 min\n",
      "percent = 12.0%, time estimated : 373.0 min\n",
      "percent = 13.0%, time estimated : 90.6 min\n",
      "percent = 14.0%, time estimated : 215.8 min\n",
      "percent = 15.0%, time estimated : 582.8 min\n",
      "percent = 16.0%, time estimated : 696.4 min\n",
      "percent = 17.0%, time estimated : 467.7 min\n",
      "percent = 18.0%, time estimated : 339.7 min\n",
      "percent = 19.0%, time estimated : 1473.2 min\n",
      "percent = 20.0%, time estimated : 95.2 min\n",
      "percent = 21.0%, time estimated : 539.1 min\n",
      "percent = 22.0%, time estimated : 118.4 min\n",
      "percent = 23.0%, time estimated : 748.8 min\n",
      "percent = 24.0%, time estimated : 399.0 min\n",
      "percent = 25.0%, time estimated : 196.7 min\n",
      "percent = 26.0%, time estimated : 205.7 min\n",
      "percent = 27.0%, time estimated : 390.6 min\n",
      "percent = 28.0%, time estimated : 1420.5 min\n",
      "percent = 29.0%, time estimated : 262.6 min\n",
      "percent = 30.0%, time estimated : 84.3 min\n",
      "percent = 31.0%, time estimated : 409.7 min\n",
      "percent = 32.0%, time estimated : 1818.8 min\n",
      "percent = 33.0%, time estimated : 323.4 min\n",
      "percent = 34.0%, time estimated : 268.3 min\n",
      "percent = 35.0%, time estimated : 280.2 min\n",
      "percent = 36.0%, time estimated : 232.1 min\n",
      "percent = 37.0%, time estimated : 352.3 min\n",
      "percent = 38.0%, time estimated : 373.6 min\n",
      "percent = 39.0%, time estimated : 220.7 min\n",
      "percent = 40.0%, time estimated : 1001.6 min\n",
      "percent = 41.0%, time estimated : 292.0 min\n",
      "percent = 42.0%, time estimated : 183.5 min\n",
      "percent = 43.0%, time estimated : 1058.9 min\n",
      "percent = 44.0%, time estimated : 248.3 min\n",
      "percent = 45.0%, time estimated : 404.1 min\n",
      "percent = 46.0%, time estimated : 513.4 min\n",
      "percent = 47.0%, time estimated : 819.2 min\n",
      "percent = 48.0%, time estimated : 265.5 min\n",
      "percent = 49.0%, time estimated : 342.6 min\n",
      "percent = 50.0%, time estimated : 146.6 min\n",
      "percent = 51.0%, time estimated : 408.4 min\n",
      "percent = 52.0%, time estimated : 371.7 min\n",
      "percent = 53.0%, time estimated : 349.0 min\n",
      "percent = 54.0%, time estimated : 1500.0 min\n",
      "percent = 55.0%, time estimated : 385.7 min\n",
      "percent = 56.0%, time estimated : 275.1 min\n",
      "percent = 57.0%, time estimated : 249.4 min\n",
      "percent = 58.0%, time estimated : 218.3 min\n",
      "percent = 59.0%, time estimated : 285.4 min\n",
      "percent = 60.0%, time estimated : 130.4 min\n",
      "percent = 61.0%, time estimated : 218.1 min\n",
      "percent = 62.0%, time estimated : 329.1 min\n",
      "percent = 63.0%, time estimated : 889.1 min\n",
      "percent = 64.0%, time estimated : 371.2 min\n",
      "percent = 65.0%, time estimated : 150.5 min\n",
      "percent = 66.0%, time estimated : 362.3 min\n",
      "percent = 67.0%, time estimated : 480.4 min\n",
      "percent = 68.0%, time estimated : 261.6 min\n",
      "percent = 69.0%, time estimated : 574.9 min\n",
      "percent = 70.0%, time estimated : 398.0 min\n",
      "percent = 71.0%, time estimated : 251.6 min\n",
      "percent = 72.0%, time estimated : 240.1 min\n",
      "percent = 73.0%, time estimated : 375.8 min\n",
      "percent = 74.0%, time estimated : 315.6 min\n",
      "percent = 75.0%, time estimated : 664.1 min\n",
      "percent = 76.0%, time estimated : 620.6 min\n",
      "percent = 77.0%, time estimated : 576.6 min\n",
      "percent = 78.0%, time estimated : 737.2 min\n",
      "percent = 79.0%, time estimated : 315.6 min\n",
      "percent = 80.0%, time estimated : 283.1 min\n",
      "percent = 81.0%, time estimated : 250.9 min\n",
      "percent = 82.0%, time estimated : 310.6 min\n",
      "percent = 83.0%, time estimated : 293.3 min\n",
      "percent = 84.0%, time estimated : 1005.1 min\n",
      "percent = 85.0%, time estimated : 940.8 min\n",
      "percent = 86.0%, time estimated : 331.2 min\n",
      "percent = 87.0%, time estimated : 289.0 min\n",
      "percent = 88.0%, time estimated : 292.6 min\n",
      "percent = 89.0%, time estimated : 334.0 min\n",
      "percent = 90.0%, time estimated : 236.7 min\n",
      "percent = 91.0%, time estimated : 1935.3 min\n",
      "percent = 92.0%, time estimated : 135.0 min\n",
      "percent = 93.0%, time estimated : 226.9 min\n",
      "percent = 94.0%, time estimated : 239.6 min\n",
      "percent = 95.0%, time estimated : 291.6 min\n",
      "percent = 96.0%, time estimated : 657.0 min\n",
      "percent = 97.0%, time estimated : 106.4 min\n",
      "percent = 98.0%, time estimated : 205.5 min\n",
      "percent = 99.0%, time estimated : 263.7 min\n",
      "percent = 100.0%, time estimated : 82.6 min\n"
     ]
    }
   ],
   "source": [
    "## Uncomment these lines if you don't save 'vec_data_X' and 'vec_data_y':\n",
    "stream = stream_docs(path='shuffled_movie_data.csv')\n",
    "\n",
    "X_train, y_train = get_minibatch(stream, size=50000)\n",
    "y_train = np.asarray(y_train).reshape((-1, 1))\n",
    "\n",
    "X_train = vec.transform(X_train)\n",
    "\n",
    "np.save('vec_data_X', X_train)\n",
    "np.save('vec_data_y', y_train)"
   ]
  },
  {
   "cell_type": "code",
   "execution_count": 134,
   "metadata": {},
   "outputs": [],
   "source": [
    "#from sklearn.linear_model import SGDClassifier\n",
    "#clf = SGDClassifier(loss='log', random_state=1, n_iter=1)\n",
    "#doc_stream = stream_docs(path='shuffled_movie_data.csv')\n",
    "# Exercise 2: Define at least a Three layer neural network. Define its structure (number of hidden neurons, etc)\n",
    "# Define a nonlinear function for hidden layers.\n",
    "# Define a suitable loss function for binary classification\n",
    "# Implement the backpropagation algorithm for this structure\n",
    "# Do not use Keras / Tensorflow /PyTorch etc. libraries\n",
    "# Train the model using SGD"
   ]
  },
  {
   "cell_type": "code",
   "execution_count": 102,
   "metadata": {},
   "outputs": [
    {
     "ename": "NameError",
     "evalue": "name 'doc_stream' is not defined",
     "output_type": "error",
     "traceback": [
      "\u001b[0;31m---------------------------------------------------------------------------\u001b[0m",
      "\u001b[0;31mNameError\u001b[0m                                 Traceback (most recent call last)",
      "\u001b[0;32m<ipython-input-102-9475856cd17e>\u001b[0m in \u001b[0;36m<module>\u001b[0;34m\u001b[0m\n\u001b[1;32m      4\u001b[0m \u001b[0mclasses\u001b[0m \u001b[0;34m=\u001b[0m \u001b[0mnp\u001b[0m\u001b[0;34m.\u001b[0m\u001b[0marray\u001b[0m\u001b[0;34m(\u001b[0m\u001b[0;34m[\u001b[0m\u001b[0;36m0\u001b[0m\u001b[0;34m,\u001b[0m \u001b[0;36m1\u001b[0m\u001b[0;34m]\u001b[0m\u001b[0;34m)\u001b[0m\u001b[0;34m\u001b[0m\u001b[0m\n\u001b[1;32m      5\u001b[0m \u001b[0;32mfor\u001b[0m \u001b[0m_\u001b[0m \u001b[0;32min\u001b[0m \u001b[0mrange\u001b[0m\u001b[0;34m(\u001b[0m\u001b[0;36m45\u001b[0m\u001b[0;34m)\u001b[0m\u001b[0;34m:\u001b[0m\u001b[0;34m\u001b[0m\u001b[0m\n\u001b[0;32m----> 6\u001b[0;31m     \u001b[0mX_train\u001b[0m\u001b[0;34m,\u001b[0m \u001b[0my_train\u001b[0m \u001b[0;34m=\u001b[0m \u001b[0mget_minibatch\u001b[0m\u001b[0;34m(\u001b[0m\u001b[0mdoc_stream\u001b[0m\u001b[0;34m,\u001b[0m \u001b[0msize\u001b[0m\u001b[0;34m=\u001b[0m\u001b[0;36m1000\u001b[0m\u001b[0;34m)\u001b[0m\u001b[0;34m\u001b[0m\u001b[0m\n\u001b[0m\u001b[1;32m      7\u001b[0m     \u001b[0mX_train\u001b[0m \u001b[0;34m=\u001b[0m \u001b[0mvect\u001b[0m\u001b[0;34m.\u001b[0m\u001b[0mtransform\u001b[0m\u001b[0;34m(\u001b[0m\u001b[0mX_train\u001b[0m\u001b[0;34m)\u001b[0m\u001b[0;34m\u001b[0m\u001b[0m\n\u001b[1;32m      8\u001b[0m     \u001b[0mclf\u001b[0m\u001b[0;34m.\u001b[0m\u001b[0mpartial_fit\u001b[0m\u001b[0;34m(\u001b[0m\u001b[0mX_train\u001b[0m\u001b[0;34m,\u001b[0m \u001b[0my_train\u001b[0m\u001b[0;34m,\u001b[0m \u001b[0mclasses\u001b[0m\u001b[0;34m=\u001b[0m\u001b[0mclasses\u001b[0m\u001b[0;34m)\u001b[0m\u001b[0;34m\u001b[0m\u001b[0m\n",
      "\u001b[0;31mNameError\u001b[0m: name 'doc_stream' is not defined"
     ]
    }
   ],
   "source": [
    "#import pyprind\n",
    "#pbar = pyprind.ProgBar(45)\n",
    "\n",
    "classes = np.array([0, 1])\n",
    "for _ in range(45):\n",
    "    X_train, y_train = get_minibatch(doc_stream, size=1000)\n",
    "    X_train = vect.transform(X_train)\n",
    "    clf.partial_fit(X_train, y_train, classes=classes)\n",
    "    #pbar.update()"
   ]
  },
  {
   "cell_type": "markdown",
   "metadata": {},
   "source": [
    "Depending on your machine, it will take about 2-3 minutes to stream the documents and learn the weights for the logistic regression model to classify \"new\" movie reviews. Executing the preceding code, we used the first 45,000 movie reviews to train the classifier, which means that we have 5,000 reviews left for testing:"
   ]
  },
  {
   "cell_type": "code",
   "execution_count": 17,
   "metadata": {},
   "outputs": [
    {
     "name": "stdout",
     "output_type": "stream",
     "text": [
      "Accuracy: 0.867\n"
     ]
    }
   ],
   "source": [
    "X_test, y_test = get_minibatch(doc_stream, size=5000)\n",
    "X_test = vect.transform(X_test)\n",
    "print('Accuracy: %.3f' % clf.score(X_test, y_test))\n",
    "#Exercise 3: compare  with your Neural Network"
   ]
  },
  {
   "cell_type": "markdown",
   "metadata": {},
   "source": [
    "I think that the predictive performance, an accuracy of ~87%, is quite \"reasonable\" given that we \"only\" used the default parameters and didn't do any hyperparameter optimization. \n",
    "\n",
    "After we estimated the model perfomance, let us use those last 5,000 test samples to update our model."
   ]
  },
  {
   "cell_type": "code",
   "execution_count": 18,
   "metadata": {
    "collapsed": true
   },
   "outputs": [],
   "source": [
    "clf = clf.partial_fit(X_test, y_test)"
   ]
  },
  {
   "cell_type": "markdown",
   "metadata": {},
   "source": [
    "<br>\n",
    "<br>"
   ]
  },
  {
   "cell_type": "markdown",
   "metadata": {
    "collapsed": true
   },
   "source": [
    "# Model Persistence"
   ]
  },
  {
   "cell_type": "markdown",
   "metadata": {},
   "source": [
    "In the previous section, we successfully trained a model to predict the sentiment of a movie review. Unfortunately, if we'd close this IPython notebook at this point, we'd have to go through the whole learning process again and again if we'd want to make a prediction on \"new data.\"\n",
    "\n",
    "So, to reuse this model, we could use the [`pickle`](https://docs.python.org/3.5/library/pickle.html) module to \"serialize a Python object structure\". Or even better, we could use the [`joblib`](https://pypi.python.org/pypi/joblib) library, which handles large NumPy arrays more efficiently.\n",
    "\n",
    "To install:\n",
    "conda install -c anaconda joblib"
   ]
  },
  {
   "cell_type": "code",
   "execution_count": 21,
   "metadata": {},
   "outputs": [
    {
     "data": {
      "text/plain": [
       "['./clf.pkl']"
      ]
     },
     "execution_count": 21,
     "metadata": {},
     "output_type": "execute_result"
    }
   ],
   "source": [
    "import joblib\n",
    "import os\n",
    "if not os.path.exists('./pkl_objects'):\n",
    "    os.mkdir('./pkl_objects')\n",
    "    \n",
    "joblib.dump(vect, './vectorizer.pkl')\n",
    "joblib.dump(clf, './clf.pkl')"
   ]
  },
  {
   "cell_type": "markdown",
   "metadata": {},
   "source": [
    "Using the code above, we \"pickled\" the `HashingVectorizer` and the `SGDClassifier` so that we can re-use those objects later. However, `pickle` and `joblib` have a known issue with `pickling` objects or functions from a `__main__` block and we'd get an `AttributeError: Can't get attribute [x] on <module '__main__'>` if we'd unpickle it later. Thus, to pickle the `tokenizer` function, we can write it to a file and import it to get the `namespace` \"right\"."
   ]
  },
  {
   "cell_type": "code",
   "execution_count": 22,
   "metadata": {},
   "outputs": [
    {
     "name": "stdout",
     "output_type": "stream",
     "text": [
      "Writing tokenizer.py\n"
     ]
    }
   ],
   "source": [
    "%%writefile tokenizer.py\n",
    "from nltk.stem.porter import PorterStemmer\n",
    "import re\n",
    "from nltk.corpus import stopwords\n",
    "\n",
    "stop = stopwords.words('english')\n",
    "porter = PorterStemmer()\n",
    "\n",
    "def tokenizer(text):\n",
    "    text = re.sub('<[^>]*>', '', text)\n",
    "    emoticons = re.findall('(?::|;|=)(?:-)?(?:\\)|\\(|D|P)', text.lower())\n",
    "    text = re.sub('[\\W]+', ' ', text.lower()) + ' '.join(emoticons).replace('-', '')\n",
    "    text = [w for w in text.split() if w not in stop]\n",
    "    tokenized = [porter.stem(w) for w in text]\n",
    "    return text"
   ]
  },
  {
   "cell_type": "code",
   "execution_count": 23,
   "metadata": {},
   "outputs": [
    {
     "data": {
      "text/plain": [
       "['./tokenizer.pkl']"
      ]
     },
     "execution_count": 23,
     "metadata": {},
     "output_type": "execute_result"
    }
   ],
   "source": [
    "from tokenizer import tokenizer\n",
    "joblib.dump(tokenizer, './tokenizer.pkl')"
   ]
  },
  {
   "cell_type": "markdown",
   "metadata": {},
   "source": [
    "Now, let us restart this IPython notebook and check if the we can load our serialized objects:"
   ]
  },
  {
   "cell_type": "code",
   "execution_count": 24,
   "metadata": {
    "collapsed": true
   },
   "outputs": [],
   "source": [
    "import joblib\n",
    "tokenizer = joblib.load('./tokenizer.pkl')\n",
    "vect = joblib.load('./vectorizer.pkl')\n",
    "clf = joblib.load('./clf.pkl')"
   ]
  },
  {
   "cell_type": "markdown",
   "metadata": {},
   "source": [
    "After loading the `tokenizer`, `HashingVectorizer`, and the tranined logistic regression model, we can use it to make predictions on new data, which can be useful, for example, if we'd want to embed our classifier into a web application -- a topic for another IPython notebook."
   ]
  },
  {
   "cell_type": "code",
   "execution_count": 25,
   "metadata": {},
   "outputs": [
    {
     "data": {
      "text/plain": [
       "array([0])"
      ]
     },
     "execution_count": 25,
     "metadata": {},
     "output_type": "execute_result"
    }
   ],
   "source": [
    "example = ['I did not like this movie']\n",
    "X = vect.transform(example)\n",
    "clf.predict(X)"
   ]
  },
  {
   "cell_type": "code",
   "execution_count": 26,
   "metadata": {},
   "outputs": [
    {
     "data": {
      "text/plain": [
       "array([1])"
      ]
     },
     "execution_count": 26,
     "metadata": {},
     "output_type": "execute_result"
    }
   ],
   "source": [
    "example = ['I loved this movie']\n",
    "X = vect.transform(example)\n",
    "clf.predict(X)"
   ]
  },
  {
   "cell_type": "code",
   "execution_count": null,
   "metadata": {
    "collapsed": true
   },
   "outputs": [],
   "source": []
  }
 ],
 "metadata": {
  "kernelspec": {
   "display_name": "Python 3",
   "language": "python",
   "name": "python3"
  },
  "language_info": {
   "codemirror_mode": {
    "name": "ipython",
    "version": 3
   },
   "file_extension": ".py",
   "mimetype": "text/x-python",
   "name": "python",
   "nbconvert_exporter": "python",
   "pygments_lexer": "ipython3",
   "version": "3.5.2"
  }
 },
 "nbformat": 4,
 "nbformat_minor": 1
}
