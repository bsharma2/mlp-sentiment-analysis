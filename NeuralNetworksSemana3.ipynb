{
 "cells": [
  {
   "cell_type": "markdown",
   "metadata": {},
   "source": [
    "# Logistic Regression for Sentiment Analysis"
   ]
  },
  {
   "cell_type": "markdown",
   "metadata": {},
   "source": [
    "Adapted from http://nbviewer.jupyter.org/github/rasbt/pattern_classification/blob/master/machine_learning/scikit-learn/outofcore_modelpersistence.ipynb"
   ]
  },
  {
   "cell_type": "markdown",
   "metadata": {},
   "source": [
    "<br>\n",
    "<br>"
   ]
  },
  {
   "cell_type": "markdown",
   "metadata": {},
   "source": [
    "## The IMDb Movie Review Dataset"
   ]
  },
  {
   "cell_type": "markdown",
   "metadata": {},
   "source": [
    "In this section, we will train a simple logistic regression model to classify movie reviews from the 50k IMDb review dataset that has been collected by Maas et. al.\n",
    "\n",
    "> AL Maas, RE Daly, PT Pham, D Huang, AY Ng, and C Potts. Learning word vectors for sentiment analysis. In Proceedings of the 49th Annual Meeting of the Association for Computational Lin- guistics: Human Language Technologies, pages 142–150, Portland, Oregon, USA, June 2011. Association for Computational Linguistics\n",
    "\n",
    "[Source: http://ai.stanford.edu/~amaas/data/sentiment/]\n",
    "\n",
    "The dataset consists of 50,000 movie reviews from the original \"train\" and \"test\" subdirectories. The class labels are binary (1=positive and 0=negative) and contain 25,000 positive and 25,000 negative movie reviews, respectively.\n",
    "For simplicity, I assembled the reviews in a single CSV file.\n"
   ]
  },
  {
   "cell_type": "code",
   "execution_count": 2,
   "metadata": {},
   "outputs": [],
   "source": [
    "import re\n",
    "import collections\n",
    "import sys\n",
    "import time\n",
    "import numpy as np\n",
    "import pandas as pd\n",
    "import matplotlib.pyplot as plt\n",
    "from nltk.stem.porter import PorterStemmer\n",
    "from nltk.corpus import stopwords"
   ]
  },
  {
   "cell_type": "code",
   "execution_count": 3,
   "metadata": {},
   "outputs": [
    {
     "data": {
      "text/html": [
       "<div>\n",
       "<style scoped>\n",
       "    .dataframe tbody tr th:only-of-type {\n",
       "        vertical-align: middle;\n",
       "    }\n",
       "\n",
       "    .dataframe tbody tr th {\n",
       "        vertical-align: top;\n",
       "    }\n",
       "\n",
       "    .dataframe thead th {\n",
       "        text-align: right;\n",
       "    }\n",
       "</style>\n",
       "<table border=\"1\" class=\"dataframe\">\n",
       "  <thead>\n",
       "    <tr style=\"text-align: right;\">\n",
       "      <th></th>\n",
       "      <th>review</th>\n",
       "      <th>sentiment</th>\n",
       "    </tr>\n",
       "  </thead>\n",
       "  <tbody>\n",
       "    <tr>\n",
       "      <th>49995</th>\n",
       "      <td>OK, lets start with the best. the building. al...</td>\n",
       "      <td>0</td>\n",
       "    </tr>\n",
       "    <tr>\n",
       "      <th>49996</th>\n",
       "      <td>The British 'heritage film' industry is out of...</td>\n",
       "      <td>0</td>\n",
       "    </tr>\n",
       "    <tr>\n",
       "      <th>49997</th>\n",
       "      <td>I don't even know where to begin on this one. ...</td>\n",
       "      <td>0</td>\n",
       "    </tr>\n",
       "    <tr>\n",
       "      <th>49998</th>\n",
       "      <td>Richard Tyler is a little boy who is scared of...</td>\n",
       "      <td>0</td>\n",
       "    </tr>\n",
       "    <tr>\n",
       "      <th>49999</th>\n",
       "      <td>I waited long to watch this movie. Also becaus...</td>\n",
       "      <td>1</td>\n",
       "    </tr>\n",
       "  </tbody>\n",
       "</table>\n",
       "</div>"
      ],
      "text/plain": [
       "                                                  review  sentiment\n",
       "49995  OK, lets start with the best. the building. al...          0\n",
       "49996  The British 'heritage film' industry is out of...          0\n",
       "49997  I don't even know where to begin on this one. ...          0\n",
       "49998  Richard Tyler is a little boy who is scared of...          0\n",
       "49999  I waited long to watch this movie. Also becaus...          1"
      ]
     },
     "execution_count": 3,
     "metadata": {},
     "output_type": "execute_result"
    }
   ],
   "source": [
    "# if you want to download the original file:\n",
    "#df = pd.read_csv('https://raw.githubusercontent.com/rasbt/pattern_classification/master/data/50k_imdb_movie_reviews.csv')\n",
    "# otherwise load local file\n",
    "df = pd.read_csv('shuffled_movie_data.csv')\n",
    "df.tail()"
   ]
  },
  {
   "cell_type": "markdown",
   "metadata": {},
   "source": [
    "Let us shuffle the class labels."
   ]
  },
  {
   "cell_type": "code",
   "execution_count": 4,
   "metadata": {},
   "outputs": [
    {
     "data": {
      "text/plain": [
       "array(['In 1974, the teenager Martha Moxley (Maggie Grace) moves to the high-class area of Belle Haven, Greenwich, Connecticut. On the Mischief Night, eve of Halloween, she was murdered in the backyard of her house and her murder remained unsolved. Twenty-two years later, the writer Mark Fuhrman (Christopher Meloni), who is a former LA detective that has fallen in disgrace for perjury in O.J. Simpson trial and moved to Idaho, decides to investigate the case with his partner Stephen Weeks (Andrew Mitchell) with the purpose of writing a book. The locals squirm and do not welcome them, but with the support of the retired detective Steve Carroll (Robert Forster) that was in charge of the investigation in the 70\\'s, they discover the criminal and a net of power and money to cover the murder.<br /><br />\"Murder in Greenwich\" is a good TV movie, with the true story of a murder of a fifteen years old girl that was committed by a wealthy teenager whose mother was a Kennedy. The powerful and rich family used their influence to cover the murder for more than twenty years. However, a snoopy detective and convicted perjurer in disgrace was able to disclose how the hideous crime was committed. The screenplay shows the investigation of Mark and the last days of Martha in parallel, but there is a lack of the emotion in the dramatization. My vote is seven.<br /><br />Title (Brazil): Not Available',\n",
       "       1], dtype=object)"
      ]
     },
     "execution_count": 4,
     "metadata": {},
     "output_type": "execute_result"
    }
   ],
   "source": [
    "df.head().values[0]"
   ]
  },
  {
   "cell_type": "code",
   "execution_count": 5,
   "metadata": {},
   "outputs": [],
   "source": [
    "## uncomment these lines if you have dowloaded the original file:\n",
    "#np.random.seed(0)\n",
    "#df = df.reindex(np.random.permutation(df.index))\n",
    "#df[['review', 'sentiment']].to_csv('shuffled_movie_data.csv', index=False)"
   ]
  },
  {
   "cell_type": "markdown",
   "metadata": {},
   "source": [
    "<br>\n",
    "<br>"
   ]
  },
  {
   "cell_type": "markdown",
   "metadata": {},
   "source": [
    "## Preprocessing Text Data"
   ]
  },
  {
   "cell_type": "markdown",
   "metadata": {},
   "source": [
    "Now, let us define a simple `tokenizer` that splits the text into individual word tokens. Furthermore, we will use some simple regular expression to remove HTML markup and all non-letter characters but \"emoticons,\" convert the text to lower case, remove stopwords, and apply the Porter stemming algorithm to convert the words into their root form."
   ]
  },
  {
   "cell_type": "code",
   "execution_count": 85,
   "metadata": {},
   "outputs": [],
   "source": [
    "from nltk.stem import WordNetLemmatizer\n",
    "\n",
    "wordnet_lemmatizer = WordNetLemmatizer()\n",
    "#stop = stopwords.words('english')\n",
    "#porter = PorterStemmer()\n",
    "\n",
    "def tokenizer(text):\n",
    "    text = re.sub('<[^>]*>', '', text)\n",
    "    emoticons = re.findall('(?::|;|=)(?:-)?(?:\\)|\\(|D|P)', text.lower())\n",
    "    text = re.sub('[\\W]+', ' ', text.lower())\n",
    "    text = [w for w in text.split()]\n",
    "    tokenized = [wordnet_lemmatizer.lemmatize(w) for w in text]\n",
    "    return tokenized"
   ]
  },
  {
   "cell_type": "markdown",
   "metadata": {},
   "source": [
    "Let's give it at try:"
   ]
  },
  {
   "cell_type": "code",
   "execution_count": 86,
   "metadata": {},
   "outputs": [
    {
     "data": {
      "text/plain": [
       "['this', 'is', 'a', 'test']"
      ]
     },
     "execution_count": 86,
     "metadata": {},
     "output_type": "execute_result"
    }
   ],
   "source": [
    "tokenizer('This :) is a <a> test! :-)</br>')\n"
   ]
  },
  {
   "cell_type": "markdown",
   "metadata": {},
   "source": [
    "## Learning (SciKit)"
   ]
  },
  {
   "cell_type": "markdown",
   "metadata": {},
   "source": [
    "First, we define a generator that returns the document body and the corresponding class label:"
   ]
  },
  {
   "cell_type": "code",
   "execution_count": 87,
   "metadata": {},
   "outputs": [],
   "source": [
    "def stream_docs(path):\n",
    "    with open(path, 'r') as csv:\n",
    "        next(csv) # skip header\n",
    "        for line in csv:\n",
    "            text, label = line[:-3], int(line[-2])\n",
    "            yield text, label"
   ]
  },
  {
   "cell_type": "markdown",
   "metadata": {},
   "source": [
    "To conform that the `stream_docs` function fetches the documents as intended, let us execute the following code snippet before we implement the `get_minibatch` function:"
   ]
  },
  {
   "cell_type": "code",
   "execution_count": 88,
   "metadata": {},
   "outputs": [],
   "source": [
    "#next(stream_docs(path='shuffled_movie_data.csv'))"
   ]
  },
  {
   "cell_type": "markdown",
   "metadata": {},
   "source": [
    "After we confirmed that our `stream_docs` functions works, we will now implement a `get_minibatch` function to fetch a specified number (`size`) of documents:"
   ]
  },
  {
   "cell_type": "code",
   "execution_count": 89,
   "metadata": {},
   "outputs": [],
   "source": [
    "def get_minibatch(doc_stream, size):\n",
    "    docs, y = [], []\n",
    "    for _ in range(size):\n",
    "        text, label = next(doc_stream)\n",
    "        docs.append(text)\n",
    "        y.append(label)\n",
    "    return docs, y"
   ]
  },
  {
   "cell_type": "markdown",
   "metadata": {},
   "source": [
    "Next, we will make use of the \"hashing trick\" through scikit-learns [HashingVectorizer](http://scikit-learn.org/stable/modules/generated/sklearn.feature_extraction.text.HashingVectorizer.html) to create a bag-of-words model of our documents. Details of the bag-of-words model for document classification can be found at  [Naive Bayes and Text Classification I - Introduction and Theory](http://arxiv.org/abs/1410.5329)."
   ]
  },
  {
   "cell_type": "code",
   "execution_count": 90,
   "metadata": {},
   "outputs": [],
   "source": [
    "# Exercise 1: define features based on word embeddings (pre-trained word2vec / Glove/Fastext emebddings can be used)\n",
    "# Define suitable d dimension, and sequence length"
   ]
  },
  {
   "cell_type": "code",
   "execution_count": 91,
   "metadata": {},
   "outputs": [],
   "source": [
    "doc_generator = stream_docs(path='shuffled_movie_data.csv')"
   ]
  },
  {
   "cell_type": "code",
   "execution_count": 92,
   "metadata": {},
   "outputs": [],
   "source": [
    "def bag_words(gen, size):\n",
    "    bag    = []\n",
    "    for i, doc in enumerate(gen):\n",
    "        bag += tokenizer(doc[0])\n",
    "        sys.stdout.write('\\r{:5.2f}%'.format(100*(i+1)/50000))\n",
    "    sys.stdout.write('\\rDone     \\n\\n')\n",
    "    print('Bag Size: ', len(bag))\n",
    "    count  = [['UNK', -1]]\n",
    "    count += collections.Counter(bag).most_common(size - 1)\n",
    "    \n",
    "    count  = [(word, cnt) for word, cnt in count if cnt not in [0,1]]\n",
    "    for element in count:\n",
    "        if element[1] == 1:\n",
    "            count.remove(element)\n",
    "    dic    = {}\n",
    "    for i, word in enumerate(count):\n",
    "        dic[word[0]] = i\n",
    "    \n",
    "    return dic , dict(zip(dic.values(), dic.keys()))"
   ]
  },
  {
   "cell_type": "code",
   "execution_count": 93,
   "metadata": {},
   "outputs": [
    {
     "name": "stdout",
     "output_type": "stream",
     "text": [
      "Done     \n",
      "\n",
      "Bag Size:  11772191\n"
     ]
    }
   ],
   "source": [
    "dic, rev_dic = bag_words(doc_generator, 80000) #63069"
   ]
  },
  {
   "cell_type": "code",
   "execution_count": 94,
   "metadata": {},
   "outputs": [],
   "source": [
    "FEATURES = len(dic.keys())"
   ]
  },
  {
   "cell_type": "code",
   "execution_count": 95,
   "metadata": {},
   "outputs": [
    {
     "name": "stdout",
     "output_type": "stream",
     "text": [
      "56325\n"
     ]
    }
   ],
   "source": [
    "print(FEATURES)"
   ]
  },
  {
   "cell_type": "code",
   "execution_count": 96,
   "metadata": {},
   "outputs": [],
   "source": [
    "class OneHotEncoder:\n",
    "    def __init__ (self, rev_dict):\n",
    "        self.size = len(rev_dict.values())\n",
    "        self.dict = rev_dict\n",
    "        \n",
    "    def __repr__ (self):\n",
    "        return ('OneHotEncoder Class (Size = {})'.format(self.n))\n",
    "        \n",
    "    def getVector(self, word):\n",
    "        vec = np.zeros((1, self.size))\n",
    "        vec[0, self.dict[word]] = 1\n",
    "        return vec"
   ]
  },
  {
   "cell_type": "code",
   "execution_count": 97,
   "metadata": {},
   "outputs": [],
   "source": [
    "class DocToVec:\n",
    "    \"\"\"\n",
    "        Convert a list of words to feature vectors:\n",
    "        \n",
    "        Arguments:\n",
    "            \n",
    "            n_features: number of features per vector, by default 6818.\n",
    "            fn        : tokenizer function\n",
    "    \"\"\"\n",
    "    \n",
    "    def __init__(self, dictionary, tokenizer):\n",
    "        self.encoder  = OneHotEncoder(dic) \n",
    "        self.dict     = dictionary\n",
    "        self.features = self.encoder.size\n",
    "        self.fn       = tokenizer\n",
    "        \n",
    "    def transform(self, DocList):\n",
    "        \"\"\"\n",
    "            Transform an array of list of words to a matrix:\n",
    "\n",
    "            Arguments:\n",
    "\n",
    "                DocList: Array of list of reviews\n",
    "\n",
    "            Returns:\n",
    "\n",
    "                Matrix with feature vectors of each review.\n",
    "\n",
    "        \"\"\"\n",
    "    \n",
    "        n   = len(DocList)\n",
    "        vec = np.zeros(shape=(n, self.features), dtype = np.uint8)\n",
    "        \n",
    "        total_time = 0\n",
    "        for idx, strn in enumerate(DocList):\n",
    "            start_time = time.time()\n",
    "            rev_tok    = self.fn(strn)\n",
    "            veci = np.zeros((1, self.features))\n",
    "            for word in rev_tok:\n",
    "                if word in self.dict:\n",
    "                    veci += self.encoder.getVector(word)\n",
    "            vec[idx] = veci\n",
    "            if ((idx+1) % 500 == 0):\n",
    "                elapsed  = time.time() - start_time\n",
    "                total_time += elapsed\n",
    "                total_time /= (idx+1/500)\n",
    "                print('percent = {:4.1f}%, time estimated : {:3.1f} min'.format(100*(idx+1)/n, n*elapsed/60.0))\n",
    "        return vec       "
   ]
  },
  {
   "cell_type": "code",
   "execution_count": 98,
   "metadata": {},
   "outputs": [],
   "source": [
    "encoder = DocToVec(dic, tokenizer)"
   ]
  },
  {
   "cell_type": "code",
   "execution_count": 99,
   "metadata": {},
   "outputs": [
    {
     "name": "stdout",
     "output_type": "stream",
     "text": [
      "the                  :  23 times\n",
      "of                   :  12 times\n",
      "in                   :  10 times\n",
      "a                    :  10 times\n",
      "and                  :   8 times\n",
      "wa                   :   6 times\n",
      "to                   :   6 times\n",
      "murder               :   5 times\n",
      "with                 :   4 times\n",
      "is                   :   4 times\n"
     ]
    }
   ],
   "source": [
    "l = encoder.transform([df.head().values[0][0]])\n",
    "\n",
    "FirstReview = []\n",
    "for i in range(FEATURES):\n",
    "    if l[0][i] != 0:\n",
    "        FirstReview.append((rev_dic[i], int(l[0][i])))\n",
    "\n",
    "FirstReview.sort(key=lambda x: x[1])\n",
    "\n",
    "FirstReview = FirstReview[::-1]\n",
    "for i in range(10):\n",
    "    print('{:20} : {:3} times'.format(FirstReview[i][0], FirstReview[i][1]))"
   ]
  },
  {
   "cell_type": "code",
   "execution_count": 23,
   "metadata": {},
   "outputs": [],
   "source": [
    "# Uncomment these lines if you don't save 'vec_data_X' and 'vec_data_y':\n",
    "#stream = stream_docs(path='shuffled_movie_data.csv')\n",
    "\n",
    "#X_train, y_train = get_minibatch(stream, size=50000)\n",
    "#y_train = np.asarray(y_train).reshape((-1, 1))\n",
    "\n",
    "#X_train = encoder.transform(X_train)\n",
    "\n",
    "#np.save('vec_data_X', X_train)\n",
    "#np.save('vec_data_y', y_train)"
   ]
  },
  {
   "cell_type": "code",
   "execution_count": 67,
   "metadata": {},
   "outputs": [],
   "source": [
    "X_train = np.load('vec_data_X.npy')\n",
    "y_train = np.load('vec_data_y.npy')"
   ]
  },
  {
   "cell_type": "code",
   "execution_count": 68,
   "metadata": {},
   "outputs": [
    {
     "name": "stdout",
     "output_type": "stream",
     "text": [
      "(50000, 56325)\n",
      "(50000, 1)\n"
     ]
    }
   ],
   "source": [
    "from sklearn.preprocessing import normalize\n",
    "\n",
    "print(X_train.shape)\n",
    "print(y_train.shape)"
   ]
  },
  {
   "cell_type": "markdown",
   "metadata": {},
   "source": [
    "I think that the predictive performance, an accuracy of ~87%, is quite \"reasonable\" given that we \"only\" used the default parameters and didn't do any hyperparameter optimization. \n",
    "\n",
    "After we estimated the model perfomance, let us use those last 5,000 test samples to update our model."
   ]
  },
  {
   "cell_type": "code",
   "execution_count": null,
   "metadata": {},
   "outputs": [],
   "source": [
    "# Exercise 2: Define at least a Three layer neural network. Define its structure (number of hidden neurons, etc)\n",
    "# Define a nonlinear function for hidden layers.\n",
    "# Define a suitable loss function for binary classification\n",
    "# Implement the backpropagation algorithm for this structure\n",
    "# Do not use Keras / Tensorflow /PyTorch etc. libraries\n",
    "# Train the model using SGD"
   ]
  },
  {
   "cell_type": "code",
   "execution_count": 69,
   "metadata": {},
   "outputs": [],
   "source": [
    "class Multilayer:\n",
    "    \"\"\"\n",
    "        Logistic Regression with L1 and L2 regularization\n",
    "        \n",
    "        Arguments:\n",
    "                \n",
    "                alpha   : Learning Rate\n",
    "                l1_coef : Lambda 1\n",
    "                l2_coef : Lambda 2\n",
    "            \n",
    "    \"\"\"\n",
    "    \n",
    "    def __init__ (self, input_size, hid_units1, hid_units2, lr, lambda_1, lambda_2):\n",
    "        self.W1      = np.random.randn(input_size, hid_units1) * np.sqrt(1/input_size)\n",
    "        self.b1      = np.zeros((1, hid_units1))\n",
    "        self.W2      = np.random.randn(hid_units1, hid_units2) * np.sqrt(1/hid_units1)\n",
    "        self.b2      = np.zeros((1, hid_units2))\n",
    "        self.W3      = np.random.randn(hid_units2,          1) * np.sqrt(1/hid_units2)\n",
    "        self.b3      = 0.0\n",
    "        self.lr      = lr\n",
    "        self.l1_coef = lambda_1\n",
    "        self.l2_coef = lambda_2\n",
    "        \n",
    "    def ReLU(self, z):\n",
    "        return np.maximum(0, z)\n",
    "    \n",
    "    def TangH(self, z):\n",
    "        return (np.exp(z) - np.exp(-z))/(np.exp(z) + np.exp(-z) + 1e-8)\n",
    "    \n",
    "    def deltaTangH(self, z):\n",
    "        return 4 * np.exp(z) * np.exp(-z)/(np.exp(z) + np.exp(-z)+ 1e-8)**2\n",
    "    \n",
    "    def sigmoid(self,z):\n",
    "        \"\"\"\n",
    "            Activation function\n",
    "            \n",
    "            Arguments:  \n",
    "                z : W*X + b\n",
    "                \n",
    "            Returns:\n",
    "                sigmoid function of z.\n",
    "                \n",
    "        \"\"\"\n",
    "        return 1 / (1 + np.exp(-z))\n",
    "    \n",
    "    def deltaCost(self, y, y_hat):\n",
    "        return y_hat - y\n",
    "        \n",
    "    def pred(self, X):\n",
    "        \"\"\"\n",
    "            Given a X matrix as a input we return the prediction for\n",
    "            W and b.\n",
    "            \n",
    "            Args:\n",
    "                X : Matrix of features vectors for each review\n",
    "            \n",
    "            Returns:\n",
    "                Prediction without a threshold\n",
    "        \"\"\"\n",
    "        Z1 = np.dot(X , self.W1) + self.b1\n",
    "        A1 = self.TangH(Z1)\n",
    "        Z2 = np.dot(A1, self.W2) + self.b2\n",
    "        A2 = self.TangH(Z2)   \n",
    "        Z3 = np.dot(A2, self.W3) + self.b3\n",
    "        A3 = self.sigmoid(Z3)          \n",
    "        return A3\n",
    "\n",
    "    def predSentiment(self, X):\n",
    "        \"\"\"\n",
    "            Given a X matrix as a input we return the prediction with threshold \n",
    "            for W and b.\n",
    "            \n",
    "            Args:\n",
    "                X : Matrix of features vectors for each review\n",
    "            \n",
    "            Returns:\n",
    "                Prediction with threshold\n",
    "        \"\"\"\n",
    "        return self.pred(X) > 0.5\n",
    "    \n",
    "    def acc(self, X, y):\n",
    "        \"\"\"\n",
    "            Accuracy of a input and label\n",
    "            \n",
    "            Args:\n",
    "                X: Matrix of features vectors for each review\n",
    "                y: Labels of each Matrix\n",
    "            \n",
    "            Returns:\n",
    "                A number between 0 and 1.0\n",
    "        \"\"\"\n",
    "        \n",
    "        return np.mean(self.predSentiment(X) == y)\n",
    "    \n",
    "    def getCost(self,y, y_hat):\n",
    "        \"\"\"\n",
    "            Cost function\n",
    "            \n",
    "                Cost = - [y * log(sigma(W*X + b)) + (1 - y) * log(1 - sigma(W*X + b))] \n",
    "                         + 0.5 * l2_ratio * ||w||^2_2 \n",
    "                         + l1_ratio * ||w||_1 \n",
    "            \n",
    "            Args:\n",
    "                X: Matrix of features vectors for each review\n",
    "                y: Labels of each Matrix\n",
    "                \n",
    "            Returns:\n",
    "                Cost using L1 and L2 regularizations \n",
    "                \n",
    "        \"\"\"\n",
    "        y_hat = np.clip(y_hat, 1e-8, 1 - 1e-8)\n",
    "        cost  = - 0.5 * np.mean(np.multiply(y  , np.log(y_hat     + 1e-5))\n",
    "                             + np.multiply(1-y , np.log(1 - y_hat + 1e-5)))\n",
    "        \n",
    "        cost += 0.5 * self.l2_coef * np.sum(np.square(self.W1)) + self.l1_coef * np.sum(np.abs(self.W1)) \n",
    "        cost += 0.5 * self.l2_coef * np.sum(np.square(self.W2)) + self.l1_coef * np.sum(np.abs(self.W2))\n",
    "        \n",
    "        return cost \n",
    "    \n",
    "    def Propagation(self, X, y):\n",
    "        # Forward Propagation\n",
    "        \n",
    "        Z1 = np.dot(X , self.W1) + self.b1\n",
    "        A1 = self.TangH(Z1)\n",
    "        Z2 = np.dot(A1, self.W2) + self.b2\n",
    "        A2 = self.TangH(Z2)\n",
    "        Z3 = np.dot(A2, self.W3) + self.b3\n",
    "        A3 = self.sigmoid(Z3)\n",
    "        cost   = self.getCost(y, A3)        \n",
    "        d_cost = self.deltaCost(y, A3)\n",
    "        \n",
    "        # Backward Propagation\n",
    "        \n",
    "        dW3     = np.dot(A2.T, d_cost)\n",
    "        db3     = np.sum(d_cost, axis=0, keepdims=True) \n",
    "        \n",
    "        # Hidden Layer 2\n",
    "        dhidden2 = np.dot(d_cost, self.W3.T)\n",
    "        \n",
    "        # The TangH derivative\n",
    "        dG2 = self.deltaTangH(Z2)\n",
    "        #dhidden[A1 <= 0] = 0\n",
    "        assert(dG2.shape == dhidden2.shape)\n",
    "        dhidden2 = dG2 * dhidden2\n",
    "        # Second Layer\n",
    "        dW2  = np.matmul(A1.T, dhidden2)\n",
    "        db2  = np.sum(dhidden2, axis=0, keepdims=True)        \n",
    "    \n",
    "        # Hidden Layer 3\n",
    "        dhidden1 = np.dot(dhidden2, self.W2.T)\n",
    "        \n",
    "        # The TangH derivative\n",
    "        dG1 = self.deltaTangH(Z1)\n",
    "        #dhidden[A1 <= 0] = 0\n",
    "        assert(dG1.shape == dhidden1.shape)\n",
    "        dhidden1 = dG1 * dhidden1\n",
    "        # First Layer\n",
    "        dW1  = np.matmul(X.T, dhidden1)\n",
    "        db1  = np.sum(dhidden1, axis=0, keepdims=True)  \n",
    "        \n",
    "        # Regularization L2\n",
    "        dW1 += self.l2_coef * self.W1\n",
    "        dW2 += self.l2_coef * self.W2\n",
    "        dW3 += self.l2_coef * self.W3\n",
    "\n",
    "        # Regularization L1\n",
    "        dW1 += self.l1_coef * np.multiply(self.W1, 1 / np.abs(self.W1))\n",
    "        dW2 += self.l1_coef * np.multiply(self.W2, 1 / np.abs(self.W2))\n",
    "        dW3 += self.l1_coef * np.multiply(self.W3, 1 / np.abs(self.W3))  \n",
    "        \n",
    "        assert(dW1.shape == self.W1.shape)\n",
    "        assert(db1.dtype == float)\n",
    "        assert(dW2.shape == self.W2.shape)\n",
    "        assert(db2.dtype == float)\n",
    "        assert(dW3.shape == self.W3.shape)\n",
    "        assert(db3.dtype == float)\n",
    "        \n",
    "        grads = { \n",
    "                 \"dW1\" : dW1,\n",
    "                 \"db1\" : db1,\n",
    "                 \"dW2\" : dW2,\n",
    "                 \"db2\" : db2,   \n",
    "                 \"dW3\" : dW3,\n",
    "                 \"db3\" : db3   \n",
    "        }\n",
    "        \n",
    "        return grads, cost\n",
    "    \n",
    "    def train(self, X, y):\n",
    "        \"\"\"\n",
    "            function to minimize the Cost\n",
    "            \n",
    "            Args:\n",
    "                X: Matrix of features vectors for each review\n",
    "                y: Labels of each Matrix\n",
    "            \n",
    "        \"\"\"\n",
    "        \n",
    "        grads, cost = self.Propagation(X, y)\n",
    "        \n",
    "        dW1 = grads[\"dW1\"]\n",
    "        db1 = grads[\"db1\"]\n",
    "        dW2 = grads[\"dW2\"]\n",
    "        db2 = grads[\"db2\"]        \n",
    "        dW3 = grads[\"dW3\"]\n",
    "        db3 = grads[\"db3\"]\n",
    "        \n",
    "        self.W1 = self.W1 - dW1 * self.lr\n",
    "        self.b1 = self.b1 - db1 * self.lr\n",
    "        self.W2 = self.W2 - dW2 * self.lr\n",
    "        self.b2 = self.b2 - db2 * self.lr\n",
    "        self.W3 = self.W3 - dW3 * self.lr\n",
    "        self.b3 = self.b3 - db3 * self.lr        \n",
    "        \n",
    "        return cost"
   ]
  },
  {
   "cell_type": "code",
   "execution_count": 107,
   "metadata": {},
   "outputs": [],
   "source": [
    "n, m = X_train.shape\n",
    "net  = Multilayer(input_size=m, hid_units1=10, hid_units2=2, lr=5e-4, lambda_1=1e-8, lambda_2=1e-8)"
   ]
  },
  {
   "cell_type": "code",
   "execution_count": 108,
   "metadata": {},
   "outputs": [],
   "source": [
    "def train_model(X, y, batch1, batch2, iterations, stepplot):\n",
    "\n",
    "    X_data_train = X[:30000]\n",
    "    y_data_train = y[:30000]\n",
    "\n",
    "    X_data_valid = X[30000:40000]\n",
    "    y_data_valid = y[30000:40000]\n",
    "\n",
    "    X_data_test  = X[40000:]\n",
    "    y_data_test  = y[40000:]\n",
    "\n",
    "    fmt    = '{:3d} epoch: {:3.2f} ep/min, loss_train = {:5.4f}, loss_val = {:5.4f}, acc_train = {:4.3f}, acc_test = {:4.3f}'\n",
    "\n",
    "\n",
    "    train_epoch     = []\n",
    "    valid_epoch     = []\n",
    "    acc_train_epoch = []\n",
    "    acc_test_epoch  = []\n",
    "    train_elem      = []\n",
    "\n",
    "    for i in range(iterations):\n",
    "        loss_t  = 0.0\n",
    "        n_batch = X_data_train.shape[0]/batch1\n",
    "        st = time.time()\n",
    "\n",
    "        for i_batch in range(0,X_data_train.shape[0], batch1):\n",
    "            X_batch  = X_data_train[i_batch:i_batch + batch1]\n",
    "            y_batch  = y_data_train[i_batch:i_batch + batch1]\n",
    "            loss_tmp = net.train(X_batch , y_batch)\n",
    "            loss_t  += loss_tmp\n",
    "            \n",
    "\n",
    "            if i_batch  % stepplot == 0:\n",
    "                train_elem.append(loss_tmp)\n",
    "                print('-> element : [{:5d}], loss_temp = {:5.4f}'.format(i_batch, loss_tmp))\n",
    "\n",
    "        if (i+1)%1 == 0:\n",
    "            train_epoch.append(loss_t/n_batch)\n",
    "            acc_train = 0\n",
    "            for i_batch in range(0,X_data_train.shape[0], batch1):\n",
    "                X_batch_   = X_data_train[i_batch:i_batch + batch1]\n",
    "                y_batch_   = y_data_train[i_batch:i_batch + batch1]\n",
    "                acc_train += net.acc(X_batch_, y_batch_)\n",
    "\n",
    "            acc_train_epoch.append(acc_train/n_batch)\n",
    "            loss_valid = 0\n",
    "            acc_test   = 0\n",
    "\n",
    "            v_batch = X_data_valid.shape[0]/batch2\n",
    "            for i_batch in range(0,X_data_valid.shape[0], batch2):\n",
    "                X_batch_v = X_data_valid[i_batch:i_batch + batch2]\n",
    "                y_batch_v = y_data_valid[i_batch:i_batch + batch2]\n",
    "\n",
    "                y_hat_batch_v = net.pred(X_batch_v)\n",
    "                loss_valid   += net.getCost(y_batch_v, y_hat_batch_v)\n",
    "\n",
    "                X_batch_t = X_data_test[i_batch:i_batch + batch2]\n",
    "                y_batch_t = y_data_test[i_batch:i_batch + batch2]\n",
    "\n",
    "                acc_test += net.acc(X_batch_t, y_batch_t)\n",
    "            valid_epoch.append(loss_valid/v_batch)\n",
    "            acc_test_epoch.append(acc_test/v_batch)\n",
    "            dt   = time.time() - st\n",
    "            print(fmt.format((i+1), 60/dt,\n",
    "                                    loss_t/n_batch, \n",
    "                                    loss_valid/v_batch,\n",
    "                                    acc_train/n_batch,\n",
    "                                    acc_test/v_batch))\n",
    "    \n",
    "    history = {\n",
    "                \"loss_temp\" : train_elem,\n",
    "                \"loss_epoch\": train_epoch,\n",
    "                \"loss_valid\": valid_epoch,\n",
    "                \"acc_train\" :acc_train_epoch,\n",
    "                \"acc_test\"  :acc_test_epoch\n",
    "                }\n",
    "    \n",
    "    return history"
   ]
  },
  {
   "cell_type": "code",
   "execution_count": null,
   "metadata": {},
   "outputs": [
    {
     "name": "stdout",
     "output_type": "stream",
     "text": [
      "-> element : [    0], loss_temp = 0.3527\n"
     ]
    }
   ],
   "source": [
    "its   = 4\n",
    "btch1 = 1\n",
    "step  = 500\n",
    "history = train_model(X=X_train, y=y_train, batch1=btch1, batch2=100, iterations=its,stepplot=step)"
   ]
  },
  {
   "cell_type": "code",
   "execution_count": 83,
   "metadata": {},
   "outputs": [
    {
     "data": {
      "image/png": "[encoded data removed]",
      "text/plain": [
       "<Figure size 1008x576 with 1 Axes>"
      ]
     },
     "metadata": {
      "needs_background": "light"
     },
     "output_type": "display_data"
    }
   ],
   "source": [
    "btch1 = 1\n",
    "loss_t = history['loss_temp']\n",
    "\n",
    "it     = [i*step for i in range(len(loss_t))]\n",
    "\n",
    "fig, ax = plt.subplots(figsize=(14, 8))\n",
    "lt      = ax.plot(it, loss_t)\n",
    "ax.set(xlabel='Review Number', ylabel='Cost', title='Multilayer with L1 and L2 regularization')\n",
    "ax.axis([0, len(loss_t)*step  + 0.5, 0.0, 2.8])\n",
    "#plt.legend([lt],[\"Training\"])\n",
    "plt.show()"
   ]
  },
  {
   "cell_type": "code",
   "execution_count": 357,
   "metadata": {},
   "outputs": [
    {
     "data": {
      "image/png": "[encoded data removed]",
      "text/plain": [
       "<Figure size 1008x576 with 1 Axes>"
      ]
     },
     "metadata": {
      "needs_background": "light"
     },
     "output_type": "display_data"
    }
   ],
   "source": [
    "ep = np.arange(1, it + 1, 1)\n",
    "\n",
    "fig, ax = plt.subplots(figsize=(14, 8))\n",
    "l1 , l2   = ax.plot(ep, train_epoch, ep, valid_epoch)\n",
    "ax.set(xlabel='Epoch', ylabel='Cost', title='Logistic Regression with L1 and L2 regularization')\n",
    "ax.axis([0.8, 4 + 0.5, 0.1, 0.8])\n",
    "plt.legend([l1, l2],[\"Training\",\"Validation\"])\n",
    "plt.show()"
   ]
  },
  {
   "cell_type": "code",
   "execution_count": 330,
   "metadata": {},
   "outputs": [
    {
     "data": {
      "image/png": "[encoded data removed]",
      "text/plain": [
       "<Figure size 1008x576 with 1 Axes>"
      ]
     },
     "metadata": {
      "needs_background": "light"
     },
     "output_type": "display_data"
    }
   ],
   "source": [
    "fig, ax = plt.subplots(figsize=(14, 8))\n",
    "\n",
    "l3, l4  = ax.plot(ep, acc_train_epoch, ep, acc_test_epoch)\n",
    "ax.set(xlabel='Epoch', ylabel='Accuracy', title='Multiple Layer Perceptron')\n",
    "\n",
    "plt.legend([l3, l4],[\"Train Accuracy\", \"Test Accuracy\"])\n",
    "plt.show()"
   ]
  },
  {
   "cell_type": "markdown",
   "metadata": {
    "collapsed": true
   },
   "source": [
    "# Model Persistence"
   ]
  },
  {
   "cell_type": "markdown",
   "metadata": {},
   "source": [
    "In the previous section, we successfully trained a model to predict the sentiment of a movie review. Unfortunately, if we'd close this IPython notebook at this point, we'd have to go through the whole learning process again and again if we'd want to make a prediction on \"new data.\"\n",
    "\n",
    "So, to reuse this model, we could use the [`pickle`](https://docs.python.org/3.5/library/pickle.html) module to \"serialize a Python object structure\". Or even better, we could use the [`joblib`](https://pypi.python.org/pypi/joblib) library, which handles large NumPy arrays more efficiently.\n",
    "\n",
    "To install:\n",
    "conda install -c anaconda joblib"
   ]
  },
  {
   "cell_type": "code",
   "execution_count": 100,
   "metadata": {},
   "outputs": [
    {
     "data": {
      "text/plain": [
       "['./net.pkl']"
      ]
     },
     "execution_count": 100,
     "metadata": {},
     "output_type": "execute_result"
    }
   ],
   "source": [
    "#Exercise 3: compare  with your Neural Network\n",
    "\n",
    "import joblib\n",
    "import os\n",
    "#if not os.path.exists('./pkl_objects'):\n",
    "#    os.mkdir('./pkl_objects')\n",
    "    \n",
    "joblib.dump(encoder, './encoder.pkl')\n",
    "joblib.dump(net,'./net.pkl')"
   ]
  },
  {
   "cell_type": "markdown",
   "metadata": {},
   "source": [
    "Now, let us restart this IPython notebook and check if the we can load our serialized objects:"
   ]
  },
  {
   "cell_type": "code",
   "execution_count": 101,
   "metadata": {},
   "outputs": [],
   "source": [
    "vectorizer = joblib.load('./encoder.pkl')\n",
    "model      = joblib.load('./net.pkl')"
   ]
  },
  {
   "cell_type": "markdown",
   "metadata": {},
   "source": [
    "After loading the `tokenizer`, `HashingVectorizer`, and the tranined logistic regression model, we can use it to make predictions on new data, which can be useful, for example, if we'd want to embed our classifier into a web application -- a topic for another IPython notebook."
   ]
  },
  {
   "cell_type": "code",
   "execution_count": 102,
   "metadata": {},
   "outputs": [
    {
     "data": {
      "text/plain": [
       "array([[ True]])"
      ]
     },
     "execution_count": 102,
     "metadata": {},
     "output_type": "execute_result"
    }
   ],
   "source": [
    "example = ['I loved this movie']\n",
    "X = vectorizer.transform(example)\n",
    "\n",
    "model.predSentiment(X)"
   ]
  },
  {
   "cell_type": "code",
   "execution_count": 103,
   "metadata": {},
   "outputs": [
    {
     "data": {
      "text/plain": [
       "array([[ True]])"
      ]
     },
     "execution_count": 103,
     "metadata": {},
     "output_type": "execute_result"
    }
   ],
   "source": [
    "example = ['This movie was great!']\n",
    "X = vectorizer.transform(example)\n",
    "\n",
    "model.predSentiment(X)"
   ]
  },
  {
   "cell_type": "code",
   "execution_count": 104,
   "metadata": {},
   "outputs": [
    {
     "data": {
      "text/plain": [
       "array([[False]])"
      ]
     },
     "execution_count": 104,
     "metadata": {},
     "output_type": "execute_result"
    }
   ],
   "source": [
    "example = [\"I didn't like this movie\"]\n",
    "X = vectorizer.transform(example)\n",
    "\n",
    "model.predSentiment(X)"
   ]
  },
  {
   "cell_type": "code",
   "execution_count": 105,
   "metadata": {},
   "outputs": [
    {
     "data": {
      "text/plain": [
       "array([[False]])"
      ]
     },
     "execution_count": 105,
     "metadata": {},
     "output_type": "execute_result"
    }
   ],
   "source": [
    "example = ['I did not like this movie']\n",
    "X = vectorizer.transform(example)\n",
    "\n",
    "model.predSentiment(X)"
   ]
  },
  {
   "cell_type": "code",
   "execution_count": 106,
   "metadata": {},
   "outputs": [
    {
     "data": {
      "text/plain": [
       "array([[False]])"
      ]
     },
     "execution_count": 106,
     "metadata": {},
     "output_type": "execute_result"
    }
   ],
   "source": [
    "example = [\"I don't this movie\"]\n",
    "X = vectorizer.transform(example)\n",
    "\n",
    "model.predSentiment(X)"
   ]
  }
 ],
 "metadata": {
  "kernelspec": {
   "display_name": "Python 3",
   "language": "python",
   "name": "python3"
  },
  "language_info": {
   "codemirror_mode": {
    "name": "ipython",
    "version": 3
   },
   "file_extension": ".py",
   "mimetype": "text/x-python",
   "name": "python",
   "nbconvert_exporter": "python",
   "pygments_lexer": "ipython3",
   "version": "3.5.2"
  }
 },
 "nbformat": 4,
 "nbformat_minor": 1
}
